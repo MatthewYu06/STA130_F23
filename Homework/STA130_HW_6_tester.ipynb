{
 "cells": [
  {
   "attachments": {},
   "cell_type": "markdown",
   "id": "aa1e99a5",
   "metadata": {
    "deletable": false
   },
   "source": [
    "# Coding Homework 6: [Your Name]\n",
    "\n",
    "Go through this notebook, following the instructions! \n",
    "\n",
    "> TAs will mark this assignment by checking ***MarkUs*** autotests; and, by manually reviewing the written responses to questions `Q11`"
   ]
  },
  {
   "attachments": {},
   "cell_type": "markdown",
   "id": "9fbb0423",
   "metadata": {
    "deletable": false
   },
   "source": [
    "## Social Media and Anxiety\n",
    "\n",
    "There have been many questions regarding whether or not usage of social media increases anxiety levels. For example, do  TikTok and Facebook posts create an unattainable sense of life success and satisfaction?  Does procrastinating by watching YouTube videos or reading Twitter posts contribute unnecessary stress from deadline pressure? A study was conducted to examine the relationship between social media usage and student anxiety. Students were asked to categorize their social media usage as \"High\" if it exceeded more than 2 hours per day, and then student anxiety levels where scored through as series of questions, with higher scores suggesting higher student anxiety."
   ]
  },
  {
   "cell_type": "code",
   "execution_count": null,
   "id": "68cc11e2",
   "metadata": {
    "deletable": false
   },
   "outputs": [],
   "source": [
    "import pandas as pd\n",
    "import numpy as np\n",
    "\n",
    "# The `numpy.repeat` function replicates elements, you can see what it does here\n",
    "social_media_usage = np.repeat([\"Low\", \"High\"], [30, 16])\n",
    "anxiety_scores = [24.64, 39.29, 16.32, 32.83, 28.02, \n",
    "                   33.31, 20.60, 21.13, 26.69, 28.90,\n",
    "                   26.43, 24.23, 7.10,  32.86, 21.06,\n",
    "                   28.89, 28.71, 31.73, 30.02, 21.96,\n",
    "                   25.49, 38.81, 27.85, 30.29, 30.72,\n",
    "                   21.43, 22.24, 11.12, 30.86, 19.92,\n",
    "                   33.57, 34.09, 27.63, 31.26,\n",
    "                   35.91, 26.68, 29.49, 35.32,\n",
    "                   26.24, 32.34, 31.34, 33.53,\n",
    "                   27.62, 42.91, 30.20, 32.54]\n",
    "anxiety_data = pd.DataFrame({'anxiety_scores': anxiety_scores, 'social_media_usage': social_media_usage})\n",
    "anxiety_data\n"
   ]
  },
  {
   "attachments": {},
   "cell_type": "markdown",
   "id": "c6c7e5b9",
   "metadata": {
    "deletable": false
   },
   "source": [
    "### Q0: What is the NULL hypotheses $H_0$ in terms of $Median_{High}$ and $Median_{Low}$? In simple terms, what is the claim of the NULL hypothesis? What is $H_1$ in terms of $H_0$?  \n",
    "#### Provide your written answer in the markdown cell below.\n",
    "- You can compare your answer with the example solution provided by MarkUs"
   ]
  },
  {
   "attachments": {},
   "cell_type": "markdown",
   "id": "479e73e0",
   "metadata": {
    "deletable": false
   },
   "source": [
    "#### Hint:\n",
    "A formal NULL hypotheses that the means of two groups are the same would be $H_0: \\mu_{High} = \\mu_{Low}$."
   ]
  },
  {
   "attachments": {},
   "cell_type": "markdown",
   "id": "5af87b2b",
   "metadata": {
    "deletable": false
   },
   "source": [
    "> Answer here..."
   ]
  },
  {
   "cell_type": "code",
   "execution_count": null,
   "id": "1b09d34a",
   "metadata": {},
   "outputs": [],
   "source": [
    "fifty_h = \"50%\\u2095\"\n",
    "fifty_l = \"50%\\u2097\"\n",
    "\n",
    "hint = \"\\n\\nAUTOMATICALLY FAILING AUTOTEST: DOES NOT COUNT AGAINST STUDENT\\nIncluded as an example answer for feedback purposes only\\n\\n\"\n",
    "hint += \"For \\\"High\\\" social media usage population H and \\\"Low\\\" social media usage population L with medians \" + fifty_h + \" and \" + fifty_l\n",
    "hint += \", respectively.\\n\\n\"\n",
    "hint += \"Null hypothesis in LaTeX:\"\n",
    "hint += ''' \n",
    "$\n",
    "H_0: \\\\text{50\\%}_{\\\\text{H}} = \\\\text{50\\%}_{\\\\text{L}} \\\\\\\\\n",
    "H_1: \\\\text{50\\%}_{\\\\text{H}} \\\\neq \\\\text{50\\%}_{\\\\text{L}}\n",
    "$\n",
    "'''"
   ]
  },
  {
   "cell_type": "code",
   "execution_count": null,
   "id": "53b68ab7",
   "metadata": {},
   "outputs": [],
   "source": [
    "# test_Q0\n",
    "assert False, hint"
   ]
  },
  {
   "attachments": {},
   "cell_type": "markdown",
   "id": "2eaf8950",
   "metadata": {
    "deletable": false
   },
   "source": [
    "### Q1: Revisit your statements regarding the NULL hypotheses above with confounding in mind; namely, since social media usage is a self selecting process, perhaps social media users are already more anxious people on average regardless of their social media usage.  If we make a determination about the NULL hypothesis are we actually addressing the question of \"whether or not usage of social media increases anxiety levels\"? Or are we just using a hypothesis test to examine if there is an observable difference between the two groups (regardless of its causes)?  \n",
    "\n",
    "A. Neither, we are checking if confounding impacts our determination of \"whether or not usage of social media increases anxiety levels\"  \n",
    "B. We actually addressing the question of \"whether or not usage of social media increases anxiety levels\"   \n",
    "C. We are just using a hypothesis test to examine if there is an observable difference between the two groups (regardless of its causes)  \n",
    "D.  We cannot determine any of the above from a two-sample hypothesis test  "
   ]
  },
  {
   "cell_type": "code",
   "execution_count": null,
   "id": "2ef4a6a6",
   "metadata": {
    "deletable": false
   },
   "outputs": [],
   "source": [
    "# Q1: your answer will be tested!\n",
    "Q1 = None  # Assign either 'A' or 'B' or 'C' or 'D' to `Q1` instead of `None`\n",
    "# E.g., Q1 = 'A'"
   ]
  },
  {
   "cell_type": "code",
   "execution_count": null,
   "id": "ff0c8a07",
   "metadata": {},
   "outputs": [],
   "source": [
    "hint = \"Hint\\Explanation: The null hypothesis is a statement of equivalence between the two groups, so a two-sample hypothesis could provide evidence against the null, which would be an observable difference between the two groups, or fail to provide evidence against the null, which would be no observable difference. The null hypothesis tells us nothing about any cause.\""
   ]
  },
  {
   "cell_type": "code",
   "execution_count": null,
   "id": "51d64b30",
   "metadata": {},
   "outputs": [],
   "source": [
    "# test_Q1\n",
    "assert Q1 == 'C', hint"
   ]
  },
  {
   "attachments": {},
   "cell_type": "markdown",
   "id": "90b6a5b2",
   "metadata": {
    "deletable": false
   },
   "source": [
    "### Q2: Construct boxplots of `anxiety_score` for the two levels of social media usage, and write 2-3 sentences describing and comparing the distributions of anxiety scores across the social media usage groups.  \n",
    "#### Provide your written answer in the markdown cell below.\n",
    "- You can compare your answer with the example solution provided by MarkUs"
   ]
  },
  {
   "cell_type": "code",
   "execution_count": null,
   "id": "7e8211ff",
   "metadata": {
    "deletable": false
   },
   "outputs": [],
   "source": [
    "# Code your solution here\n",
    "import plotly.express as px"
   ]
  },
  {
   "attachments": {},
   "cell_type": "markdown",
   "id": "56ae8370",
   "metadata": {
    "deletable": false
   },
   "source": [
    "> Answer here..."
   ]
  },
  {
   "cell_type": "code",
   "execution_count": null,
   "id": "1f0e7af8",
   "metadata": {},
   "outputs": [],
   "source": [
    "hint = \"\\n\\nAUTOMATICALLY FAILING AUTOTEST: DOES NOT COUNT AGAINST STUDENT\\n\"\n",
    "hint += \"Included as an example answer for feedback purposes only\\n\\n\"\n",
    "hint += \"CODE:\\n\"\n",
    "hint += '''\n",
    "import plotly.express as px\n",
    "fig = px.box(anxiety_data, x='anxiety_scores', y = 'social_media_usage')\n",
    "fig.show()\n",
    "'''\n",
    "hint += \"\\n\\nWRITTEN SOLUTION:\\n\"\n",
    "hint += \"There indeed appears to be a clear difference in anxiety between \\\"Low\\\" and \\\"High\\\" social media usage groups, \\\n",
    "with the median of the \\\"High\\\" exceeding the 75th percentile of \\\"Low\\\".  For the \\\"High\\\" social media usage group, the anxiety scores \\\n",
    "are much more concentrated around high (>30) anxiety scores with a tighter spread; whereas, for the \\\"Low\\\" social media usage group, \\\n",
    "the anxiety scores are much more highly variable, with the upper 50% of anxiety scores in the \\\"Low\\\" social media usage group \\\n",
    "overlapping or even exceeding some scores in the \\\"High\\\" social media usage group, and most of the lower 50% of anxiety scores in the \\\"Low\\\" \\\n",
    "social media usage group being less than those in the \\\"High\\\" social media usage group.\""
   ]
  },
  {
   "cell_type": "code",
   "execution_count": null,
   "id": "ce3022e3",
   "metadata": {},
   "outputs": [],
   "source": [
    "# test_Q2\n",
    "assert False, hint"
   ]
  },
  {
   "attachments": {},
   "cell_type": "markdown",
   "id": "b4d71493",
   "metadata": {
    "deletable": false
   },
   "source": [
    "### Q3: What do these data visually suggest regarding the claim that the ***median*** anxiety level is different for those who use social media in high frequency compared to those who use social media in lower frequency? \n",
    "\n",
    "A. The median anxiety level is likely higher for low frequency social media users compared to higher frequency social media users.  \n",
    "B. We cannot say, since the groups are shuffled and we do not know the proportion of high frequency or lower frequency social media users in each group.    \n",
    "C. The median anxiety level is likely the same for low frequency social media users compared to higher frequency social media users.  \n",
    "D. The median anxiety level is likely higher for high frequency social media users compared to lower frequency social media users."
   ]
  },
  {
   "cell_type": "code",
   "execution_count": null,
   "id": "21826f8b",
   "metadata": {
    "deletable": false
   },
   "outputs": [],
   "source": [
    "# Q3: your answer will be tested!\n",
    "Q3 = None  # Assign either 'A' or 'B' or 'C' or 'D' to `Q3` instead of `None`\n",
    "# E.g., Q3 = 'A'"
   ]
  },
  {
   "cell_type": "code",
   "execution_count": null,
   "id": "35c910ac",
   "metadata": {},
   "outputs": [],
   "source": [
    "hint = \"Hint/Explanation: On each box in the boxplot, the left side is the 25th percentile, the middle line is the 50th percentile while the right side is the 75th percentile. Keep in mind this is our given data, which we have not sampled from yet.\""
   ]
  },
  {
   "cell_type": "code",
   "execution_count": null,
   "id": "08440bdc",
   "metadata": {},
   "outputs": [],
   "source": [
    "# test_Q3\n",
    "assert Q3 == 'D', hint"
   ]
  },
  {
   "attachments": {},
   "cell_type": "markdown",
   "id": "88c551c2",
   "metadata": {
    "deletable": false
   },
   "source": [
    "### Q4: Look at the code below and write a few sentences explaining what the code inside the for loop is doing and why.  \n",
    "#### Provide your written answer in the markdown cell below.\n",
    "- You can compare your answer with the example solution provided by MarkUs"
   ]
  },
  {
   "attachments": {},
   "cell_type": "markdown",
   "id": "08324cb1",
   "metadata": {
    "deletable": false
   },
   "source": [
    "> Answer here..."
   ]
  },
  {
   "cell_type": "code",
   "execution_count": null,
   "id": "2ce3fa41",
   "metadata": {
    "deletable": false
   },
   "outputs": [],
   "source": [
    "test_stat = np.diff(anxiety_data.groupby('social_media_usage').median().values.flatten())\n",
    "\n",
    "np.random.seed(1)\n",
    "repetitions = 1000\n",
    "simulated_values = []\n",
    "\n",
    "simdata = anxiety_data.copy()\n",
    "\n",
    "for i in range(repetitions):\n",
    "    simdata['social_media_usage'] = anxiety_data['social_media_usage'].sample(frac=1).values\n",
    "    simvalue = np.diff(simdata.groupby('social_media_usage').median().values.flatten())[0]\n",
    "    simulated_values += [simvalue]\n",
    "\n",
    "fig = px.histogram(pd.DataFrame({'Difference in Medians': simulated_values}), x='Difference in Medians', color_discrete_sequence=['grey'])\n",
    "fig.update_traces(marker_line_width=1,marker_line_color=\"black\")\n",
    "fig.show()\n",
    "\n",
    "num_more_extreme = (np.array(simulated_values) >= abs(test_stat)).sum()\n",
    "p_value = num_more_extreme / repetitions\n",
    "p_value"
   ]
  },
  {
   "cell_type": "code",
   "execution_count": null,
   "id": "075f45ca",
   "metadata": {},
   "outputs": [],
   "source": [
    "hint = \"\\n\\nAUTOMATICALLY FAILING AUTOTEST: DOES NOT COUNT AGAINST STUDENT\\n\"\n",
    "hint += \"Included as an example answer for feedback purposes only\\n\\n\"\n",
    "hint += \"The code looks to provide evidence against our null hypothesis through a non-parametric permutation test. The first line of code in the `for` loop first shuffles the \\\"High\\\" and \\\"Low\\\" social media usage group labels for each observation.  This means the outcomes for both groups are sampled from the same population (i.e, our sample), or, equivalently, that group label doesn't matter in terms of what the median of the population of a sample will be.  But this then means that the null hypothesis is true for these simulated data.  So the subsequently calculated (median) statistic represents a draw from the sampling distribution of the median under the assumption that the null hypothesis is true.  And each repetition of the for loop allows us to repeatedly sampling in this manner, creating a simulation of the sampling distribution of the median under the null hypothesis.\""
   ]
  },
  {
   "cell_type": "code",
   "execution_count": null,
   "id": "20ee26d6",
   "metadata": {},
   "outputs": [],
   "source": [
    "# test_Q4\n",
    "assert False, hint"
   ]
  },
  {
   "attachments": {},
   "cell_type": "markdown",
   "id": "3002c359",
   "metadata": {
    "deletable": false
   },
   "source": [
    "### Q5: Summarize the NULL hypothesis and then state your conclusion about the hypothesis test of the NULL hypothesis based on the p-value computed above. \n",
    "#### Provide your written answer in the markdown cell below.\n",
    "- You can compare your answer with the example solution provided by MarkUs"
   ]
  },
  {
   "attachments": {},
   "cell_type": "markdown",
   "id": "bb93d500",
   "metadata": {
    "deletable": false
   },
   "source": [
    "> Answer here..."
   ]
  },
  {
   "cell_type": "code",
   "execution_count": null,
   "id": "5da789e4",
   "metadata": {},
   "outputs": [],
   "source": [
    "hint = \"\\n\\nAUTOMATICALLY FAILING AUTOTEST: DOES NOT COUNT AGAINST STUDENT\\n\"\n",
    "hint += \"Included as an example answer for feedback purposes only\\n\\n\"\n",
    "hint += \"The null hypothesis assumes that there's no difference in the median anxiety level between the two groups in question. The p-value of 0.004 represents strong evidence against the null hypothesis that the median anxiety level among \\\"High\\\" and \\\"Low\\\" social media usage groups is the same. Further, the observed difference indicates that individuals with \\\"High\\\" social media usage have MORE anxiety than individuals with \\\"Low\\\" social media usage; however, in rejecting the null hypothesis in favor of the alternative hypothesis, all we are \\\"formally\\\" claiming is that the groups have different medians.\""
   ]
  },
  {
   "cell_type": "code",
   "execution_count": null,
   "id": "2ae89599",
   "metadata": {},
   "outputs": [],
   "source": [
    "# test_Q5\n",
    "assert False, hint"
   ]
  },
  {
   "attachments": {},
   "cell_type": "markdown",
   "id": "6abcc58f",
   "metadata": {
    "deletable": false
   },
   "source": [
    "### Q6: Does this data support the claim that the ***median*** anxiety level is different for those who use social media in high frequency compared to those who use social media in lower frequency?  How about the claim that \"usage of social media increases anxiety levels\"?\n",
    "\n",
    "A. Yes to the first, and yes to the second... there is a difference in median anxiety levels for those who use social media in high frequency compared to those who use social media in lower frequency, and it is because social media increases anxiety levels\n",
    "\n",
    "B. Yes to the first; but, no to the second... it seems possible -- not saying it's true, just plausible -- that different predispositions to anxiety could also have different predispositions to social media usage.  \n",
    "\n",
    "C. No to the first, and no to the second... this data does not adequately support the claim that the median anxiety level is different for those who use social media in high frequency compared to those who use social media in lower frequency  \n",
    "\n",
    "D. No to the first; but, yes to the second... the claim that the median anxiety level is different for those who use social media in high frequency compared to those who use social media in lower frequency is not supported, but we know usage of social media increases anxiety levels"
   ]
  },
  {
   "cell_type": "code",
   "execution_count": null,
   "id": "5363f3f8",
   "metadata": {
    "deletable": false
   },
   "outputs": [],
   "source": [
    "# Q6: your answer will be tested!\n",
    "Q6 = None  # Assign either 'A' or 'B' or 'C' or 'D' to `Q6` instead of `None`\n",
    "# E.g., Q6 = 'A'"
   ]
  },
  {
   "cell_type": "code",
   "execution_count": null,
   "id": "8f3410d6",
   "metadata": {},
   "outputs": [],
   "source": [
    "hint = \"Hint/Explanation: Note that the first part of the question is the null hypothesis, so the data is our evidence against the null hypothesis. Does the null hypothesis say anything about the cause of difference between median anxiety levels?\""
   ]
  },
  {
   "cell_type": "code",
   "execution_count": null,
   "id": "8afa0568",
   "metadata": {},
   "outputs": [],
   "source": [
    "# test_Q6\n",
    "assert Q6 == 'B', hint"
   ]
  },
  {
   "attachments": {},
   "cell_type": "markdown",
   "id": "61a870f5",
   "metadata": {
    "deletable": false
   },
   "source": [
    "## Part 2: Airbags\n",
    "The table below is adapted from \"Biostatistics for the Biological and Health Sciences\" and presents data from a random sample of passengers sitting in the front seat of cars involved in car crashes. Based on this data we'd like to make a determination as to whether or not death rates differ for passengers in cars with airbags and passengers in cars without airbags.\n",
    "\n",
    "|                           | Airbag available | No airbag available |\n",
    "|---------------------------|------------------|---------------------|                           \n",
    "| Passenger Fatalities      |  45              | 62                  |\n",
    "| Total number of Passengers|  10,541          | 9,867               |\n",
    "\n",
    "The code below creates a pandas data frame for this problem with the help of the `numpy.repeat` function."
   ]
  },
  {
   "cell_type": "code",
   "execution_count": null,
   "id": "d7c2b718",
   "metadata": {
    "deletable": false
   },
   "outputs": [],
   "source": [
    "data = pd.DataFrame({'group': np.repeat([\"airbag\", \"no_airbag\"], [10541, 9867]), \n",
    "                     'outcome': np.repeat([\"dead\", \"alive\", \"dead\", \"alive\"], [45, 10541-45, 62, 9867-62])})"
   ]
  },
  {
   "attachments": {},
   "cell_type": "markdown",
   "id": "8f50ade0",
   "metadata": {
    "deletable": false
   },
   "source": [
    "### Q7: Let $p$ stand for probability. What is the NULL hypotheses $H_0$ in terms of $p_{airbag}$ and $p_{no-airbag}$? What is $H_1$ in terms of $H_0$? In a simple sentence without $H_0$ and $p_{airbag}$ and $p_{no-airbag}$ notation, what is the claim of the NULL hypothesis?\n",
    "#### Provide your written answer in the markdown cell below.\n",
    "- You can compare your answer with the example solution provided by MarkUs"
   ]
  },
  {
   "attachments": {},
   "cell_type": "markdown",
   "id": "4e3418eb",
   "metadata": {
    "deletable": false
   },
   "source": [
    "> Answer here..."
   ]
  },
  {
   "cell_type": "code",
   "execution_count": null,
   "id": "7159b6e0",
   "metadata": {},
   "outputs": [],
   "source": [
    "hint = \"\\n\\nAUTOMATICALLY FAILING AUTOTEST: DOES NOT COUNT AGAINST STUDENT\\n\"\n",
    "hint += \"Included as an example answer for feedback purposes only\\n\\n\"\n",
    "hint += '''\n",
    "For cars with (W) and without (WO) airbags having chance of death in a car crash of $\\pi_W$ and $\\pi_{WO}$, respectively, we consider the one-sided hypothesis test\n",
    "$$H_0: \\pi_W=\\pi_{WO} \\quad H_A:\\pi_W < \\pi_{WO}$$\n",
    "which means \"as or more extreme under the null hypothesis\" will only consider test statistics sampled under the null hypothesis which are less than or equal to the observed test statistic. Generally, one-sided hypothesis tests lead to smaller p-values since only half of the outcomes that would be considered \"as or more extreme\" are actually counted as being so.\n",
    "'''"
   ]
  },
  {
   "cell_type": "code",
   "execution_count": null,
   "id": "cae4b538",
   "metadata": {},
   "outputs": [],
   "source": [
    "# test_Q7\n",
    "assert False, hint"
   ]
  },
  {
   "cell_type": "markdown",
   "id": "9b018dea",
   "metadata": {},
   "source": [
    "$$H_0: \\pi_W=\\pi_{WO} \\quad H_A:\\pi_W < \\pi_{WO}$$"
   ]
  },
  {
   "attachments": {},
   "cell_type": "markdown",
   "id": "3ad0741b",
   "metadata": {
    "deletable": false
   },
   "source": [
    "### Q8: Simulate the the sampling distribution of the test statistic under the assumption that the NULL hypothesis state above is `TRUE`.  "
   ]
  },
  {
   "cell_type": "code",
   "execution_count": null,
   "id": "f21b34d0",
   "metadata": {},
   "outputs": [],
   "source": [
    "# space for scratch work if needed"
   ]
  },
  {
   "cell_type": "code",
   "execution_count": null,
   "id": "74111033",
   "metadata": {
    "deletable": false
   },
   "outputs": [],
   "source": [
    "# Code your answer here\n",
    "np.random.seed(523)  # Replace the seed with the 1st, 3rd, and 5th digits or your student number. Keep this line at the top!\n",
    "# Hint: you may want to data.replace({'dead': 1, 'alive': 0}) to replace 'dead' and 'alive' outcomes with 1's and 0's\n"
   ]
  },
  {
   "cell_type": "code",
   "execution_count": null,
   "id": "c9dff4e6",
   "metadata": {},
   "outputs": [],
   "source": [
    "seed = None   # Assign to `seed` to your integer seed number to be used for testing, E.g. `seed = 123`\n",
    "num_samples = None  # Assign to `num_samples` number of samples in your distribution E.g. `num_samples = 5000`\n",
    "p_value = None  # Assign to p_value your calculated p-value rounded to 3 decimal places (hint: consider using np.round function) E.g. `p_value = 0.799`\n",
    "Q8 = (seed, num_samples, p_value)  # Don't change assignment of Q8"
   ]
  },
  {
   "cell_type": "code",
   "execution_count": null,
   "id": "156e022e",
   "metadata": {},
   "outputs": [],
   "source": [
    "# test_Q8\n",
    "seed, num_samples, p_value = Q8\n",
    "np.random.seed(seed)\n",
    "\n",
    "# replace \"dead\" outcome with 1 and \"alive\" with 0, and calculate difference between means of airbag vs no airbag groups\n",
    "data_ones_and_zeros = data.replace({'dead': 1, 'alive': 0})\n",
    "test_stat = np.diff(data_ones_and_zeros.groupby('group')['outcome'].mean())  \n",
    "\n",
    "# Sampling distribution\n",
    "simulated_values = []\n",
    "simdata = data_ones_and_zeros.copy()\n",
    "\n",
    "for i in range(num_samples):   \n",
    "    simdata['group'] = data_ones_and_zeros['group'].sample(frac=1).values  # shuffle group labels under null hypothesis assumption\n",
    "    sim_value = np.diff(simdata.groupby('group')['outcome'].mean())\n",
    "    simulated_values += [sim_value]\n",
    "\n",
    "# Calculate p-value\n",
    "num_more_extreme = (simulated_values >= test_stat).sum()  # no abs function as this is a one-sided test!\n",
    "calc_p_value = np.round(num_more_extreme / num_samples, 3)\n",
    "assert calc_p_value == p_value, \"You got \" + str(Q8[2]) + \" for calculated p-value but should be \" + str(calc_p_value)"
   ]
  },
  {
   "attachments": {},
   "cell_type": "markdown",
   "id": "e6da9829",
   "metadata": {
    "deletable": false
   },
   "source": [
    "# CONSIDER REMOVING\n",
    "### Q9: What is your conclusion about this hypothesis test based on the p-value computed above?  \n",
    "\n",
    "A. I choose to reject the *null hypothesis* $H_0$ on the basis of the evidence at hand  \n",
    "B. I fail to reject the *null hypothesis* $H_0$ on the basis of the evidence at hand"
   ]
  },
  {
   "cell_type": "code",
   "execution_count": null,
   "id": "56c836d7",
   "metadata": {
    "deletable": false
   },
   "outputs": [],
   "source": [
    "# Q9: your answer will be tested!\n",
    "Q9 = None  # Assign 'A' or 'B' to Q9\n",
    "# E.g., Q9 = 'A'"
   ]
  },
  {
   "cell_type": "code",
   "execution_count": null,
   "id": "8a4c5404",
   "metadata": {},
   "outputs": [],
   "source": [
    "hint = 'Remember this chart? https://www.jcpcarchives.org/userfiles/values-of-p-Inference.jpg'"
   ]
  },
  {
   "attachments": {},
   "cell_type": "markdown",
   "id": "2620cf0c",
   "metadata": {},
   "source": [
    "'https://www.jcpcarchives.org/userfiles/values-of-p-Inference.jpg'"
   ]
  },
  {
   "cell_type": "code",
   "execution_count": null,
   "id": "777bbe82",
   "metadata": {},
   "outputs": [],
   "source": [
    "# test_Q9\n",
    "assert not(Q9 == 'A' and p_value > 0.1) and not(Q9 == 'B' and p_value <= 0.05)"
   ]
  },
  {
   "attachments": {},
   "cell_type": "markdown",
   "id": "c137c4f1",
   "metadata": {
    "deletable": false
   },
   "source": [
    "# CONSIDER REMOVING\n",
    "### Q10: Based on your conclusion, what kind of error could you have made?\n",
    "A. I rejected the null hypothesis, so if the decision to reject the null hypothesis is wrong then we have made a Type I Error.  \n",
    "B. I rejected the null hypothesis, so if the decision to reject the null hypothesis is wrong then we have made a Type II Error.   \n",
    "C. I failed to reject the null hypothesis, so if the decision to fail to reject the null hypothesis is wrong then we have made a Type I Error.  \n",
    "D. I failed to reject the null hypothesis, so if the decision to fail to reject the null hypothesis is wrong then we have made a Type II Error.   "
   ]
  },
  {
   "cell_type": "code",
   "execution_count": null,
   "id": "cde3b390",
   "metadata": {
    "deletable": false
   },
   "outputs": [],
   "source": [
    "# Q10: your answer will be tested!\n",
    "Q10 = None  # Assign either 'A' or 'B' or 'C' or 'D' to `Q10` instead of `None`\n",
    "# E.g., Q11 = A"
   ]
  },
  {
   "cell_type": "code",
   "execution_count": null,
   "id": "dc330028",
   "metadata": {},
   "outputs": [],
   "source": [
    "# test_Q10\n",
    "assert Q10 == 'A' or Q10 == 'D'"
   ]
  },
  {
   "attachments": {},
   "cell_type": "markdown",
   "id": "f41ba201",
   "metadata": {
    "deletable": false
   },
   "source": [
    "### Q11: Does your conclusion support the claim that \"airbags save lives\"? Or does it seem reasonable to believe that there could be some sort of confounding (like in the Social Media and Anxiety problem) by which people who choose to drive in cars without airbags are just more likely on average do die if they're in a car crash irrespective of any safety benefit of airbags? \n",
    "Provide your written answer in the markdown cell below.  \n",
    "- This will be manually reviewed.  "
   ]
  },
  {
   "attachments": {},
   "cell_type": "markdown",
   "id": "2c5b5e8d",
   "metadata": {
    "deletable": false
   },
   "source": [
    "> Answer here..."
   ]
  },
  {
   "attachments": {},
   "cell_type": "markdown",
   "id": "359f8713",
   "metadata": {},
   "source": [
    "##### SAMPLE SOLUTION\n",
    "I would say it supports the claim that \"airbags save lives\". The nature of the confounding that would cause such an effect seems like it would need to be very strong for such a strange effect in order to account for the differences we're seeing without any positive safety effect of seatbelts themselves."
   ]
  },
  {
   "attachments": {},
   "cell_type": "markdown",
   "id": "6bb0ae8a",
   "metadata": {
    "deletable": false
   },
   "source": [
    "## (OPTIONAL) practice specifying NULL Hypotheses\n",
    "- You may complete these questions for practice if you wish. ***You are not required to complete these questions as they ARE NOT included as part of your mark.***\n",
    "- You can compare your answers with the example solutions provided by MarkUs"
   ]
  },
  {
   "attachments": {},
   "cell_type": "markdown",
   "id": "b6c53c57",
   "metadata": {
    "deletable": false
   },
   "source": [
    "We've covered two kinds of hypothesis tests. \n",
    "- In the first version we hypothesize a proportion in a population (the parameter $p$) and test that value using the proportion observed in the sample (the sample average $\\bar x$, also sometimes notated as $\\hat p$). These *ONE sample hypotheses tests* have a NULL hypothesis of the form $H_0: p = p_0$ (and of course the ALTERNATIVE hypothesis then takes the form $H_1: H_0 \\text{ is } \\texttt{FALSE}$).  Since this one-sample framework works for any average (not just proportions), another form of this test that is often encountered is $H_0: \\mu = \\mu_0$ where $\\mu$ is the mean of the population (corresponding to the sample average $\\bar x$). \n",
    "\n",
    "- In the second version we hypothesize a relationship between two populations, such as that both populations have the same mean or median (or proportion or standard deviation, etc.).  These *TWO sample hypotheses tests* have a NULL hypothesis of the form $H_0: \\mu_1 = \\mu_2$ or $H_0: p_1 = p_2$ (or $H_0: Median_1 = Median_2$ or $H_0: \\sigma_1 = \\sigma_2$, etc.) and of course the ALTERNATIVE hypothesis is still $H_1: H_0 \\text{ is } \\texttt{FALSE}$. \n",
    "\n"
   ]
  },
  {
   "attachments": {},
   "cell_type": "markdown",
   "id": "31cf863f",
   "metadata": {
    "deletable": false
   },
   "source": [
    "### For each of the following scenarios, state appropriate hypotheses $H_0$ and $H_1$.  For each scenario, also state in simple terms what the claim of the NULL hypothesis is.\n",
    "\n",
    "Be sure to carefully define any parameters you refer to."
   ]
  },
  {
   "attachments": {},
   "cell_type": "markdown",
   "id": "cf4338eb",
   "metadata": {
    "deletable": false
   },
   "source": [
    "### Q12: A health survey asked individuals to report the number of times they exercised each week. Researchers were interested in determining if the proportion of individuals who exercised at least 100 minutes per week differed between people who live in the condos vs people who do not live in condos."
   ]
  },
  {
   "attachments": {},
   "cell_type": "markdown",
   "id": "0ded1619",
   "metadata": {
    "deletable": false
   },
   "source": [
    "> Answer here..."
   ]
  },
  {
   "cell_type": "code",
   "execution_count": null,
   "id": "6db9c482",
   "metadata": {},
   "outputs": [],
   "source": [
    "hint = \"\\n\\nAUTOMATICALLY FAILING AUTOTEST: DOES NOT COUNT AGAINST STUDENT\\n\"\n",
    "hint += \"Included as an example answer for feedback purposes only\\n\\n\"\n",
    "hint = ''' \n",
    "$H_0: p_{condo} = p_{nocondo}$ vs $H_A: p_{condo} \\\\neq p_{nocondo}$ \n",
    "where $p_{condo}$ is the proportion of daily condo owners/renters who exercise at least 100 min per week and $p_{nocondo}$ is the proportion of non-condo livers who exercise at least 100 min per week.\n",
    "'''"
   ]
  },
  {
   "cell_type": "code",
   "execution_count": null,
   "id": "5f37ea38",
   "metadata": {},
   "outputs": [],
   "source": [
    "# test_Q12\n",
    "assert False, hint"
   ]
  },
  {
   "attachments": {},
   "cell_type": "markdown",
   "id": "5553a1cd",
   "metadata": {
    "deletable": false
   },
   "source": [
    "### Q13: A study was conducted to examine whether a baby is born prematurely/early (i.e., before their due date) to whether or not the baby's mother smoked while she was pregnant."
   ]
  },
  {
   "attachments": {},
   "cell_type": "markdown",
   "id": "3d21aef6",
   "metadata": {
    "deletable": false
   },
   "source": [
    "> Answer here..."
   ]
  },
  {
   "cell_type": "code",
   "execution_count": null,
   "id": "e2fee1c2",
   "metadata": {},
   "outputs": [],
   "source": [
    "hint = \"\\n\\nAUTOMATICALLY FAILING AUTOTEST: DOES NOT COUNT AGAINST STUDENT\\n\"\n",
    "hint += \"Included as an example answer for feedback purposes only\\n\\n\"\n",
    "hint = ''' \n",
    "$H_0: p_{smoking} = p_{nonsmoking}$  vs $H_A: p_{smoking} \\\\neq p_{nonsmoking}$ \n",
    "where $p_{smoking}$ is the proportion of premature babies born to smoking mothers and $p_{nonsmoking}$ is the proportion of premature babies born to non-smoking mothers. Under the null hypothesis that there is no relationship between a baby's earliness and whether or not the mother smoked, there should be no difference between $p_{smoking}$ and $p_{nonsmoking}$.  Note that there are other correct ways to formulate these hypotheses.\n",
    "'''"
   ]
  },
  {
   "cell_type": "code",
   "execution_count": null,
   "id": "a22e1030",
   "metadata": {},
   "outputs": [],
   "source": [
    "# test_Q13\n",
    "assert False, hint"
   ]
  },
  {
   "attachments": {},
   "cell_type": "markdown",
   "id": "36d133c2",
   "metadata": {
    "deletable": false
   },
   "source": [
    "### Q14: Nintendo is interested in whether or not their online advertisements are working. They record whether or not a user had seen an ad on a given day and their amount of spending on Nintendo products in the next 48 hours. They are interested in determining if there is an association between whether or not the user say an ad and their expenditures."
   ]
  },
  {
   "attachments": {},
   "cell_type": "markdown",
   "id": "566515f9",
   "metadata": {
    "deletable": false
   },
   "source": [
    "> Answer here..."
   ]
  },
  {
   "cell_type": "code",
   "execution_count": null,
   "id": "5f149830",
   "metadata": {},
   "outputs": [],
   "source": [
    "hint = \"\\n\\nAUTOMATICALLY FAILING AUTOTEST: DOES NOT COUNT AGAINST STUDENT\\n\"\n",
    "hint += \"Included as an example answer for feedback purposes only\\n\\n\"\n",
    "hint = ''' \n",
    "Since the researcher is interested in comparing values of a numerical variable (spending) across two groups (seen or not seen the ad), a two-sample test comparing the mean (or median) spending for the two groups (saw ad vs did not see ad) would be appropriate.  \n",
    "$H_0: \\mu_{ad} = \\mu_{no.ad}$ vs $H_A: \\mu_{ad} \\\\neq \\mu_{no.ad}$ \n",
    "where $\\mu_{ad}$ is the mean spending for users who saw the ad and $\\mu_{no.ad}$ is the mean spending for those who did not see the ad.\n",
    "'''"
   ]
  },
  {
   "cell_type": "code",
   "execution_count": null,
   "id": "41481f0e",
   "metadata": {},
   "outputs": [],
   "source": [
    "# test_Q14\n",
    "assert False, hint"
   ]
  },
  {
   "attachments": {},
   "cell_type": "markdown",
   "id": "5cbb2311",
   "metadata": {
    "deletable": false
   },
   "source": [
    "### Q15: Based on results from a survey of graduates from the University of Toronto, we would like to compare the median salaries of graduates from the statistics and graduates of mathematics programs."
   ]
  },
  {
   "attachments": {},
   "cell_type": "markdown",
   "id": "a6c693ac",
   "metadata": {
    "deletable": false
   },
   "source": [
    "> Answer here..."
   ]
  },
  {
   "cell_type": "code",
   "execution_count": null,
   "id": "ffaedb69",
   "metadata": {},
   "outputs": [],
   "source": [
    "hint = \"\\n\\nAUTOMATICALLY FAILING AUTOTEST: DOES NOT COUNT AGAINST STUDENT\\n\"\n",
    "hint += \"Included as an example answer for feedback purposes only\\n\\n\"\n",
    "hint = ''' \n",
    "$H_0: M_{stat} = M_{math}$ vs $H_A: M_{stat} \\\\neq M_{math}$ \n",
    "where $M_{stat}$ is the median salary for graduates of statistics programs and $M_{math}$ is the median salary for graduates of math programs.\n",
    "'''"
   ]
  },
  {
   "cell_type": "code",
   "execution_count": null,
   "id": "9c9155aa",
   "metadata": {},
   "outputs": [],
   "source": [
    "# test_Q15\n",
    "assert False, hint"
   ]
  }
 ],
 "metadata": {
  "kernelspec": {
   "display_name": "Python 3",
   "language": "python",
   "name": "python3"
  },
  "language_info": {
   "codemirror_mode": {
    "name": "ipython",
    "version": 3
   },
   "file_extension": ".py",
   "mimetype": "text/x-python",
   "name": "python",
   "nbconvert_exporter": "python",
   "pygments_lexer": "ipython3",
   "version": "3.11.1"
  }
 },
 "nbformat": 4,
 "nbformat_minor": 6
}
