{
 "cells": [
  {
   "cell_type": "markdown",
   "id": "aa1e99a5",
   "metadata": {
    "deletable": false
   },
   "source": [
    "# Coding Homework 6: [Your Name]\n",
    "\n",
    "Go through this notebook, following the instructions! \n",
    "\n",
    "- You can add new cells if you need (with the \\\"+\\\" button above); but, deleting cells could very likely cause your notebook to fail MarkUs autotesting (and you'd have to start over and re-enter your answers into a completely fresh version of the notebook to get things to work again...)\n",
    "\n",
    "> TAs will mark this assignment by first checking ***MarkUs*** autotests for completion and general correctness, and then manually reviewing your written response to `Q11*#will.change` and plotted figures for `Q2` and `Q8*#will.change`\n",
    "> - The  `Q0, Q2, Q4, Q7` questions \"automatically fail\" during automated testing so that MarkUs exposes example answers for student review and consideration for these problems: these \"failed MarkUs tests\" are not counted against the student.\n"
   ]
  },
  {
   "cell_type": "markdown",
   "id": "9fbb0423",
   "metadata": {
    "deletable": false
   },
   "source": [
    "## Social Media and Anxiety\n",
    "\n",
    "There have been many questions regarding whether or not usage of social media increases anxiety levels. For example, do  TikTok and Facebook posts create an unattainable sense of life success and satisfaction?  Does procrastinating by watching YouTube videos or reading Twitter posts contribute unnecessary stress from deadline pressure? A study was conducted to examine the relationship between social media usage and student anxiety. Students were asked to categorize their social media usage as \"High\" if it exceeded more than 2 hours per day, and then student anxiety levels where scored through as series of questions, with higher scores suggesting higher student anxiety."
   ]
  },
  {
   "cell_type": "code",
   "execution_count": 78,
   "id": "68cc11e2",
   "metadata": {
    "deletable": false
   },
   "outputs": [
    {
     "data": {
      "text/html": [
       "<div>\n",
       "<style scoped>\n",
       "    .dataframe tbody tr th:only-of-type {\n",
       "        vertical-align: middle;\n",
       "    }\n",
       "\n",
       "    .dataframe tbody tr th {\n",
       "        vertical-align: top;\n",
       "    }\n",
       "\n",
       "    .dataframe thead th {\n",
       "        text-align: right;\n",
       "    }\n",
       "</style>\n",
       "<table border=\"1\" class=\"dataframe\">\n",
       "  <thead>\n",
       "    <tr style=\"text-align: right;\">\n",
       "      <th></th>\n",
       "      <th>anxiety_scores</th>\n",
       "      <th>social_media_usage</th>\n",
       "    </tr>\n",
       "  </thead>\n",
       "  <tbody>\n",
       "    <tr>\n",
       "      <th>0</th>\n",
       "      <td>24.64</td>\n",
       "      <td>Low</td>\n",
       "    </tr>\n",
       "    <tr>\n",
       "      <th>1</th>\n",
       "      <td>39.29</td>\n",
       "      <td>Low</td>\n",
       "    </tr>\n",
       "    <tr>\n",
       "      <th>2</th>\n",
       "      <td>16.32</td>\n",
       "      <td>Low</td>\n",
       "    </tr>\n",
       "    <tr>\n",
       "      <th>3</th>\n",
       "      <td>32.83</td>\n",
       "      <td>Low</td>\n",
       "    </tr>\n",
       "    <tr>\n",
       "      <th>4</th>\n",
       "      <td>28.02</td>\n",
       "      <td>Low</td>\n",
       "    </tr>\n",
       "    <tr>\n",
       "      <th>5</th>\n",
       "      <td>33.31</td>\n",
       "      <td>Low</td>\n",
       "    </tr>\n",
       "    <tr>\n",
       "      <th>6</th>\n",
       "      <td>20.60</td>\n",
       "      <td>Low</td>\n",
       "    </tr>\n",
       "    <tr>\n",
       "      <th>7</th>\n",
       "      <td>21.13</td>\n",
       "      <td>Low</td>\n",
       "    </tr>\n",
       "    <tr>\n",
       "      <th>8</th>\n",
       "      <td>26.69</td>\n",
       "      <td>Low</td>\n",
       "    </tr>\n",
       "    <tr>\n",
       "      <th>9</th>\n",
       "      <td>28.90</td>\n",
       "      <td>Low</td>\n",
       "    </tr>\n",
       "    <tr>\n",
       "      <th>10</th>\n",
       "      <td>26.43</td>\n",
       "      <td>Low</td>\n",
       "    </tr>\n",
       "    <tr>\n",
       "      <th>11</th>\n",
       "      <td>24.23</td>\n",
       "      <td>Low</td>\n",
       "    </tr>\n",
       "    <tr>\n",
       "      <th>12</th>\n",
       "      <td>7.10</td>\n",
       "      <td>Low</td>\n",
       "    </tr>\n",
       "    <tr>\n",
       "      <th>13</th>\n",
       "      <td>32.86</td>\n",
       "      <td>Low</td>\n",
       "    </tr>\n",
       "    <tr>\n",
       "      <th>14</th>\n",
       "      <td>21.06</td>\n",
       "      <td>Low</td>\n",
       "    </tr>\n",
       "    <tr>\n",
       "      <th>15</th>\n",
       "      <td>28.89</td>\n",
       "      <td>Low</td>\n",
       "    </tr>\n",
       "    <tr>\n",
       "      <th>16</th>\n",
       "      <td>28.71</td>\n",
       "      <td>Low</td>\n",
       "    </tr>\n",
       "    <tr>\n",
       "      <th>17</th>\n",
       "      <td>31.73</td>\n",
       "      <td>Low</td>\n",
       "    </tr>\n",
       "    <tr>\n",
       "      <th>18</th>\n",
       "      <td>30.02</td>\n",
       "      <td>Low</td>\n",
       "    </tr>\n",
       "    <tr>\n",
       "      <th>19</th>\n",
       "      <td>21.96</td>\n",
       "      <td>Low</td>\n",
       "    </tr>\n",
       "    <tr>\n",
       "      <th>20</th>\n",
       "      <td>25.49</td>\n",
       "      <td>Low</td>\n",
       "    </tr>\n",
       "    <tr>\n",
       "      <th>21</th>\n",
       "      <td>38.81</td>\n",
       "      <td>Low</td>\n",
       "    </tr>\n",
       "    <tr>\n",
       "      <th>22</th>\n",
       "      <td>27.85</td>\n",
       "      <td>Low</td>\n",
       "    </tr>\n",
       "    <tr>\n",
       "      <th>23</th>\n",
       "      <td>30.29</td>\n",
       "      <td>Low</td>\n",
       "    </tr>\n",
       "    <tr>\n",
       "      <th>24</th>\n",
       "      <td>30.72</td>\n",
       "      <td>Low</td>\n",
       "    </tr>\n",
       "    <tr>\n",
       "      <th>25</th>\n",
       "      <td>21.43</td>\n",
       "      <td>Low</td>\n",
       "    </tr>\n",
       "    <tr>\n",
       "      <th>26</th>\n",
       "      <td>22.24</td>\n",
       "      <td>Low</td>\n",
       "    </tr>\n",
       "    <tr>\n",
       "      <th>27</th>\n",
       "      <td>11.12</td>\n",
       "      <td>Low</td>\n",
       "    </tr>\n",
       "    <tr>\n",
       "      <th>28</th>\n",
       "      <td>30.86</td>\n",
       "      <td>Low</td>\n",
       "    </tr>\n",
       "    <tr>\n",
       "      <th>29</th>\n",
       "      <td>19.92</td>\n",
       "      <td>Low</td>\n",
       "    </tr>\n",
       "    <tr>\n",
       "      <th>30</th>\n",
       "      <td>33.57</td>\n",
       "      <td>High</td>\n",
       "    </tr>\n",
       "    <tr>\n",
       "      <th>31</th>\n",
       "      <td>34.09</td>\n",
       "      <td>High</td>\n",
       "    </tr>\n",
       "    <tr>\n",
       "      <th>32</th>\n",
       "      <td>27.63</td>\n",
       "      <td>High</td>\n",
       "    </tr>\n",
       "    <tr>\n",
       "      <th>33</th>\n",
       "      <td>31.26</td>\n",
       "      <td>High</td>\n",
       "    </tr>\n",
       "    <tr>\n",
       "      <th>34</th>\n",
       "      <td>35.91</td>\n",
       "      <td>High</td>\n",
       "    </tr>\n",
       "    <tr>\n",
       "      <th>35</th>\n",
       "      <td>26.68</td>\n",
       "      <td>High</td>\n",
       "    </tr>\n",
       "    <tr>\n",
       "      <th>36</th>\n",
       "      <td>29.49</td>\n",
       "      <td>High</td>\n",
       "    </tr>\n",
       "    <tr>\n",
       "      <th>37</th>\n",
       "      <td>35.32</td>\n",
       "      <td>High</td>\n",
       "    </tr>\n",
       "    <tr>\n",
       "      <th>38</th>\n",
       "      <td>26.24</td>\n",
       "      <td>High</td>\n",
       "    </tr>\n",
       "    <tr>\n",
       "      <th>39</th>\n",
       "      <td>32.34</td>\n",
       "      <td>High</td>\n",
       "    </tr>\n",
       "    <tr>\n",
       "      <th>40</th>\n",
       "      <td>31.34</td>\n",
       "      <td>High</td>\n",
       "    </tr>\n",
       "    <tr>\n",
       "      <th>41</th>\n",
       "      <td>33.53</td>\n",
       "      <td>High</td>\n",
       "    </tr>\n",
       "    <tr>\n",
       "      <th>42</th>\n",
       "      <td>27.62</td>\n",
       "      <td>High</td>\n",
       "    </tr>\n",
       "    <tr>\n",
       "      <th>43</th>\n",
       "      <td>42.91</td>\n",
       "      <td>High</td>\n",
       "    </tr>\n",
       "    <tr>\n",
       "      <th>44</th>\n",
       "      <td>30.20</td>\n",
       "      <td>High</td>\n",
       "    </tr>\n",
       "    <tr>\n",
       "      <th>45</th>\n",
       "      <td>32.54</td>\n",
       "      <td>High</td>\n",
       "    </tr>\n",
       "  </tbody>\n",
       "</table>\n",
       "</div>"
      ],
      "text/plain": [
       "    anxiety_scores social_media_usage\n",
       "0            24.64                Low\n",
       "1            39.29                Low\n",
       "2            16.32                Low\n",
       "3            32.83                Low\n",
       "4            28.02                Low\n",
       "5            33.31                Low\n",
       "6            20.60                Low\n",
       "7            21.13                Low\n",
       "8            26.69                Low\n",
       "9            28.90                Low\n",
       "10           26.43                Low\n",
       "11           24.23                Low\n",
       "12            7.10                Low\n",
       "13           32.86                Low\n",
       "14           21.06                Low\n",
       "15           28.89                Low\n",
       "16           28.71                Low\n",
       "17           31.73                Low\n",
       "18           30.02                Low\n",
       "19           21.96                Low\n",
       "20           25.49                Low\n",
       "21           38.81                Low\n",
       "22           27.85                Low\n",
       "23           30.29                Low\n",
       "24           30.72                Low\n",
       "25           21.43                Low\n",
       "26           22.24                Low\n",
       "27           11.12                Low\n",
       "28           30.86                Low\n",
       "29           19.92                Low\n",
       "30           33.57               High\n",
       "31           34.09               High\n",
       "32           27.63               High\n",
       "33           31.26               High\n",
       "34           35.91               High\n",
       "35           26.68               High\n",
       "36           29.49               High\n",
       "37           35.32               High\n",
       "38           26.24               High\n",
       "39           32.34               High\n",
       "40           31.34               High\n",
       "41           33.53               High\n",
       "42           27.62               High\n",
       "43           42.91               High\n",
       "44           30.20               High\n",
       "45           32.54               High"
      ]
     },
     "execution_count": 78,
     "metadata": {},
     "output_type": "execute_result"
    }
   ],
   "source": [
    "import pandas as pd\n",
    "import numpy as np\n",
    "\n",
    "# The `numpy.repeat` function replicates elements as demonstrated here\n",
    "social_media_usage = np.repeat([\"Low\", \"High\"], [30, 16])\n",
    "anxiety_scores = [24.64, 39.29, 16.32, 32.83, 28.02, \n",
    "                   33.31, 20.60, 21.13, 26.69, 28.90,\n",
    "                   26.43, 24.23, 7.10,  32.86, 21.06,\n",
    "                   28.89, 28.71, 31.73, 30.02, 21.96,\n",
    "                   25.49, 38.81, 27.85, 30.29, 30.72,\n",
    "                   21.43, 22.24, 11.12, 30.86, 19.92,\n",
    "                   33.57, 34.09, 27.63, 31.26,\n",
    "                   35.91, 26.68, 29.49, 35.32,\n",
    "                   26.24, 32.34, 31.34, 33.53,\n",
    "                   27.62, 42.91, 30.20, 32.54]\n",
    "anxiety_data = pd.DataFrame({'anxiety_scores': anxiety_scores, 'social_media_usage': social_media_usage})\n",
    "anxiety_data"
   ]
  },
  {
   "cell_type": "markdown",
   "id": "c6c7e5b9",
   "metadata": {
    "deletable": false
   },
   "source": [
    "### Q0: In simple terms, what is the claim of the *null hypothesis* for the experiment above that we are naturally trying to provide evidence against? How could this be formally stated with respect to the parameters $Median_{High}$ and $Median_{Low}$ of the two populations in question? And what is $H_1$ in terms of $H_0$?\n",
    "\n",
    "#### Provide your written answer in the markdown cell below.\n",
    "- You can compare your answer with the example solution provided by MarkUs"
   ]
  },
  {
   "cell_type": "markdown",
   "id": "479e73e0",
   "metadata": {
    "deletable": false
   },
   "source": [
    "> - Hint 1: In two sample contexts the *null hypotheses* tends to be the most natural form of a \"no effect\" statement that \"nothing interesting or notable is happening\"; and, it's generally a \"straw man\" that we're trying to provide enough evidence against to reject.\n",
    "> - Hint 2: A formal *null hypotheses* that there is no difference in the means of two groups would be $H_0: \\mu_{High} = \\mu_{Low}$."
   ]
  },
  {
   "cell_type": "markdown",
   "id": "5af87b2b",
   "metadata": {
    "deletable": false
   },
   "source": [
    "> Answer here...\n"
   ]
  },
  {
   "cell_type": "code",
   "execution_count": 79,
   "id": "1b09d34a",
   "metadata": {},
   "outputs": [],
   "source": [
    "hint = \"\\n\\nAUTOMATICALLY FAILING AUTOTEST: DOES NOT COUNT AGAINST STUDENT\\nIncluded as an example answer for feedback purposes only\\n\\n\"\n",
    "hint += \"The natural null hypothesis here is that social media usage does not affect stress; and, \\n\"\n",
    "hint += \"we'd like to provide evidence against this null hypothesis.  Formally, \\n\"\n",
    "hint += \"for \\\"High\\\" social media usage population H and \\\"Low\\\" social media usage population L \\n\"\n",
    "hint += \"with medians $\\\\text{50\\%}_{\\\\text{H}}$ and $\\\\text{50\\%}_{\\\\text{L}}$, respectively, the null and alternative hypothesis in LaTeX are\\n\"\n",
    "hint += '''\n",
    "$\n",
    "H_0: \\\\text{50\\%}_{\\\\text{H}} = \\\\text{50\\%}_{\\\\text{L}} \\\\\\\\\n",
    "H_1: H_0 \\\\text{ is false } (\\\\text{50\\%}_{\\\\text{H}} \\\\neq \\\\text{50\\%}_{\\\\text{L}})\n",
    "$\n",
    "'''"
   ]
  },
  {
   "cell_type": "code",
   "execution_count": 80,
   "id": "53b68ab7",
   "metadata": {},
   "outputs": [
    {
     "ename": "AssertionError",
     "evalue": "\n\nAUTOMATICALLY FAILING AUTOTEST: DOES NOT COUNT AGAINST STUDENT\nIncluded as an example answer for feedback purposes only\n\nThe natural null hypothesis here is that social media usage does not affect stress; and, \nwe'd like to provide evidence against this null hypothesis.  Formally, \nfor \"High\" social media usage population H and \"Low\" social media usage population L \nwith medians $\\text{50\\%}_{\\text{H}}$ and $\\text{50\\%}_{\\text{L}}$, respectively, the null and alternative hypothesis in LaTeX are\n\n$\nH_0: \\text{50\\%}_{\\text{H}} = \\text{50\\%}_{\\text{L}} \\\\\nH_1: H_0 \\text{ is false } (\\text{50\\%}_{\\text{H}} \\neq \\text{50\\%}_{\\text{L}})\n$\n",
     "output_type": "error",
     "traceback": [
      "\u001b[0;31m---------------------------------------------------------------------------\u001b[0m",
      "\u001b[0;31mAssertionError\u001b[0m                            Traceback (most recent call last)",
      "Cell \u001b[0;32mIn[80], line 2\u001b[0m\n\u001b[1;32m      1\u001b[0m \u001b[38;5;66;03m# test_Q0\u001b[39;00m\n\u001b[0;32m----> 2\u001b[0m \u001b[38;5;28;01massert\u001b[39;00m \u001b[38;5;28;01mFalse\u001b[39;00m, hint\n",
      "\u001b[0;31mAssertionError\u001b[0m: \n\nAUTOMATICALLY FAILING AUTOTEST: DOES NOT COUNT AGAINST STUDENT\nIncluded as an example answer for feedback purposes only\n\nThe natural null hypothesis here is that social media usage does not affect stress; and, \nwe'd like to provide evidence against this null hypothesis.  Formally, \nfor \"High\" social media usage population H and \"Low\" social media usage population L \nwith medians $\\text{50\\%}_{\\text{H}}$ and $\\text{50\\%}_{\\text{L}}$, respectively, the null and alternative hypothesis in LaTeX are\n\n$\nH_0: \\text{50\\%}_{\\text{H}} = \\text{50\\%}_{\\text{L}} \\\\\nH_1: H_0 \\text{ is false } (\\text{50\\%}_{\\text{H}} \\neq \\text{50\\%}_{\\text{L}})\n$\n"
     ]
    }
   ],
   "source": [
    "# test_Q0\n",
    "assert False, hint"
   ]
  },
  {
   "cell_type": "markdown",
   "id": "2eaf8950",
   "metadata": {
    "deletable": false
   },
   "source": [
    "### Q1: Revisit your statements regarding the *null hypotheses* above with confounding in mind; namely, since social media usage is a self selecting process, perhaps social media users are already more anxious people on average regardless of their social media usage.  If we make a determination about the *null hypotheses* are we actually addressing the question of \"whether or not usage of social media increases anxiety levels\"? Or are we just using a hypothesis test to examine if there is strong evidence of difference between the two groups (regardless of its causes)?  \n",
    "\n",
    "A. Neither, we are checking if confounding impacts our determination of \"whether or not usage of social media increases anxiety levels\"  \n",
    "B. We actually addressing the question of \"whether or not usage of social media increases anxiety levels\"   \n",
    "C. We are just using a hypothesis test to examine if there is an observable difference between the two groups (regardless of its causes)  \n",
    "D.  We cannot determine any of the above from a two-sample hypothesis test  "
   ]
  },
  {
   "cell_type": "code",
   "execution_count": 81,
   "id": "2ef4a6a6",
   "metadata": {
    "deletable": false
   },
   "outputs": [],
   "source": [
    "# Q1: your answer will be tested!\n",
    "Q1 = None  # Assign either 'A' or 'B' or 'C' or 'D' to `Q1` instead of `None`\n",
    "# E.g., Q1 = 'A'"
   ]
  },
  {
   "cell_type": "code",
   "execution_count": 82,
   "id": "ff0c8a07",
   "metadata": {},
   "outputs": [],
   "source": [
    "hint = \"The null hypothesis is a statement of equivalence between the two groups,\\n\"\n",
    "hint += \"so a two-sample hypothesis might be able to provide evidence against the null hypothesis\\n\"\n",
    "hint += \"on the basis of an clearly observable strong difference between the two groups,\\n\"\n",
    "hint += \"or fail to do so. The null hypothesis tells us nothing about any cause of a possible difference.\"\n",
    "test = Q1 == 'C'"
   ]
  },
  {
   "cell_type": "code",
   "execution_count": 83,
   "id": "51d64b30",
   "metadata": {},
   "outputs": [
    {
     "ename": "AssertionError",
     "evalue": "The null hypothesis is a statement of equivalence between the two groups,\nso a two-sample hypothesis might be able to provide evidence against the null hypothesis\non the basis of an clearly observable strong difference between the two groups,\nor fail to do so. The null hypothesis tells us nothing about any cause of a possible difference.",
     "output_type": "error",
     "traceback": [
      "\u001b[0;31m---------------------------------------------------------------------------\u001b[0m",
      "\u001b[0;31mAssertionError\u001b[0m                            Traceback (most recent call last)",
      "Cell \u001b[0;32mIn[83], line 2\u001b[0m\n\u001b[1;32m      1\u001b[0m \u001b[38;5;66;03m# test_Q1\u001b[39;00m\n\u001b[0;32m----> 2\u001b[0m \u001b[38;5;28;01massert\u001b[39;00m Q1 \u001b[38;5;241m==\u001b[39m \u001b[38;5;124m'\u001b[39m\u001b[38;5;124mC\u001b[39m\u001b[38;5;124m'\u001b[39m, hint\n",
      "\u001b[0;31mAssertionError\u001b[0m: The null hypothesis is a statement of equivalence between the two groups,\nso a two-sample hypothesis might be able to provide evidence against the null hypothesis\non the basis of an clearly observable strong difference between the two groups,\nor fail to do so. The null hypothesis tells us nothing about any cause of a possible difference."
     ]
    }
   ],
   "source": [
    "# test_Q1\n",
    "assert test, hint"
   ]
  },
  {
   "cell_type": "markdown",
   "id": "90b6a5b2",
   "metadata": {
    "deletable": false
   },
   "source": [
    "### Q2: Construct boxplots of `anxiety_score` for the two levels of social media usage, and write 2-3 sentences describing and comparing the distributions of anxiety scores across the social media usage groups.  \n",
    "#### Provide your written answer in the markdown cell below.\n",
    "- You can compare your answer with the example solution provided by MarkUs"
   ]
  },
  {
   "cell_type": "code",
   "execution_count": 84,
   "id": "7e8211ff",
   "metadata": {
    "deletable": false
   },
   "outputs": [],
   "source": [
    "# Code your solution here\n",
    "import plotly.express as px\n"
   ]
  },
  {
   "cell_type": "markdown",
   "id": "56ae8370",
   "metadata": {
    "deletable": false
   },
   "source": [
    "> Answer here..."
   ]
  },
  {
   "cell_type": "code",
   "execution_count": 85,
   "id": "1f0e7af8",
   "metadata": {},
   "outputs": [],
   "source": [
    "hint = \"\\n\\nAUTOMATICALLY FAILING AUTOTEST: DOES NOT COUNT AGAINST STUDENT\\n\"\n",
    "hint += \"Included as an example answer for feedback purposes only\\n\\n\"\n",
    "hint += \"CODE:\\n\"\n",
    "hint += '''\n",
    "import plotly.express as px\n",
    "fig = px.box(anxiety_data, x='anxiety_scores', y = 'social_media_usage')\n",
    "fig.show()\n",
    "'''\n",
    "hint += \"\\n\\nWRITTEN SOLUTION:\\n\"\n",
    "hint += \"There indeed appears to be a clear difference in anxiety between \\\"Low\\\" and \\\"High\\\" social media usage groups, \\n\\\n",
    "with the median of the \\\"High\\\" group exceeding the 75th percentile of \\\"Low\\\" group. \\nFor the \\\"High\\\" social media usage group, \\nthe anxiety scores \\\n",
    "are much more concentrated around high (>30) anxiety scores with a tighter spread; whereas, \\nfor the \\\"Low\\\" social media usage group, \\\n",
    "the anxiety scores are much more highly variable, \\nwith the upper 50% of anxiety scores in the \\\"Low\\\" social media usage group \\\n",
    "overlapping or even exceeding \\nsome scores in the \\\"High\\\" social media usage group, but most of the lower 50% of anxiety scores in the \\n\\\"Low\\\" \\\n",
    "social media usage group being less than all the scores in the \\\"High\\\" social media usage group.\""
   ]
  },
  {
   "cell_type": "code",
   "execution_count": 86,
   "id": "ce3022e3",
   "metadata": {},
   "outputs": [
    {
     "ename": "AssertionError",
     "evalue": "\n\nAUTOMATICALLY FAILING AUTOTEST: DOES NOT COUNT AGAINST STUDENT\nIncluded as an example answer for feedback purposes only\n\nCODE:\n\nimport plotly.express as px\nfig = px.box(anxiety_data, x='anxiety_scores', y = 'social_media_usage')\nfig.show()\n\n\nWRITTEN SOLUTION:\nThere indeed appears to be a clear difference in anxiety between \"Low\" and \"High\" social media usage groups, \nwith the median of the \"High\" group exceeding the 75th percentile of \"Low\" group. \nFor the \"High\" social media usage group, \nthe anxiety scores are much more concentrated around high (>30) anxiety scores with a tighter spread; whereas, \nfor the \"Low\" social media usage group, the anxiety scores are much more highly variable, \nwith the upper 50% of anxiety scores in the \"Low\" social media usage group overlapping or even exceeding \nsome scores in the \"High\" social media usage group, but most of the lower 50% of anxiety scores in the \n\"Low\" social media usage group being less than all the scores in the \"High\" social media usage group.",
     "output_type": "error",
     "traceback": [
      "\u001b[0;31m---------------------------------------------------------------------------\u001b[0m",
      "\u001b[0;31mAssertionError\u001b[0m                            Traceback (most recent call last)",
      "Cell \u001b[0;32mIn[86], line 2\u001b[0m\n\u001b[1;32m      1\u001b[0m \u001b[38;5;66;03m# test_Q2\u001b[39;00m\n\u001b[0;32m----> 2\u001b[0m \u001b[38;5;28;01massert\u001b[39;00m \u001b[38;5;28;01mFalse\u001b[39;00m, hint\n",
      "\u001b[0;31mAssertionError\u001b[0m: \n\nAUTOMATICALLY FAILING AUTOTEST: DOES NOT COUNT AGAINST STUDENT\nIncluded as an example answer for feedback purposes only\n\nCODE:\n\nimport plotly.express as px\nfig = px.box(anxiety_data, x='anxiety_scores', y = 'social_media_usage')\nfig.show()\n\n\nWRITTEN SOLUTION:\nThere indeed appears to be a clear difference in anxiety between \"Low\" and \"High\" social media usage groups, \nwith the median of the \"High\" group exceeding the 75th percentile of \"Low\" group. \nFor the \"High\" social media usage group, \nthe anxiety scores are much more concentrated around high (>30) anxiety scores with a tighter spread; whereas, \nfor the \"Low\" social media usage group, the anxiety scores are much more highly variable, \nwith the upper 50% of anxiety scores in the \"Low\" social media usage group overlapping or even exceeding \nsome scores in the \"High\" social media usage group, but most of the lower 50% of anxiety scores in the \n\"Low\" social media usage group being less than all the scores in the \"High\" social media usage group."
     ]
    }
   ],
   "source": [
    "# test_Q2\n",
    "assert False, hint"
   ]
  },
  {
   "cell_type": "markdown",
   "id": "b4d71493",
   "metadata": {
    "deletable": false
   },
   "source": [
    "### Q3: What do these data visually suggest regarding the claim that the ***median*** anxiety level is different for the population of people with high frequency social media use compared to the population with low frequency use? \n",
    "\n",
    "A. The median anxiety level is likely higher for low frequency social media users compared to higher frequency social media users.  \n",
    "B. We cannot say, since the groups are shuffled and we do not know the proportion of high frequency or lower frequency social media users in each group.    \n",
    "C. The median anxiety level is likely the same for low frequency social media users compared to higher frequency social media users.  \n",
    "D. The median anxiety level is likely higher for high frequency social media users compared to lower frequency social media users."
   ]
  },
  {
   "cell_type": "code",
   "execution_count": 87,
   "id": "21826f8b",
   "metadata": {
    "deletable": false
   },
   "outputs": [],
   "source": [
    "# Q3: your answer will be tested!\n",
    "Q3 = None  # Assign either 'A' or 'B' or 'C' or 'D' to `Q3` instead of `None`\n",
    "# E.g., Q3 = 'A'"
   ]
  },
  {
   "cell_type": "code",
   "execution_count": 88,
   "id": "35c910ac",
   "metadata": {},
   "outputs": [],
   "source": [
    "hint = \"On each box in the boxplot, the left side is the 25th percentile, \\n\"\n",
    "hint += \"the middle line is the 50th percentile while the right side is the 75th percentile.\\n\"\n",
    "hint += \"Consider reviewing the answer to Q2 if this is not sufficiently helpful.\"\n",
    "test = Q3 == 'D'"
   ]
  },
  {
   "cell_type": "code",
   "execution_count": 89,
   "id": "08440bdc",
   "metadata": {},
   "outputs": [
    {
     "ename": "AssertionError",
     "evalue": "On each box in the boxplot, the left side is the 25th percentile, \nthe middle line is the 50th percentile while the right side is the 75th percentile.\nConsider reviewing the answer to Q2 if this is not sufficiently helpful.",
     "output_type": "error",
     "traceback": [
      "\u001b[0;31m---------------------------------------------------------------------------\u001b[0m",
      "\u001b[0;31mAssertionError\u001b[0m                            Traceback (most recent call last)",
      "Cell \u001b[0;32mIn[89], line 2\u001b[0m\n\u001b[1;32m      1\u001b[0m \u001b[38;5;66;03m# test_Q3\u001b[39;00m\n\u001b[0;32m----> 2\u001b[0m \u001b[38;5;28;01massert\u001b[39;00m Q3 \u001b[38;5;241m==\u001b[39m \u001b[38;5;124m'\u001b[39m\u001b[38;5;124mD\u001b[39m\u001b[38;5;124m'\u001b[39m, hint\n",
      "\u001b[0;31mAssertionError\u001b[0m: On each box in the boxplot, the left side is the 25th percentile, \nthe middle line is the 50th percentile while the right side is the 75th percentile.\nConsider reviewing the answer to Q2 if this is not sufficiently helpful."
     ]
    }
   ],
   "source": [
    "# test_Q3\n",
    "assert test, hint"
   ]
  },
  {
   "cell_type": "markdown",
   "id": "88c551c2",
   "metadata": {
    "deletable": false
   },
   "source": [
    "### Q4: Write a few sentences explaining what the code inside the `for` loop below does and why it's doing it.  \n",
    "#### Provide your written answer in the markdown cell below.\n",
    "- You can compare your answer with the example solution provided by MarkUs"
   ]
  },
  {
   "cell_type": "markdown",
   "id": "08324cb1",
   "metadata": {
    "deletable": false
   },
   "source": [
    "> Answer here..."
   ]
  },
  {
   "cell_type": "code",
   "execution_count": 111,
   "id": "2ce3fa41",
   "metadata": {
    "deletable": false
   },
   "outputs": [
    {
     "data": {
      "application/vnd.plotly.v1+json": {
       "config": {
        "plotlyServerURL": "https://plot.ly"
       },
       "data": [
        {
         "alignmentgroup": "True",
         "bingroup": "x",
         "hovertemplate": "Difference in Medians=%{x}<br>count=%{y}<extra></extra>",
         "legendgroup": "",
         "marker": {
          "color": "grey",
          "line": {
           "color": "black",
           "width": 1
          },
          "pattern": {
           "shape": ""
          }
         },
         "name": "",
         "offsetgroup": "",
         "orientation": "v",
         "showlegend": false,
         "type": "histogram",
         "x": [
          3.9299999999999997,
          -1.1700000000000017,
          2.960000000000001,
          2.129999999999999,
          -1.6599999999999966,
          -0.8299999999999983,
          -0.125,
          0.7299999999999969,
          -3.5749999999999993,
          1.8099999999999952,
          1.0300000000000011,
          -3.5599999999999987,
          -0.3949999999999996,
          -3.490000000000002,
          0.22499999999999787,
          -0.7499999999999964,
          -1.9299999999999997,
          -0.4700000000000024,
          -2.594999999999999,
          0.9549999999999983,
          2.5199999999999996,
          -0.7299999999999969,
          2.914999999999999,
          2.174999999999997,
          -3.5599999999999987,
          -2.6199999999999974,
          -0.740000000000002,
          -1.0449999999999982,
          -1.7449999999999974,
          4.234999999999999,
          -1.5199999999999996,
          -1.7300000000000004,
          3.8199999999999967,
          0.740000000000002,
          -0.20500000000000185,
          -3.5549999999999997,
          0.8049999999999997,
          -1.3799999999999955,
          -1.8799999999999955,
          1.389999999999997,
          -3.125,
          3.219999999999999,
          2.309999999999995,
          -2.75,
          -2.219999999999999,
          1.4600000000000009,
          -1.3099999999999987,
          1.495000000000001,
          1.269999999999996,
          0.3949999999999996,
          3.424999999999997,
          -0.0400000000000027,
          2.3999999999999986,
          -1.389999999999997,
          -1.7000000000000028,
          0.20500000000000185,
          -3.049999999999997,
          1.6449999999999996,
          3.0899999999999963,
          0.8249999999999993,
          1.5249999999999986,
          2.174999999999997,
          0.22499999999999787,
          0.4499999999999993,
          1.5899999999999999,
          -1.9999999999999964,
          -2.309999999999995,
          -1.7449999999999974,
          -1.3550000000000004,
          -0.7299999999999969,
          -0.3949999999999996,
          -0.1750000000000007,
          3,
          -0.1750000000000007,
          -0.4700000000000024,
          1.8399999999999999,
          -1.6149999999999984,
          -2.1499999999999986,
          -4.0049999999999955,
          -0.9549999999999983,
          -2.854999999999997,
          -2.6199999999999974,
          1.7449999999999974,
          1.389999999999997,
          -1.0799999999999983,
          -2.094999999999999,
          -1.7899999999999991,
          1.7899999999999991,
          0.3949999999999996,
          -1.4799999999999969,
          -3.1700000000000017,
          0.8299999999999983,
          -1.8199999999999967,
          0.20500000000000185,
          -0.7499999999999964,
          1.9299999999999997,
          1.0249999999999986,
          -0.740000000000002,
          1.370000000000001,
          -2.0049999999999955,
          2.219999999999999,
          -0.9949999999999974,
          -0.9949999999999974,
          1.0949999999999989,
          0.5800000000000018,
          1.5249999999999986,
          0.5449999999999982,
          -1.4250000000000007,
          -0.0400000000000027,
          0.4700000000000024,
          1.8199999999999967,
          -1.3749999999999964,
          -2.174999999999997,
          -1.1799999999999962,
          -2.9450000000000003,
          1.5249999999999986,
          -2.094999999999999,
          1.0850000000000009,
          1.0949999999999989,
          -1.7899999999999991,
          -2.5699999999999967,
          2.289999999999999,
          2.6950000000000003,
          2.3699999999999974,
          1.8199999999999967,
          -3.3200000000000003,
          0.8249999999999993,
          -1.7899999999999991,
          1.2299999999999969,
          -0.20500000000000185,
          0.14000000000000057,
          2.6199999999999974,
          0.384999999999998,
          2.174999999999997,
          -0.7299999999999969,
          -1.0899999999999999,
          -2.5049999999999955,
          -2.764999999999997,
          -1.7749999999999986,
          -2.014999999999997,
          -2.364999999999995,
          -0.7299999999999969,
          2.375,
          -1.389999999999997,
          1.2949999999999946,
          2.4899999999999984,
          -3.5599999999999987,
          1.259999999999998,
          -0.14000000000000057,
          0.3949999999999996,
          1.8149999999999977,
          -0.21499999999999986,
          -2.094999999999999,
          2.8200000000000003,
          -1.3099999999999987,
          -0.3949999999999996,
          1.8199999999999967,
          4.454999999999998,
          2.599999999999998,
          2.2650000000000006,
          1.6149999999999949,
          0.384999999999998,
          2.7699999999999996,
          3.424999999999997,
          2.414999999999999,
          -1.1849999999999952,
          0.3949999999999996,
          1.370000000000001,
          3.0899999999999963,
          -1,
          1.9299999999999997,
          2.014999999999997,
          1.389999999999997,
          -0.5599999999999987,
          -2.1900000000000013,
          3.905000000000001,
          1.6099999999999994,
          3.8199999999999967,
          2.1949999999999967,
          2.129999999999999,
          -2.5249999999999986,
          0.20500000000000185,
          2.599999999999998,
          -1.894999999999996,
          -0.6600000000000001,
          1.7850000000000001,
          1.4799999999999969,
          0.4700000000000024,
          -2.5349999999999966,
          -1.0449999999999982,
          0.384999999999998,
          -1.9200000000000017,
          -2.285,
          -1.7549999999999955,
          0.125,
          -3.125,
          2.599999999999998,
          -1.259999999999998,
          -1.9849999999999994,
          -0.4700000000000024,
          -2.854999999999997,
          -0.6600000000000001,
          1.4949999999999974,
          1.389999999999997,
          1.389999999999997,
          3.5549999999999997,
          -0.0400000000000027,
          2.599999999999998,
          2.035,
          1.8199999999999967,
          1.259999999999998,
          3.1599999999999966,
          -2.719999999999999,
          -2.239999999999995,
          2.7449999999999974,
          -0.0400000000000027,
          -2.789999999999999,
          -3.1449999999999996,
          -0.20500000000000185,
          0.8299999999999983,
          2.0249999999999986,
          -2.965,
          -0.384999999999998,
          1.7249999999999979,
          1.9299999999999997,
          -0.6499999999999986,
          -1,
          2.394999999999996,
          0.9549999999999983,
          1.3000000000000007,
          -1.8099999999999987,
          -2.2099999999999973,
          -2.995000000000001,
          2.5049999999999955,
          2.6199999999999974,
          3.085000000000001,
          3.4800000000000004,
          2.0450000000000017,
          2.129999999999999,
          -2.139999999999997,
          -3.384999999999998,
          2.375,
          2.5049999999999955,
          -3.3200000000000003,
          2.1499999999999986,
          2.759999999999998,
          -0.8299999999999983,
          -1.6550000000000011,
          0.4049999999999976,
          1.4749999999999979,
          3.1999999999999993,
          1.9299999999999997,
          -1.5999999999999979,
          -0.8299999999999983,
          -0.125,
          -0.740000000000002,
          0.8299999999999983,
          2.5199999999999996,
          -2.0049999999999955,
          0.8249999999999993,
          -1.7749999999999986,
          0.07000000000000028,
          -0.3949999999999996,
          -1.4449999999999967,
          -0.3949999999999996,
          -1.9450000000000003,
          -0.5599999999999987,
          -0.8249999999999993,
          -3.4750000000000014,
          -3.125,
          0.8299999999999983,
          -1.3900000000000006,
          2.014999999999997,
          2.7449999999999974,
          0.3949999999999996,
          1.3000000000000007,
          -0.6600000000000001,
          -2.639999999999997,
          0.4700000000000024,
          -2.4099999999999966,
          -1.3099999999999987,
          -2.139999999999997,
          -3.25,
          0.9949999999999974,
          0.9549999999999983,
          2.419999999999998,
          -0.0400000000000027,
          -1.3900000000000006,
          1.375,
          -0.26000000000000156,
          2.174999999999997,
          3.349999999999998,
          -3.0899999999999963,
          1.0050000000000026,
          0.740000000000002,
          -0.20500000000000185,
          0.22499999999999787,
          -0.7949999999999982,
          -0.6499999999999986,
          -2.625,
          -1.0449999999999982,
          1.1799999999999962,
          0.8299999999999983,
          2.6149999999999984,
          0.14000000000000057,
          -1.3449999999999989,
          -0.125,
          2.129999999999999,
          3.5549999999999997,
          -1.8799999999999955,
          2.6199999999999974,
          0.8299999999999983,
          2.884999999999998,
          -2.639999999999997,
          -2.5049999999999955,
          -2.5049999999999955,
          -1.9749999999999979,
          -2.7349999999999994,
          1.9299999999999997,
          0.3949999999999996,
          -1.3449999999999989,
          2.330000000000002,
          -0.20500000000000185,
          0.3949999999999996,
          -4.765000000000001,
          -0.3949999999999996,
          0.384999999999998,
          -0.4700000000000024,
          0.20500000000000185,
          -0.20500000000000185,
          -3.4350000000000023,
          -4.344999999999999,
          1.4050000000000011,
          -2.164999999999999,
          2.3699999999999974,
          -0.3450000000000024,
          -2.3649999999999984,
          0.07000000000000028,
          -0.129999999999999,
          1.389999999999997,
          3.3550000000000004,
          -0.6999999999999993,
          3.289999999999999,
          2.3699999999999974,
          -2.6950000000000003,
          3.9099999999999966,
          1.9099999999999966,
          -2.014999999999997,
          -3.0299999999999976,
          1.9349999999999987,
          1.389999999999997,
          0.740000000000002,
          -2.879999999999999,
          1.2950000000000017,
          2.594999999999999,
          -2.780000000000001,
          1.2049999999999983,
          3.7799999999999976,
          -3.424999999999997,
          -1.7300000000000004,
          -0.6499999999999986,
          3.1899999999999977,
          -1.7749999999999986,
          -1.7449999999999974,
          1.9349999999999987,
          -2.5249999999999986,
          -1.1799999999999997,
          -0.3949999999999996,
          3.3049999999999997,
          -3.289999999999999,
          0.14000000000000057,
          0.4700000000000024,
          3.3550000000000004,
          1.5849999999999973,
          -0.47499999999999787,
          -0.6600000000000001,
          3.594999999999999,
          0.8149999999999977,
          -1.4749999999999979,
          -1.7399999999999949,
          -2.094999999999999,
          -0.9800000000000004,
          1.9099999999999966,
          0.33500000000000085,
          0.4700000000000024,
          -1.5249999999999986,
          -2.7349999999999994,
          -1.8299999999999983,
          1.4050000000000011,
          -2.75,
          -2.789999999999999,
          3.025000000000002,
          -1.0700000000000003,
          2.4849999999999994,
          2.3000000000000007,
          1.2950000000000017,
          -1.7199999999999989,
          -0.384999999999998,
          0.384999999999998,
          0.3949999999999996,
          -1.879999999999999,
          -2.6199999999999974,
          -0.14000000000000057,
          -0.7299999999999969,
          -0.21499999999999986,
          2.219999999999999,
          1.7299999999999969,
          0.9350000000000023,
          1.7199999999999989,
          0.5599999999999987,
          -2.854999999999997,
          -1.3099999999999987,
          3.7749999999999986,
          -0.14000000000000057,
          -0.129999999999999,
          0.8149999999999977,
          0.7299999999999969,
          -1.0799999999999983,
          -0.7949999999999982,
          0.6499999999999986,
          0.07000000000000028,
          -0.7499999999999964,
          -3.0549999999999997,
          1.625,
          2.719999999999999,
          -1.9849999999999994,
          -1.0799999999999983,
          0.5449999999999982,
          1.9699999999999989,
          1.2950000000000017,
          1.7449999999999974,
          -0.21499999999999986,
          -2.794999999999998,
          0.8299999999999983,
          -2.139999999999997,
          -1.4799999999999969,
          -1.8249999999999957,
          -0.384999999999998,
          -2.4099999999999966,
          -1.8199999999999967,
          -3.5599999999999987,
          -0.20500000000000185,
          -2.625,
          -2.710000000000001,
          3.164999999999999,
          3.219999999999999,
          3.294999999999998,
          -0.33500000000000085,
          -0.129999999999999,
          -3.754999999999999,
          1.389999999999997,
          2.7099999999999973,
          2.3049999999999997,
          -3.129999999999999,
          -2.0749999999999957,
          -3.134999999999998,
          -1.5649999999999977,
          0.740000000000002,
          1.2299999999999969,
          0.4499999999999993,
          -2.0749999999999957,
          1.0050000000000026,
          2.8149999999999977,
          -2.9499999999999993,
          0.3949999999999996,
          -1.4799999999999969,
          -2.285,
          2.759999999999998,
          -2.4849999999999994,
          -1.7899999999999991,
          2.6199999999999974,
          0.125,
          -2.1900000000000013,
          -3.164999999999999,
          -0.6499999999999986,
          -1.3099999999999987,
          -1.4799999999999969,
          -1.4449999999999967,
          0.14000000000000057,
          0.8299999999999983,
          1.0300000000000011,
          0.4700000000000024,
          -2.905000000000001,
          2.0199999999999996,
          -3.5549999999999997,
          -0.125,
          0.9149999999999991,
          0.8299999999999983,
          -1.4449999999999967,
          -2.9349999999999987,
          3.4349999999999987,
          -0.9149999999999991,
          0.22499999999999787,
          0.9549999999999983,
          -1.0449999999999982,
          -4.34,
          -3.164999999999999,
          -2.0650000000000013,
          -1.8299999999999983,
          -2.625,
          -0.20500000000000185,
          -1.5699999999999967,
          -2.9749999999999943,
          0.9249999999999972,
          -0.0400000000000027,
          -0.6050000000000004,
          1.0949999999999989,
          1.9299999999999997,
          0.20500000000000185,
          -2.995000000000001,
          2.6199999999999974,
          -0.6499999999999986,
          0.740000000000002,
          2.6050000000000004,
          -3.0549999999999997,
          3.6899999999999977,
          1.0899999999999999,
          0.740000000000002,
          -0.1750000000000007,
          1.5249999999999986,
          -1.6749999999999972,
          -1.8299999999999983,
          0.7299999999999969,
          -0.39000000000000057,
          -0.9549999999999983,
          -0.9949999999999974,
          3.349999999999998,
          0.8249999999999993,
          3.684999999999995,
          -3.905000000000001,
          0.6600000000000001,
          -1.6499999999999986,
          -1.8099999999999987,
          0.9149999999999991,
          1.3099999999999987,
          4.229999999999997,
          2.3699999999999974,
          1.8099999999999952,
          -2.509999999999998,
          1.9349999999999987,
          -2.8999999999999986,
          0.740000000000002,
          1.615000000000002,
          2.594999999999999,
          2.6199999999999974,
          -1.8799999999999955,
          -1.7049999999999983,
          2.5749999999999957,
          0.384999999999998,
          -3.789999999999999,
          0.9549999999999983,
          2.9549999999999983,
          -1.8799999999999955,
          -0.7949999999999982,
          2.1949999999999967,
          -1.3000000000000007,
          3.0699999999999967,
          1.9549999999999983,
          3.7749999999999986,
          -4.739999999999998,
          2.285,
          -0.6499999999999986,
          -4.645000000000003,
          0.740000000000002,
          0.14000000000000057,
          -1.0899999999999999,
          -1.7399999999999984,
          1.389999999999997,
          1.7399999999999984,
          -2.014999999999997,
          -0.27500000000000213,
          -0.7949999999999982,
          -1.0050000000000026,
          2.9800000000000004,
          2.3699999999999974,
          -2.285,
          0.4499999999999993,
          3.905000000000001,
          1.4749999999999979,
          1.259999999999998,
          2.724999999999998,
          -1.0799999999999983,
          1.0949999999999989,
          -2.120000000000001,
          1.875,
          -1.0850000000000009,
          2.594999999999999,
          2.6050000000000004,
          1.8199999999999967,
          0.8299999999999983,
          1.3099999999999987,
          3.1799999999999997,
          1.4600000000000009,
          0.7299999999999969,
          2.0199999999999996,
          0.3949999999999996,
          -1.8199999999999967,
          2.6149999999999984,
          2.759999999999998,
          -2.330000000000002,
          -0.7499999999999964,
          -2.854999999999997,
          1.6400000000000006,
          0.9949999999999974,
          -0.6600000000000001,
          -1,
          -1.0899999999999999,
          -1.8299999999999983,
          2.9549999999999983,
          0.125,
          2.4849999999999994,
          -1.0949999999999989,
          -1.3000000000000007,
          0.20500000000000185,
          0.384999999999998,
          1.384999999999998,
          3.469999999999999,
          2.4899999999999984,
          -2.764999999999997,
          2.155000000000001,
          0.8149999999999977,
          -3.2950000000000017,
          -0.3949999999999996,
          0.9549999999999983,
          -1.3049999999999962,
          -1.9299999999999997,
          0.7299999999999969,
          -1.4449999999999967,
          -1.0850000000000009,
          1.8299999999999983,
          0.9149999999999991,
          -3.25,
          -3.3649999999999984,
          2.4849999999999994,
          0.9249999999999972,
          2.719999999999999,
          -1.8749999999999964,
          -4.159999999999997,
          0.3949999999999996,
          -1.8799999999999955,
          -1.8500000000000014,
          -1.0449999999999982,
          1.0449999999999982,
          -2.5699999999999967,
          1.9099999999999966,
          2.0249999999999986,
          -2.6950000000000003,
          3.1999999999999993,
          2.960000000000001,
          -2.139999999999997,
          -4.844999999999999,
          -3.094999999999999,
          -0.8200000000000003,
          -0.6499999999999986,
          -2.6950000000000003,
          0.6600000000000001,
          0.9299999999999997,
          -1.3550000000000004,
          3.0849999999999973,
          1.1799999999999997,
          2.3699999999999974,
          -2.139999999999997,
          1.4100000000000001,
          -1.7449999999999974,
          0.384999999999998,
          -1.6300000000000026,
          2.6849999999999987,
          3.8999999999999986,
          -0.0400000000000027,
          -1.7349999999999959,
          -2.014999999999997,
          -2.6799999999999997,
          -1.9349999999999987,
          -1.5649999999999977,
          0.6600000000000001,
          -0.5599999999999987,
          1.0899999999999999,
          0.8299999999999983,
          -0.0400000000000027,
          -0.4700000000000024,
          -0.4700000000000024,
          -1.7449999999999974,
          3.9499999999999993,
          0.3949999999999996,
          -0.384999999999998,
          -1.4050000000000011,
          -0.7949999999999982,
          2.0199999999999996,
          -1.9699999999999989,
          1.370000000000001,
          -1.5249999999999986,
          -2.5,
          2.754999999999999,
          -0.6499999999999986,
          -0.8299999999999983,
          -2.224999999999998,
          0.6499999999999986,
          0.740000000000002,
          1.4799999999999969,
          1.6649999999999991,
          0.22499999999999787,
          -0.0400000000000027,
          2.414999999999999,
          -1.7300000000000004,
          2.0599999999999987,
          -0.6600000000000001,
          1.6749999999999972,
          1.4749999999999979,
          0.7299999999999969,
          4.014999999999997,
          3.5549999999999997,
          -2.224999999999998,
          -1.7449999999999974,
          -2.2099999999999973,
          -0.7850000000000001,
          2.864999999999995,
          1.3900000000000006,
          1.8000000000000007,
          -2.530000000000001,
          -1.3550000000000004,
          -1.3099999999999987,
          -1.3550000000000004,
          0.740000000000002,
          -0.9949999999999974,
          -0.3949999999999996,
          2.509999999999998,
          0.740000000000002,
          1.6749999999999972,
          -0.3949999999999996,
          2.364999999999995,
          -0.7499999999999964,
          -1.5899999999999999,
          -1.5399999999999991,
          5.725000000000001,
          4.975000000000001,
          1.5899999999999999,
          -4.015000000000004,
          -2.5049999999999955,
          1.259999999999998,
          3.4800000000000004,
          -2.014999999999997,
          0.9549999999999983,
          1.4749999999999979,
          -0.5599999999999987,
          -0.9549999999999983,
          0.3949999999999996,
          -2.835000000000001,
          0.9949999999999974,
          -0.7850000000000001,
          0.740000000000002,
          -0.4700000000000024,
          2.4849999999999994,
          -0.6499999999999986,
          1.875,
          -1.3550000000000004,
          -3.7349999999999994,
          2.0599999999999987,
          2.0799999999999983,
          -1.8799999999999955,
          2.0199999999999996,
          -1.3749999999999964,
          1.9249999999999972,
          -2.139999999999997,
          -3.25,
          2.424999999999997,
          2.7349999999999994,
          3.349999999999998,
          2.8399999999999963,
          -1.384999999999998,
          2.039999999999999,
          5.225000000000001,
          -0.9149999999999991,
          -1.7300000000000004,
          -0.740000000000002,
          0.8149999999999977,
          2.285,
          -3.25,
          -1.9549999999999983,
          1.0449999999999982,
          1.4749999999999979,
          2.6199999999999974,
          -0.26000000000000156,
          2.1099999999999994,
          -3.0549999999999997,
          2.4849999999999994,
          -0.20500000000000185,
          3.085000000000001,
          -3.1499999999999986,
          -1.1400000000000006,
          0.9350000000000023,
          1.8299999999999983,
          0.740000000000002,
          -2.164999999999999,
          2.0199999999999996,
          2.594999999999999,
          -0.20500000000000185,
          1.5899999999999999,
          0.20500000000000185,
          -3.164999999999999,
          2.9549999999999983,
          0.8299999999999983,
          3.349999999999998,
          -1.6300000000000026,
          0.4049999999999976,
          2.0199999999999996,
          2.960000000000001,
          -3.9400000000000013,
          1.375,
          -2.049999999999997,
          -1.3099999999999987,
          4.014999999999997,
          -2.8999999999999986,
          1.4799999999999969,
          1.0449999999999982,
          -2.75,
          2.594999999999999,
          0.384999999999998,
          -0.740000000000002,
          -3.269999999999996,
          -2.094999999999999,
          0.6499999999999986,
          -0.0400000000000027,
          -0.384999999999998,
          0.9549999999999983,
          3.0050000000000026,
          2.8249999999999993,
          5.135000000000002,
          2.0799999999999983,
          -0.21499999999999986,
          -0.06500000000000128,
          1.4799999999999969,
          -0.8200000000000003,
          0.22499999999999787,
          -0.14000000000000057,
          -2.594999999999999,
          -0.129999999999999,
          -0.3949999999999996,
          2.014999999999997,
          -2.094999999999999,
          -4.649999999999999,
          -1.0949999999999989,
          -0.6600000000000001,
          -3.405000000000001,
          2.7749999999999986,
          -0.14000000000000057,
          -1.0050000000000026,
          -1.2899999999999991,
          -0.740000000000002,
          -1.9649999999999963,
          -2.009999999999998,
          -1.5249999999999986,
          2.3999999999999986,
          -2.5249999999999986,
          0.8249999999999993,
          -2.309999999999995,
          -2.6199999999999974,
          0.9549999999999983,
          1.3099999999999987,
          3.4800000000000004,
          -1.3000000000000007,
          -2.5249999999999986,
          -1.4449999999999967,
          3.2049999999999983,
          -0.9549999999999983,
          3.424999999999997,
          2.484999999999996,
          0.120000000000001,
          -0.0400000000000027,
          2.174999999999997,
          0.7299999999999969,
          1.259999999999998,
          -2.219999999999999,
          -0.14000000000000057,
          -0.8299999999999983,
          0.3949999999999996,
          -1.0050000000000026,
          2.104999999999997,
          1.75,
          -0.9549999999999983,
          -1.9299999999999997,
          -1.6550000000000011,
          1.0449999999999982,
          -0.0400000000000027,
          -0.129999999999999,
          -1.4250000000000007,
          -0.6499999999999986,
          -0.6600000000000001,
          2.375,
          2.129999999999999,
          -1.3099999999999987,
          -5.350000000000001,
          -0.4700000000000024,
          -1.6550000000000011,
          -5.284999999999997,
          -1.8299999999999983,
          0.8299999999999983,
          -2.424999999999997,
          -3.5749999999999993,
          -0.8299999999999983,
          0.9299999999999997,
          -0.5599999999999987,
          -2.495000000000001,
          2.0599999999999987,
          -0.8149999999999977,
          0.4700000000000024,
          -1.0949999999999989,
          -1.0949999999999989,
          -1.375,
          1.375,
          1.4549999999999983,
          0.3949999999999996,
          3.0699999999999967,
          -3.0749999999999957,
          -1.6550000000000011,
          -1.3749999999999964,
          -4.344999999999999,
          -1.4449999999999967,
          -1.3550000000000004,
          -6.024999999999999,
          3.094999999999999,
          -0.20500000000000185,
          1.4600000000000009,
          -0.7499999999999964,
          -2.4049999999999976,
          0.9549999999999983,
          2.84,
          -1.389999999999997,
          0.8249999999999993,
          -0.125,
          1.8199999999999967,
          0.7499999999999964,
          0.8249999999999993,
          0.8049999999999997,
          -3.164999999999999,
          -2.6950000000000003,
          -3.4750000000000014,
          -1.8299999999999983,
          -2.1900000000000013,
          2.599999999999998,
          -0.7499999999999964,
          0.14000000000000057,
          -1.9699999999999989,
          3.289999999999999,
          -2.009999999999998,
          -1.8799999999999955,
          1.4799999999999969,
          0.4700000000000024,
          1.9399999999999977,
          -0.6499999999999986,
          1.5899999999999999,
          2.9549999999999983,
          -1.3449999999999989,
          3.0799999999999983,
          -2.7699999999999996,
          -0.6600000000000001,
          -1.5249999999999986,
          0.3949999999999996,
          1.259999999999998,
          4.549999999999997,
          -1.0449999999999982,
          0.9949999999999974,
          -1.0050000000000026,
          0.33999999999999986,
          -2.424999999999997,
          -1.6600000000000001,
          0.8249999999999993,
          -3.0549999999999997,
          -1.0799999999999983,
          1.129999999999999,
          3.6499999999999986,
          -1.9549999999999983,
          -0.9949999999999974,
          -0.5599999999999987,
          -0.6600000000000001,
          3.0849999999999973,
          -1.5649999999999977,
          2.6549999999999976,
          -2.309999999999995,
          2.174999999999997,
          2.754999999999999,
          3.8199999999999967,
          -0.7850000000000001,
          -0.6600000000000001,
          1.5700000000000003,
          -1.7049999999999983,
          0.33500000000000085,
          -0.20500000000000185,
          -0.14000000000000057,
          -0.384999999999998,
          -0.0400000000000027,
          -2.710000000000001,
          0.33500000000000085,
          -1.3550000000000004,
          -0.7850000000000001,
          -0.14000000000000057,
          -0.6050000000000004,
          1.384999999999998,
          2.174999999999997,
          -1.4799999999999969,
          -0.26000000000000156
         ],
         "xaxis": "x",
         "yaxis": "y"
        }
       ],
       "layout": {
        "barmode": "relative",
        "legend": {
         "tracegroupgap": 0
        },
        "margin": {
         "t": 60
        },
        "shapes": [
         {
          "line": {
           "color": "red",
           "dash": "dash",
           "width": 3
          },
          "type": "line",
          "x0": -4.57,
          "x1": -4.57,
          "xref": "x",
          "y0": 0,
          "y1": 1,
          "yref": "y domain"
         },
         {
          "line": {
           "color": "red",
           "dash": "dash",
           "width": 3
          },
          "type": "line",
          "x0": 4.57,
          "x1": 4.57,
          "xref": "x",
          "y0": 0,
          "y1": 1,
          "yref": "y domain"
         }
        ],
        "template": {
         "data": {
          "bar": [
           {
            "error_x": {
             "color": "#2a3f5f"
            },
            "error_y": {
             "color": "#2a3f5f"
            },
            "marker": {
             "line": {
              "color": "#E5ECF6",
              "width": 0.5
             },
             "pattern": {
              "fillmode": "overlay",
              "size": 10,
              "solidity": 0.2
             }
            },
            "type": "bar"
           }
          ],
          "barpolar": [
           {
            "marker": {
             "line": {
              "color": "#E5ECF6",
              "width": 0.5
             },
             "pattern": {
              "fillmode": "overlay",
              "size": 10,
              "solidity": 0.2
             }
            },
            "type": "barpolar"
           }
          ],
          "carpet": [
           {
            "aaxis": {
             "endlinecolor": "#2a3f5f",
             "gridcolor": "white",
             "linecolor": "white",
             "minorgridcolor": "white",
             "startlinecolor": "#2a3f5f"
            },
            "baxis": {
             "endlinecolor": "#2a3f5f",
             "gridcolor": "white",
             "linecolor": "white",
             "minorgridcolor": "white",
             "startlinecolor": "#2a3f5f"
            },
            "type": "carpet"
           }
          ],
          "choropleth": [
           {
            "colorbar": {
             "outlinewidth": 0,
             "ticks": ""
            },
            "type": "choropleth"
           }
          ],
          "contour": [
           {
            "colorbar": {
             "outlinewidth": 0,
             "ticks": ""
            },
            "colorscale": [
             [
              0,
              "#0d0887"
             ],
             [
              0.1111111111111111,
              "#46039f"
             ],
             [
              0.2222222222222222,
              "#7201a8"
             ],
             [
              0.3333333333333333,
              "#9c179e"
             ],
             [
              0.4444444444444444,
              "#bd3786"
             ],
             [
              0.5555555555555556,
              "#d8576b"
             ],
             [
              0.6666666666666666,
              "#ed7953"
             ],
             [
              0.7777777777777778,
              "#fb9f3a"
             ],
             [
              0.8888888888888888,
              "#fdca26"
             ],
             [
              1,
              "#f0f921"
             ]
            ],
            "type": "contour"
           }
          ],
          "contourcarpet": [
           {
            "colorbar": {
             "outlinewidth": 0,
             "ticks": ""
            },
            "type": "contourcarpet"
           }
          ],
          "heatmap": [
           {
            "colorbar": {
             "outlinewidth": 0,
             "ticks": ""
            },
            "colorscale": [
             [
              0,
              "#0d0887"
             ],
             [
              0.1111111111111111,
              "#46039f"
             ],
             [
              0.2222222222222222,
              "#7201a8"
             ],
             [
              0.3333333333333333,
              "#9c179e"
             ],
             [
              0.4444444444444444,
              "#bd3786"
             ],
             [
              0.5555555555555556,
              "#d8576b"
             ],
             [
              0.6666666666666666,
              "#ed7953"
             ],
             [
              0.7777777777777778,
              "#fb9f3a"
             ],
             [
              0.8888888888888888,
              "#fdca26"
             ],
             [
              1,
              "#f0f921"
             ]
            ],
            "type": "heatmap"
           }
          ],
          "heatmapgl": [
           {
            "colorbar": {
             "outlinewidth": 0,
             "ticks": ""
            },
            "colorscale": [
             [
              0,
              "#0d0887"
             ],
             [
              0.1111111111111111,
              "#46039f"
             ],
             [
              0.2222222222222222,
              "#7201a8"
             ],
             [
              0.3333333333333333,
              "#9c179e"
             ],
             [
              0.4444444444444444,
              "#bd3786"
             ],
             [
              0.5555555555555556,
              "#d8576b"
             ],
             [
              0.6666666666666666,
              "#ed7953"
             ],
             [
              0.7777777777777778,
              "#fb9f3a"
             ],
             [
              0.8888888888888888,
              "#fdca26"
             ],
             [
              1,
              "#f0f921"
             ]
            ],
            "type": "heatmapgl"
           }
          ],
          "histogram": [
           {
            "marker": {
             "pattern": {
              "fillmode": "overlay",
              "size": 10,
              "solidity": 0.2
             }
            },
            "type": "histogram"
           }
          ],
          "histogram2d": [
           {
            "colorbar": {
             "outlinewidth": 0,
             "ticks": ""
            },
            "colorscale": [
             [
              0,
              "#0d0887"
             ],
             [
              0.1111111111111111,
              "#46039f"
             ],
             [
              0.2222222222222222,
              "#7201a8"
             ],
             [
              0.3333333333333333,
              "#9c179e"
             ],
             [
              0.4444444444444444,
              "#bd3786"
             ],
             [
              0.5555555555555556,
              "#d8576b"
             ],
             [
              0.6666666666666666,
              "#ed7953"
             ],
             [
              0.7777777777777778,
              "#fb9f3a"
             ],
             [
              0.8888888888888888,
              "#fdca26"
             ],
             [
              1,
              "#f0f921"
             ]
            ],
            "type": "histogram2d"
           }
          ],
          "histogram2dcontour": [
           {
            "colorbar": {
             "outlinewidth": 0,
             "ticks": ""
            },
            "colorscale": [
             [
              0,
              "#0d0887"
             ],
             [
              0.1111111111111111,
              "#46039f"
             ],
             [
              0.2222222222222222,
              "#7201a8"
             ],
             [
              0.3333333333333333,
              "#9c179e"
             ],
             [
              0.4444444444444444,
              "#bd3786"
             ],
             [
              0.5555555555555556,
              "#d8576b"
             ],
             [
              0.6666666666666666,
              "#ed7953"
             ],
             [
              0.7777777777777778,
              "#fb9f3a"
             ],
             [
              0.8888888888888888,
              "#fdca26"
             ],
             [
              1,
              "#f0f921"
             ]
            ],
            "type": "histogram2dcontour"
           }
          ],
          "mesh3d": [
           {
            "colorbar": {
             "outlinewidth": 0,
             "ticks": ""
            },
            "type": "mesh3d"
           }
          ],
          "parcoords": [
           {
            "line": {
             "colorbar": {
              "outlinewidth": 0,
              "ticks": ""
             }
            },
            "type": "parcoords"
           }
          ],
          "pie": [
           {
            "automargin": true,
            "type": "pie"
           }
          ],
          "scatter": [
           {
            "fillpattern": {
             "fillmode": "overlay",
             "size": 10,
             "solidity": 0.2
            },
            "type": "scatter"
           }
          ],
          "scatter3d": [
           {
            "line": {
             "colorbar": {
              "outlinewidth": 0,
              "ticks": ""
             }
            },
            "marker": {
             "colorbar": {
              "outlinewidth": 0,
              "ticks": ""
             }
            },
            "type": "scatter3d"
           }
          ],
          "scattercarpet": [
           {
            "marker": {
             "colorbar": {
              "outlinewidth": 0,
              "ticks": ""
             }
            },
            "type": "scattercarpet"
           }
          ],
          "scattergeo": [
           {
            "marker": {
             "colorbar": {
              "outlinewidth": 0,
              "ticks": ""
             }
            },
            "type": "scattergeo"
           }
          ],
          "scattergl": [
           {
            "marker": {
             "colorbar": {
              "outlinewidth": 0,
              "ticks": ""
             }
            },
            "type": "scattergl"
           }
          ],
          "scattermapbox": [
           {
            "marker": {
             "colorbar": {
              "outlinewidth": 0,
              "ticks": ""
             }
            },
            "type": "scattermapbox"
           }
          ],
          "scatterpolar": [
           {
            "marker": {
             "colorbar": {
              "outlinewidth": 0,
              "ticks": ""
             }
            },
            "type": "scatterpolar"
           }
          ],
          "scatterpolargl": [
           {
            "marker": {
             "colorbar": {
              "outlinewidth": 0,
              "ticks": ""
             }
            },
            "type": "scatterpolargl"
           }
          ],
          "scatterternary": [
           {
            "marker": {
             "colorbar": {
              "outlinewidth": 0,
              "ticks": ""
             }
            },
            "type": "scatterternary"
           }
          ],
          "surface": [
           {
            "colorbar": {
             "outlinewidth": 0,
             "ticks": ""
            },
            "colorscale": [
             [
              0,
              "#0d0887"
             ],
             [
              0.1111111111111111,
              "#46039f"
             ],
             [
              0.2222222222222222,
              "#7201a8"
             ],
             [
              0.3333333333333333,
              "#9c179e"
             ],
             [
              0.4444444444444444,
              "#bd3786"
             ],
             [
              0.5555555555555556,
              "#d8576b"
             ],
             [
              0.6666666666666666,
              "#ed7953"
             ],
             [
              0.7777777777777778,
              "#fb9f3a"
             ],
             [
              0.8888888888888888,
              "#fdca26"
             ],
             [
              1,
              "#f0f921"
             ]
            ],
            "type": "surface"
           }
          ],
          "table": [
           {
            "cells": {
             "fill": {
              "color": "#EBF0F8"
             },
             "line": {
              "color": "white"
             }
            },
            "header": {
             "fill": {
              "color": "#C8D4E3"
             },
             "line": {
              "color": "white"
             }
            },
            "type": "table"
           }
          ]
         },
         "layout": {
          "annotationdefaults": {
           "arrowcolor": "#2a3f5f",
           "arrowhead": 0,
           "arrowwidth": 1
          },
          "autotypenumbers": "strict",
          "coloraxis": {
           "colorbar": {
            "outlinewidth": 0,
            "ticks": ""
           }
          },
          "colorscale": {
           "diverging": [
            [
             0,
             "#8e0152"
            ],
            [
             0.1,
             "#c51b7d"
            ],
            [
             0.2,
             "#de77ae"
            ],
            [
             0.3,
             "#f1b6da"
            ],
            [
             0.4,
             "#fde0ef"
            ],
            [
             0.5,
             "#f7f7f7"
            ],
            [
             0.6,
             "#e6f5d0"
            ],
            [
             0.7,
             "#b8e186"
            ],
            [
             0.8,
             "#7fbc41"
            ],
            [
             0.9,
             "#4d9221"
            ],
            [
             1,
             "#276419"
            ]
           ],
           "sequential": [
            [
             0,
             "#0d0887"
            ],
            [
             0.1111111111111111,
             "#46039f"
            ],
            [
             0.2222222222222222,
             "#7201a8"
            ],
            [
             0.3333333333333333,
             "#9c179e"
            ],
            [
             0.4444444444444444,
             "#bd3786"
            ],
            [
             0.5555555555555556,
             "#d8576b"
            ],
            [
             0.6666666666666666,
             "#ed7953"
            ],
            [
             0.7777777777777778,
             "#fb9f3a"
            ],
            [
             0.8888888888888888,
             "#fdca26"
            ],
            [
             1,
             "#f0f921"
            ]
           ],
           "sequentialminus": [
            [
             0,
             "#0d0887"
            ],
            [
             0.1111111111111111,
             "#46039f"
            ],
            [
             0.2222222222222222,
             "#7201a8"
            ],
            [
             0.3333333333333333,
             "#9c179e"
            ],
            [
             0.4444444444444444,
             "#bd3786"
            ],
            [
             0.5555555555555556,
             "#d8576b"
            ],
            [
             0.6666666666666666,
             "#ed7953"
            ],
            [
             0.7777777777777778,
             "#fb9f3a"
            ],
            [
             0.8888888888888888,
             "#fdca26"
            ],
            [
             1,
             "#f0f921"
            ]
           ]
          },
          "colorway": [
           "#636efa",
           "#EF553B",
           "#00cc96",
           "#ab63fa",
           "#FFA15A",
           "#19d3f3",
           "#FF6692",
           "#B6E880",
           "#FF97FF",
           "#FECB52"
          ],
          "font": {
           "color": "#2a3f5f"
          },
          "geo": {
           "bgcolor": "white",
           "lakecolor": "white",
           "landcolor": "#E5ECF6",
           "showlakes": true,
           "showland": true,
           "subunitcolor": "white"
          },
          "hoverlabel": {
           "align": "left"
          },
          "hovermode": "closest",
          "mapbox": {
           "style": "light"
          },
          "paper_bgcolor": "white",
          "plot_bgcolor": "#E5ECF6",
          "polar": {
           "angularaxis": {
            "gridcolor": "white",
            "linecolor": "white",
            "ticks": ""
           },
           "bgcolor": "#E5ECF6",
           "radialaxis": {
            "gridcolor": "white",
            "linecolor": "white",
            "ticks": ""
           }
          },
          "scene": {
           "xaxis": {
            "backgroundcolor": "#E5ECF6",
            "gridcolor": "white",
            "gridwidth": 2,
            "linecolor": "white",
            "showbackground": true,
            "ticks": "",
            "zerolinecolor": "white"
           },
           "yaxis": {
            "backgroundcolor": "#E5ECF6",
            "gridcolor": "white",
            "gridwidth": 2,
            "linecolor": "white",
            "showbackground": true,
            "ticks": "",
            "zerolinecolor": "white"
           },
           "zaxis": {
            "backgroundcolor": "#E5ECF6",
            "gridcolor": "white",
            "gridwidth": 2,
            "linecolor": "white",
            "showbackground": true,
            "ticks": "",
            "zerolinecolor": "white"
           }
          },
          "shapedefaults": {
           "line": {
            "color": "#2a3f5f"
           }
          },
          "ternary": {
           "aaxis": {
            "gridcolor": "white",
            "linecolor": "white",
            "ticks": ""
           },
           "baxis": {
            "gridcolor": "white",
            "linecolor": "white",
            "ticks": ""
           },
           "bgcolor": "#E5ECF6",
           "caxis": {
            "gridcolor": "white",
            "linecolor": "white",
            "ticks": ""
           }
          },
          "title": {
           "x": 0.05
          },
          "xaxis": {
           "automargin": true,
           "gridcolor": "white",
           "linecolor": "white",
           "ticks": "",
           "title": {
            "standoff": 15
           },
           "zerolinecolor": "white",
           "zerolinewidth": 2
          },
          "yaxis": {
           "automargin": true,
           "gridcolor": "white",
           "linecolor": "white",
           "ticks": "",
           "title": {
            "standoff": 15
           },
           "zerolinecolor": "white",
           "zerolinewidth": 2
          }
         }
        },
        "xaxis": {
         "anchor": "y",
         "domain": [
          0,
          1
         ],
         "title": {
          "text": "Difference in Medians"
         }
        },
        "yaxis": {
         "anchor": "x",
         "domain": [
          0,
          1
         ],
         "title": {
          "text": "count"
         }
        }
       }
      },
      "text/html": [
       "<div>                            <div id=\"58c07253-f0c2-4c93-8e14-49dfc242781d\" class=\"plotly-graph-div\" style=\"height:525px; width:100%;\"></div>            <script type=\"text/javascript\">                require([\"plotly\"], function(Plotly) {                    window.PLOTLYENV=window.PLOTLYENV || {};                                    if (document.getElementById(\"58c07253-f0c2-4c93-8e14-49dfc242781d\")) {                    Plotly.newPlot(                        \"58c07253-f0c2-4c93-8e14-49dfc242781d\",                        [{\"alignmentgroup\":\"True\",\"bingroup\":\"x\",\"hovertemplate\":\"Difference in Medians=%{x}\\u003cbr\\u003ecount=%{y}\\u003cextra\\u003e\\u003c\\u002fextra\\u003e\",\"legendgroup\":\"\",\"marker\":{\"color\":\"grey\",\"pattern\":{\"shape\":\"\"},\"line\":{\"color\":\"black\",\"width\":1}},\"name\":\"\",\"offsetgroup\":\"\",\"orientation\":\"v\",\"showlegend\":false,\"x\":[3.9299999999999997,-1.1700000000000017,2.960000000000001,2.129999999999999,-1.6599999999999966,-0.8299999999999983,-0.125,0.7299999999999969,-3.5749999999999993,1.8099999999999952,1.0300000000000011,-3.5599999999999987,-0.3949999999999996,-3.490000000000002,0.22499999999999787,-0.7499999999999964,-1.9299999999999997,-0.4700000000000024,-2.594999999999999,0.9549999999999983,2.5199999999999996,-0.7299999999999969,2.914999999999999,2.174999999999997,-3.5599999999999987,-2.6199999999999974,-0.740000000000002,-1.0449999999999982,-1.7449999999999974,4.234999999999999,-1.5199999999999996,-1.7300000000000004,3.8199999999999967,0.740000000000002,-0.20500000000000185,-3.5549999999999997,0.8049999999999997,-1.3799999999999955,-1.8799999999999955,1.389999999999997,-3.125,3.219999999999999,2.309999999999995,-2.75,-2.219999999999999,1.4600000000000009,-1.3099999999999987,1.495000000000001,1.269999999999996,0.3949999999999996,3.424999999999997,-0.0400000000000027,2.3999999999999986,-1.389999999999997,-1.7000000000000028,0.20500000000000185,-3.049999999999997,1.6449999999999996,3.0899999999999963,0.8249999999999993,1.5249999999999986,2.174999999999997,0.22499999999999787,0.4499999999999993,1.5899999999999999,-1.9999999999999964,-2.309999999999995,-1.7449999999999974,-1.3550000000000004,-0.7299999999999969,-0.3949999999999996,-0.1750000000000007,3.0,-0.1750000000000007,-0.4700000000000024,1.8399999999999999,-1.6149999999999984,-2.1499999999999986,-4.0049999999999955,-0.9549999999999983,-2.854999999999997,-2.6199999999999974,1.7449999999999974,1.389999999999997,-1.0799999999999983,-2.094999999999999,-1.7899999999999991,1.7899999999999991,0.3949999999999996,-1.4799999999999969,-3.1700000000000017,0.8299999999999983,-1.8199999999999967,0.20500000000000185,-0.7499999999999964,1.9299999999999997,1.0249999999999986,-0.740000000000002,1.370000000000001,-2.0049999999999955,2.219999999999999,-0.9949999999999974,-0.9949999999999974,1.0949999999999989,0.5800000000000018,1.5249999999999986,0.5449999999999982,-1.4250000000000007,-0.0400000000000027,0.4700000000000024,1.8199999999999967,-1.3749999999999964,-2.174999999999997,-1.1799999999999962,-2.9450000000000003,1.5249999999999986,-2.094999999999999,1.0850000000000009,1.0949999999999989,-1.7899999999999991,-2.5699999999999967,2.289999999999999,2.6950000000000003,2.3699999999999974,1.8199999999999967,-3.3200000000000003,0.8249999999999993,-1.7899999999999991,1.2299999999999969,-0.20500000000000185,0.14000000000000057,2.6199999999999974,0.384999999999998,2.174999999999997,-0.7299999999999969,-1.0899999999999999,-2.5049999999999955,-2.764999999999997,-1.7749999999999986,-2.014999999999997,-2.364999999999995,-0.7299999999999969,2.375,-1.389999999999997,1.2949999999999946,2.4899999999999984,-3.5599999999999987,1.259999999999998,-0.14000000000000057,0.3949999999999996,1.8149999999999977,-0.21499999999999986,-2.094999999999999,2.8200000000000003,-1.3099999999999987,-0.3949999999999996,1.8199999999999967,4.454999999999998,2.599999999999998,2.2650000000000006,1.6149999999999949,0.384999999999998,2.7699999999999996,3.424999999999997,2.414999999999999,-1.1849999999999952,0.3949999999999996,1.370000000000001,3.0899999999999963,-1.0,1.9299999999999997,2.014999999999997,1.389999999999997,-0.5599999999999987,-2.1900000000000013,3.905000000000001,1.6099999999999994,3.8199999999999967,2.1949999999999967,2.129999999999999,-2.5249999999999986,0.20500000000000185,2.599999999999998,-1.894999999999996,-0.6600000000000001,1.7850000000000001,1.4799999999999969,0.4700000000000024,-2.5349999999999966,-1.0449999999999982,0.384999999999998,-1.9200000000000017,-2.285,-1.7549999999999955,0.125,-3.125,2.599999999999998,-1.259999999999998,-1.9849999999999994,-0.4700000000000024,-2.854999999999997,-0.6600000000000001,1.4949999999999974,1.389999999999997,1.389999999999997,3.5549999999999997,-0.0400000000000027,2.599999999999998,2.035,1.8199999999999967,1.259999999999998,3.1599999999999966,-2.719999999999999,-2.239999999999995,2.7449999999999974,-0.0400000000000027,-2.789999999999999,-3.1449999999999996,-0.20500000000000185,0.8299999999999983,2.0249999999999986,-2.965,-0.384999999999998,1.7249999999999979,1.9299999999999997,-0.6499999999999986,-1.0,2.394999999999996,0.9549999999999983,1.3000000000000007,-1.8099999999999987,-2.2099999999999973,-2.995000000000001,2.5049999999999955,2.6199999999999974,3.085000000000001,3.4800000000000004,2.0450000000000017,2.129999999999999,-2.139999999999997,-3.384999999999998,2.375,2.5049999999999955,-3.3200000000000003,2.1499999999999986,2.759999999999998,-0.8299999999999983,-1.6550000000000011,0.4049999999999976,1.4749999999999979,3.1999999999999993,1.9299999999999997,-1.5999999999999979,-0.8299999999999983,-0.125,-0.740000000000002,0.8299999999999983,2.5199999999999996,-2.0049999999999955,0.8249999999999993,-1.7749999999999986,0.07000000000000028,-0.3949999999999996,-1.4449999999999967,-0.3949999999999996,-1.9450000000000003,-0.5599999999999987,-0.8249999999999993,-3.4750000000000014,-3.125,0.8299999999999983,-1.3900000000000006,2.014999999999997,2.7449999999999974,0.3949999999999996,1.3000000000000007,-0.6600000000000001,-2.639999999999997,0.4700000000000024,-2.4099999999999966,-1.3099999999999987,-2.139999999999997,-3.25,0.9949999999999974,0.9549999999999983,2.419999999999998,-0.0400000000000027,-1.3900000000000006,1.375,-0.26000000000000156,2.174999999999997,3.349999999999998,-3.0899999999999963,1.0050000000000026,0.740000000000002,-0.20500000000000185,0.22499999999999787,-0.7949999999999982,-0.6499999999999986,-2.625,-1.0449999999999982,1.1799999999999962,0.8299999999999983,2.6149999999999984,0.14000000000000057,-1.3449999999999989,-0.125,2.129999999999999,3.5549999999999997,-1.8799999999999955,2.6199999999999974,0.8299999999999983,2.884999999999998,-2.639999999999997,-2.5049999999999955,-2.5049999999999955,-1.9749999999999979,-2.7349999999999994,1.9299999999999997,0.3949999999999996,-1.3449999999999989,2.330000000000002,-0.20500000000000185,0.3949999999999996,-4.765000000000001,-0.3949999999999996,0.384999999999998,-0.4700000000000024,0.20500000000000185,-0.20500000000000185,-3.4350000000000023,-4.344999999999999,1.4050000000000011,-2.164999999999999,2.3699999999999974,-0.3450000000000024,-2.3649999999999984,0.07000000000000028,-0.129999999999999,1.389999999999997,3.3550000000000004,-0.6999999999999993,3.289999999999999,2.3699999999999974,-2.6950000000000003,3.9099999999999966,1.9099999999999966,-2.014999999999997,-3.0299999999999976,1.9349999999999987,1.389999999999997,0.740000000000002,-2.879999999999999,1.2950000000000017,2.594999999999999,-2.780000000000001,1.2049999999999983,3.7799999999999976,-3.424999999999997,-1.7300000000000004,-0.6499999999999986,3.1899999999999977,-1.7749999999999986,-1.7449999999999974,1.9349999999999987,-2.5249999999999986,-1.1799999999999997,-0.3949999999999996,3.3049999999999997,-3.289999999999999,0.14000000000000057,0.4700000000000024,3.3550000000000004,1.5849999999999973,-0.47499999999999787,-0.6600000000000001,3.594999999999999,0.8149999999999977,-1.4749999999999979,-1.7399999999999949,-2.094999999999999,-0.9800000000000004,1.9099999999999966,0.33500000000000085,0.4700000000000024,-1.5249999999999986,-2.7349999999999994,-1.8299999999999983,1.4050000000000011,-2.75,-2.789999999999999,3.025000000000002,-1.0700000000000003,2.4849999999999994,2.3000000000000007,1.2950000000000017,-1.7199999999999989,-0.384999999999998,0.384999999999998,0.3949999999999996,-1.879999999999999,-2.6199999999999974,-0.14000000000000057,-0.7299999999999969,-0.21499999999999986,2.219999999999999,1.7299999999999969,0.9350000000000023,1.7199999999999989,0.5599999999999987,-2.854999999999997,-1.3099999999999987,3.7749999999999986,-0.14000000000000057,-0.129999999999999,0.8149999999999977,0.7299999999999969,-1.0799999999999983,-0.7949999999999982,0.6499999999999986,0.07000000000000028,-0.7499999999999964,-3.0549999999999997,1.625,2.719999999999999,-1.9849999999999994,-1.0799999999999983,0.5449999999999982,1.9699999999999989,1.2950000000000017,1.7449999999999974,-0.21499999999999986,-2.794999999999998,0.8299999999999983,-2.139999999999997,-1.4799999999999969,-1.8249999999999957,-0.384999999999998,-2.4099999999999966,-1.8199999999999967,-3.5599999999999987,-0.20500000000000185,-2.625,-2.710000000000001,3.164999999999999,3.219999999999999,3.294999999999998,-0.33500000000000085,-0.129999999999999,-3.754999999999999,1.389999999999997,2.7099999999999973,2.3049999999999997,-3.129999999999999,-2.0749999999999957,-3.134999999999998,-1.5649999999999977,0.740000000000002,1.2299999999999969,0.4499999999999993,-2.0749999999999957,1.0050000000000026,2.8149999999999977,-2.9499999999999993,0.3949999999999996,-1.4799999999999969,-2.285,2.759999999999998,-2.4849999999999994,-1.7899999999999991,2.6199999999999974,0.125,-2.1900000000000013,-3.164999999999999,-0.6499999999999986,-1.3099999999999987,-1.4799999999999969,-1.4449999999999967,0.14000000000000057,0.8299999999999983,1.0300000000000011,0.4700000000000024,-2.905000000000001,2.0199999999999996,-3.5549999999999997,-0.125,0.9149999999999991,0.8299999999999983,-1.4449999999999967,-2.9349999999999987,3.4349999999999987,-0.9149999999999991,0.22499999999999787,0.9549999999999983,-1.0449999999999982,-4.34,-3.164999999999999,-2.0650000000000013,-1.8299999999999983,-2.625,-0.20500000000000185,-1.5699999999999967,-2.9749999999999943,0.9249999999999972,-0.0400000000000027,-0.6050000000000004,1.0949999999999989,1.9299999999999997,0.20500000000000185,-2.995000000000001,2.6199999999999974,-0.6499999999999986,0.740000000000002,2.6050000000000004,-3.0549999999999997,3.6899999999999977,1.0899999999999999,0.740000000000002,-0.1750000000000007,1.5249999999999986,-1.6749999999999972,-1.8299999999999983,0.7299999999999969,-0.39000000000000057,-0.9549999999999983,-0.9949999999999974,3.349999999999998,0.8249999999999993,3.684999999999995,-3.905000000000001,0.6600000000000001,-1.6499999999999986,-1.8099999999999987,0.9149999999999991,1.3099999999999987,4.229999999999997,2.3699999999999974,1.8099999999999952,-2.509999999999998,1.9349999999999987,-2.8999999999999986,0.740000000000002,1.615000000000002,2.594999999999999,2.6199999999999974,-1.8799999999999955,-1.7049999999999983,2.5749999999999957,0.384999999999998,-3.789999999999999,0.9549999999999983,2.9549999999999983,-1.8799999999999955,-0.7949999999999982,2.1949999999999967,-1.3000000000000007,3.0699999999999967,1.9549999999999983,3.7749999999999986,-4.739999999999998,2.285,-0.6499999999999986,-4.645000000000003,0.740000000000002,0.14000000000000057,-1.0899999999999999,-1.7399999999999984,1.389999999999997,1.7399999999999984,-2.014999999999997,-0.27500000000000213,-0.7949999999999982,-1.0050000000000026,2.9800000000000004,2.3699999999999974,-2.285,0.4499999999999993,3.905000000000001,1.4749999999999979,1.259999999999998,2.724999999999998,-1.0799999999999983,1.0949999999999989,-2.120000000000001,1.875,-1.0850000000000009,2.594999999999999,2.6050000000000004,1.8199999999999967,0.8299999999999983,1.3099999999999987,3.1799999999999997,1.4600000000000009,0.7299999999999969,2.0199999999999996,0.3949999999999996,-1.8199999999999967,2.6149999999999984,2.759999999999998,-2.330000000000002,-0.7499999999999964,-2.854999999999997,1.6400000000000006,0.9949999999999974,-0.6600000000000001,-1.0,-1.0899999999999999,-1.8299999999999983,2.9549999999999983,0.125,2.4849999999999994,-1.0949999999999989,-1.3000000000000007,0.20500000000000185,0.384999999999998,1.384999999999998,3.469999999999999,2.4899999999999984,-2.764999999999997,2.155000000000001,0.8149999999999977,-3.2950000000000017,-0.3949999999999996,0.9549999999999983,-1.3049999999999962,-1.9299999999999997,0.7299999999999969,-1.4449999999999967,-1.0850000000000009,1.8299999999999983,0.9149999999999991,-3.25,-3.3649999999999984,2.4849999999999994,0.9249999999999972,2.719999999999999,-1.8749999999999964,-4.159999999999997,0.3949999999999996,-1.8799999999999955,-1.8500000000000014,-1.0449999999999982,1.0449999999999982,-2.5699999999999967,1.9099999999999966,2.0249999999999986,-2.6950000000000003,3.1999999999999993,2.960000000000001,-2.139999999999997,-4.844999999999999,-3.094999999999999,-0.8200000000000003,-0.6499999999999986,-2.6950000000000003,0.6600000000000001,0.9299999999999997,-1.3550000000000004,3.0849999999999973,1.1799999999999997,2.3699999999999974,-2.139999999999997,1.4100000000000001,-1.7449999999999974,0.384999999999998,-1.6300000000000026,2.6849999999999987,3.8999999999999986,-0.0400000000000027,-1.7349999999999959,-2.014999999999997,-2.6799999999999997,-1.9349999999999987,-1.5649999999999977,0.6600000000000001,-0.5599999999999987,1.0899999999999999,0.8299999999999983,-0.0400000000000027,-0.4700000000000024,-0.4700000000000024,-1.7449999999999974,3.9499999999999993,0.3949999999999996,-0.384999999999998,-1.4050000000000011,-0.7949999999999982,2.0199999999999996,-1.9699999999999989,1.370000000000001,-1.5249999999999986,-2.5,2.754999999999999,-0.6499999999999986,-0.8299999999999983,-2.224999999999998,0.6499999999999986,0.740000000000002,1.4799999999999969,1.6649999999999991,0.22499999999999787,-0.0400000000000027,2.414999999999999,-1.7300000000000004,2.0599999999999987,-0.6600000000000001,1.6749999999999972,1.4749999999999979,0.7299999999999969,4.014999999999997,3.5549999999999997,-2.224999999999998,-1.7449999999999974,-2.2099999999999973,-0.7850000000000001,2.864999999999995,1.3900000000000006,1.8000000000000007,-2.530000000000001,-1.3550000000000004,-1.3099999999999987,-1.3550000000000004,0.740000000000002,-0.9949999999999974,-0.3949999999999996,2.509999999999998,0.740000000000002,1.6749999999999972,-0.3949999999999996,2.364999999999995,-0.7499999999999964,-1.5899999999999999,-1.5399999999999991,5.725000000000001,4.975000000000001,1.5899999999999999,-4.015000000000004,-2.5049999999999955,1.259999999999998,3.4800000000000004,-2.014999999999997,0.9549999999999983,1.4749999999999979,-0.5599999999999987,-0.9549999999999983,0.3949999999999996,-2.835000000000001,0.9949999999999974,-0.7850000000000001,0.740000000000002,-0.4700000000000024,2.4849999999999994,-0.6499999999999986,1.875,-1.3550000000000004,-3.7349999999999994,2.0599999999999987,2.0799999999999983,-1.8799999999999955,2.0199999999999996,-1.3749999999999964,1.9249999999999972,-2.139999999999997,-3.25,2.424999999999997,2.7349999999999994,3.349999999999998,2.8399999999999963,-1.384999999999998,2.039999999999999,5.225000000000001,-0.9149999999999991,-1.7300000000000004,-0.740000000000002,0.8149999999999977,2.285,-3.25,-1.9549999999999983,1.0449999999999982,1.4749999999999979,2.6199999999999974,-0.26000000000000156,2.1099999999999994,-3.0549999999999997,2.4849999999999994,-0.20500000000000185,3.085000000000001,-3.1499999999999986,-1.1400000000000006,0.9350000000000023,1.8299999999999983,0.740000000000002,-2.164999999999999,2.0199999999999996,2.594999999999999,-0.20500000000000185,1.5899999999999999,0.20500000000000185,-3.164999999999999,2.9549999999999983,0.8299999999999983,3.349999999999998,-1.6300000000000026,0.4049999999999976,2.0199999999999996,2.960000000000001,-3.9400000000000013,1.375,-2.049999999999997,-1.3099999999999987,4.014999999999997,-2.8999999999999986,1.4799999999999969,1.0449999999999982,-2.75,2.594999999999999,0.384999999999998,-0.740000000000002,-3.269999999999996,-2.094999999999999,0.6499999999999986,-0.0400000000000027,-0.384999999999998,0.9549999999999983,3.0050000000000026,2.8249999999999993,5.135000000000002,2.0799999999999983,-0.21499999999999986,-0.06500000000000128,1.4799999999999969,-0.8200000000000003,0.22499999999999787,-0.14000000000000057,-2.594999999999999,-0.129999999999999,-0.3949999999999996,2.014999999999997,-2.094999999999999,-4.649999999999999,-1.0949999999999989,-0.6600000000000001,-3.405000000000001,2.7749999999999986,-0.14000000000000057,-1.0050000000000026,-1.2899999999999991,-0.740000000000002,-1.9649999999999963,-2.009999999999998,-1.5249999999999986,2.3999999999999986,-2.5249999999999986,0.8249999999999993,-2.309999999999995,-2.6199999999999974,0.9549999999999983,1.3099999999999987,3.4800000000000004,-1.3000000000000007,-2.5249999999999986,-1.4449999999999967,3.2049999999999983,-0.9549999999999983,3.424999999999997,2.484999999999996,0.120000000000001,-0.0400000000000027,2.174999999999997,0.7299999999999969,1.259999999999998,-2.219999999999999,-0.14000000000000057,-0.8299999999999983,0.3949999999999996,-1.0050000000000026,2.104999999999997,1.75,-0.9549999999999983,-1.9299999999999997,-1.6550000000000011,1.0449999999999982,-0.0400000000000027,-0.129999999999999,-1.4250000000000007,-0.6499999999999986,-0.6600000000000001,2.375,2.129999999999999,-1.3099999999999987,-5.350000000000001,-0.4700000000000024,-1.6550000000000011,-5.284999999999997,-1.8299999999999983,0.8299999999999983,-2.424999999999997,-3.5749999999999993,-0.8299999999999983,0.9299999999999997,-0.5599999999999987,-2.495000000000001,2.0599999999999987,-0.8149999999999977,0.4700000000000024,-1.0949999999999989,-1.0949999999999989,-1.375,1.375,1.4549999999999983,0.3949999999999996,3.0699999999999967,-3.0749999999999957,-1.6550000000000011,-1.3749999999999964,-4.344999999999999,-1.4449999999999967,-1.3550000000000004,-6.024999999999999,3.094999999999999,-0.20500000000000185,1.4600000000000009,-0.7499999999999964,-2.4049999999999976,0.9549999999999983,2.84,-1.389999999999997,0.8249999999999993,-0.125,1.8199999999999967,0.7499999999999964,0.8249999999999993,0.8049999999999997,-3.164999999999999,-2.6950000000000003,-3.4750000000000014,-1.8299999999999983,-2.1900000000000013,2.599999999999998,-0.7499999999999964,0.14000000000000057,-1.9699999999999989,3.289999999999999,-2.009999999999998,-1.8799999999999955,1.4799999999999969,0.4700000000000024,1.9399999999999977,-0.6499999999999986,1.5899999999999999,2.9549999999999983,-1.3449999999999989,3.0799999999999983,-2.7699999999999996,-0.6600000000000001,-1.5249999999999986,0.3949999999999996,1.259999999999998,4.549999999999997,-1.0449999999999982,0.9949999999999974,-1.0050000000000026,0.33999999999999986,-2.424999999999997,-1.6600000000000001,0.8249999999999993,-3.0549999999999997,-1.0799999999999983,1.129999999999999,3.6499999999999986,-1.9549999999999983,-0.9949999999999974,-0.5599999999999987,-0.6600000000000001,3.0849999999999973,-1.5649999999999977,2.6549999999999976,-2.309999999999995,2.174999999999997,2.754999999999999,3.8199999999999967,-0.7850000000000001,-0.6600000000000001,1.5700000000000003,-1.7049999999999983,0.33500000000000085,-0.20500000000000185,-0.14000000000000057,-0.384999999999998,-0.0400000000000027,-2.710000000000001,0.33500000000000085,-1.3550000000000004,-0.7850000000000001,-0.14000000000000057,-0.6050000000000004,1.384999999999998,2.174999999999997,-1.4799999999999969,-0.26000000000000156],\"xaxis\":\"x\",\"yaxis\":\"y\",\"type\":\"histogram\"}],                        {\"template\":{\"data\":{\"histogram2dcontour\":[{\"type\":\"histogram2dcontour\",\"colorbar\":{\"outlinewidth\":0,\"ticks\":\"\"},\"colorscale\":[[0.0,\"#0d0887\"],[0.1111111111111111,\"#46039f\"],[0.2222222222222222,\"#7201a8\"],[0.3333333333333333,\"#9c179e\"],[0.4444444444444444,\"#bd3786\"],[0.5555555555555556,\"#d8576b\"],[0.6666666666666666,\"#ed7953\"],[0.7777777777777778,\"#fb9f3a\"],[0.8888888888888888,\"#fdca26\"],[1.0,\"#f0f921\"]]}],\"choropleth\":[{\"type\":\"choropleth\",\"colorbar\":{\"outlinewidth\":0,\"ticks\":\"\"}}],\"histogram2d\":[{\"type\":\"histogram2d\",\"colorbar\":{\"outlinewidth\":0,\"ticks\":\"\"},\"colorscale\":[[0.0,\"#0d0887\"],[0.1111111111111111,\"#46039f\"],[0.2222222222222222,\"#7201a8\"],[0.3333333333333333,\"#9c179e\"],[0.4444444444444444,\"#bd3786\"],[0.5555555555555556,\"#d8576b\"],[0.6666666666666666,\"#ed7953\"],[0.7777777777777778,\"#fb9f3a\"],[0.8888888888888888,\"#fdca26\"],[1.0,\"#f0f921\"]]}],\"heatmap\":[{\"type\":\"heatmap\",\"colorbar\":{\"outlinewidth\":0,\"ticks\":\"\"},\"colorscale\":[[0.0,\"#0d0887\"],[0.1111111111111111,\"#46039f\"],[0.2222222222222222,\"#7201a8\"],[0.3333333333333333,\"#9c179e\"],[0.4444444444444444,\"#bd3786\"],[0.5555555555555556,\"#d8576b\"],[0.6666666666666666,\"#ed7953\"],[0.7777777777777778,\"#fb9f3a\"],[0.8888888888888888,\"#fdca26\"],[1.0,\"#f0f921\"]]}],\"heatmapgl\":[{\"type\":\"heatmapgl\",\"colorbar\":{\"outlinewidth\":0,\"ticks\":\"\"},\"colorscale\":[[0.0,\"#0d0887\"],[0.1111111111111111,\"#46039f\"],[0.2222222222222222,\"#7201a8\"],[0.3333333333333333,\"#9c179e\"],[0.4444444444444444,\"#bd3786\"],[0.5555555555555556,\"#d8576b\"],[0.6666666666666666,\"#ed7953\"],[0.7777777777777778,\"#fb9f3a\"],[0.8888888888888888,\"#fdca26\"],[1.0,\"#f0f921\"]]}],\"contourcarpet\":[{\"type\":\"contourcarpet\",\"colorbar\":{\"outlinewidth\":0,\"ticks\":\"\"}}],\"contour\":[{\"type\":\"contour\",\"colorbar\":{\"outlinewidth\":0,\"ticks\":\"\"},\"colorscale\":[[0.0,\"#0d0887\"],[0.1111111111111111,\"#46039f\"],[0.2222222222222222,\"#7201a8\"],[0.3333333333333333,\"#9c179e\"],[0.4444444444444444,\"#bd3786\"],[0.5555555555555556,\"#d8576b\"],[0.6666666666666666,\"#ed7953\"],[0.7777777777777778,\"#fb9f3a\"],[0.8888888888888888,\"#fdca26\"],[1.0,\"#f0f921\"]]}],\"surface\":[{\"type\":\"surface\",\"colorbar\":{\"outlinewidth\":0,\"ticks\":\"\"},\"colorscale\":[[0.0,\"#0d0887\"],[0.1111111111111111,\"#46039f\"],[0.2222222222222222,\"#7201a8\"],[0.3333333333333333,\"#9c179e\"],[0.4444444444444444,\"#bd3786\"],[0.5555555555555556,\"#d8576b\"],[0.6666666666666666,\"#ed7953\"],[0.7777777777777778,\"#fb9f3a\"],[0.8888888888888888,\"#fdca26\"],[1.0,\"#f0f921\"]]}],\"mesh3d\":[{\"type\":\"mesh3d\",\"colorbar\":{\"outlinewidth\":0,\"ticks\":\"\"}}],\"scatter\":[{\"fillpattern\":{\"fillmode\":\"overlay\",\"size\":10,\"solidity\":0.2},\"type\":\"scatter\"}],\"parcoords\":[{\"type\":\"parcoords\",\"line\":{\"colorbar\":{\"outlinewidth\":0,\"ticks\":\"\"}}}],\"scatterpolargl\":[{\"type\":\"scatterpolargl\",\"marker\":{\"colorbar\":{\"outlinewidth\":0,\"ticks\":\"\"}}}],\"bar\":[{\"error_x\":{\"color\":\"#2a3f5f\"},\"error_y\":{\"color\":\"#2a3f5f\"},\"marker\":{\"line\":{\"color\":\"#E5ECF6\",\"width\":0.5},\"pattern\":{\"fillmode\":\"overlay\",\"size\":10,\"solidity\":0.2}},\"type\":\"bar\"}],\"scattergeo\":[{\"type\":\"scattergeo\",\"marker\":{\"colorbar\":{\"outlinewidth\":0,\"ticks\":\"\"}}}],\"scatterpolar\":[{\"type\":\"scatterpolar\",\"marker\":{\"colorbar\":{\"outlinewidth\":0,\"ticks\":\"\"}}}],\"histogram\":[{\"marker\":{\"pattern\":{\"fillmode\":\"overlay\",\"size\":10,\"solidity\":0.2}},\"type\":\"histogram\"}],\"scattergl\":[{\"type\":\"scattergl\",\"marker\":{\"colorbar\":{\"outlinewidth\":0,\"ticks\":\"\"}}}],\"scatter3d\":[{\"type\":\"scatter3d\",\"line\":{\"colorbar\":{\"outlinewidth\":0,\"ticks\":\"\"}},\"marker\":{\"colorbar\":{\"outlinewidth\":0,\"ticks\":\"\"}}}],\"scattermapbox\":[{\"type\":\"scattermapbox\",\"marker\":{\"colorbar\":{\"outlinewidth\":0,\"ticks\":\"\"}}}],\"scatterternary\":[{\"type\":\"scatterternary\",\"marker\":{\"colorbar\":{\"outlinewidth\":0,\"ticks\":\"\"}}}],\"scattercarpet\":[{\"type\":\"scattercarpet\",\"marker\":{\"colorbar\":{\"outlinewidth\":0,\"ticks\":\"\"}}}],\"carpet\":[{\"aaxis\":{\"endlinecolor\":\"#2a3f5f\",\"gridcolor\":\"white\",\"linecolor\":\"white\",\"minorgridcolor\":\"white\",\"startlinecolor\":\"#2a3f5f\"},\"baxis\":{\"endlinecolor\":\"#2a3f5f\",\"gridcolor\":\"white\",\"linecolor\":\"white\",\"minorgridcolor\":\"white\",\"startlinecolor\":\"#2a3f5f\"},\"type\":\"carpet\"}],\"table\":[{\"cells\":{\"fill\":{\"color\":\"#EBF0F8\"},\"line\":{\"color\":\"white\"}},\"header\":{\"fill\":{\"color\":\"#C8D4E3\"},\"line\":{\"color\":\"white\"}},\"type\":\"table\"}],\"barpolar\":[{\"marker\":{\"line\":{\"color\":\"#E5ECF6\",\"width\":0.5},\"pattern\":{\"fillmode\":\"overlay\",\"size\":10,\"solidity\":0.2}},\"type\":\"barpolar\"}],\"pie\":[{\"automargin\":true,\"type\":\"pie\"}]},\"layout\":{\"autotypenumbers\":\"strict\",\"colorway\":[\"#636efa\",\"#EF553B\",\"#00cc96\",\"#ab63fa\",\"#FFA15A\",\"#19d3f3\",\"#FF6692\",\"#B6E880\",\"#FF97FF\",\"#FECB52\"],\"font\":{\"color\":\"#2a3f5f\"},\"hovermode\":\"closest\",\"hoverlabel\":{\"align\":\"left\"},\"paper_bgcolor\":\"white\",\"plot_bgcolor\":\"#E5ECF6\",\"polar\":{\"bgcolor\":\"#E5ECF6\",\"angularaxis\":{\"gridcolor\":\"white\",\"linecolor\":\"white\",\"ticks\":\"\"},\"radialaxis\":{\"gridcolor\":\"white\",\"linecolor\":\"white\",\"ticks\":\"\"}},\"ternary\":{\"bgcolor\":\"#E5ECF6\",\"aaxis\":{\"gridcolor\":\"white\",\"linecolor\":\"white\",\"ticks\":\"\"},\"baxis\":{\"gridcolor\":\"white\",\"linecolor\":\"white\",\"ticks\":\"\"},\"caxis\":{\"gridcolor\":\"white\",\"linecolor\":\"white\",\"ticks\":\"\"}},\"coloraxis\":{\"colorbar\":{\"outlinewidth\":0,\"ticks\":\"\"}},\"colorscale\":{\"sequential\":[[0.0,\"#0d0887\"],[0.1111111111111111,\"#46039f\"],[0.2222222222222222,\"#7201a8\"],[0.3333333333333333,\"#9c179e\"],[0.4444444444444444,\"#bd3786\"],[0.5555555555555556,\"#d8576b\"],[0.6666666666666666,\"#ed7953\"],[0.7777777777777778,\"#fb9f3a\"],[0.8888888888888888,\"#fdca26\"],[1.0,\"#f0f921\"]],\"sequentialminus\":[[0.0,\"#0d0887\"],[0.1111111111111111,\"#46039f\"],[0.2222222222222222,\"#7201a8\"],[0.3333333333333333,\"#9c179e\"],[0.4444444444444444,\"#bd3786\"],[0.5555555555555556,\"#d8576b\"],[0.6666666666666666,\"#ed7953\"],[0.7777777777777778,\"#fb9f3a\"],[0.8888888888888888,\"#fdca26\"],[1.0,\"#f0f921\"]],\"diverging\":[[0,\"#8e0152\"],[0.1,\"#c51b7d\"],[0.2,\"#de77ae\"],[0.3,\"#f1b6da\"],[0.4,\"#fde0ef\"],[0.5,\"#f7f7f7\"],[0.6,\"#e6f5d0\"],[0.7,\"#b8e186\"],[0.8,\"#7fbc41\"],[0.9,\"#4d9221\"],[1,\"#276419\"]]},\"xaxis\":{\"gridcolor\":\"white\",\"linecolor\":\"white\",\"ticks\":\"\",\"title\":{\"standoff\":15},\"zerolinecolor\":\"white\",\"automargin\":true,\"zerolinewidth\":2},\"yaxis\":{\"gridcolor\":\"white\",\"linecolor\":\"white\",\"ticks\":\"\",\"title\":{\"standoff\":15},\"zerolinecolor\":\"white\",\"automargin\":true,\"zerolinewidth\":2},\"scene\":{\"xaxis\":{\"backgroundcolor\":\"#E5ECF6\",\"gridcolor\":\"white\",\"linecolor\":\"white\",\"showbackground\":true,\"ticks\":\"\",\"zerolinecolor\":\"white\",\"gridwidth\":2},\"yaxis\":{\"backgroundcolor\":\"#E5ECF6\",\"gridcolor\":\"white\",\"linecolor\":\"white\",\"showbackground\":true,\"ticks\":\"\",\"zerolinecolor\":\"white\",\"gridwidth\":2},\"zaxis\":{\"backgroundcolor\":\"#E5ECF6\",\"gridcolor\":\"white\",\"linecolor\":\"white\",\"showbackground\":true,\"ticks\":\"\",\"zerolinecolor\":\"white\",\"gridwidth\":2}},\"shapedefaults\":{\"line\":{\"color\":\"#2a3f5f\"}},\"annotationdefaults\":{\"arrowcolor\":\"#2a3f5f\",\"arrowhead\":0,\"arrowwidth\":1},\"geo\":{\"bgcolor\":\"white\",\"landcolor\":\"#E5ECF6\",\"subunitcolor\":\"white\",\"showland\":true,\"showlakes\":true,\"lakecolor\":\"white\"},\"title\":{\"x\":0.05},\"mapbox\":{\"style\":\"light\"}}},\"xaxis\":{\"anchor\":\"y\",\"domain\":[0.0,1.0],\"title\":{\"text\":\"Difference in Medians\"}},\"yaxis\":{\"anchor\":\"x\",\"domain\":[0.0,1.0],\"title\":{\"text\":\"count\"}},\"legend\":{\"tracegroupgap\":0},\"margin\":{\"t\":60},\"barmode\":\"relative\",\"shapes\":[{\"line\":{\"color\":\"red\",\"dash\":\"dash\",\"width\":3},\"type\":\"line\",\"x0\":-4.57,\"x1\":-4.57,\"xref\":\"x\",\"y0\":0,\"y1\":1,\"yref\":\"y domain\"},{\"line\":{\"color\":\"red\",\"dash\":\"dash\",\"width\":3},\"type\":\"line\",\"x0\":4.57,\"x1\":4.57,\"xref\":\"x\",\"y0\":0,\"y1\":1,\"yref\":\"y domain\"}]},                        {\"responsive\": true}                    ).then(function(){\n",
       "                            \n",
       "var gd = document.getElementById('58c07253-f0c2-4c93-8e14-49dfc242781d');\n",
       "var x = new MutationObserver(function (mutations, observer) {{\n",
       "        var display = window.getComputedStyle(gd).display;\n",
       "        if (!display || display === 'none') {{\n",
       "            console.log([gd, 'removed!']);\n",
       "            Plotly.purge(gd);\n",
       "            observer.disconnect();\n",
       "        }}\n",
       "}});\n",
       "\n",
       "// Listen for the removal of the full notebook cells\n",
       "var notebookContainer = gd.closest('#notebook-container');\n",
       "if (notebookContainer) {{\n",
       "    x.observe(notebookContainer, {childList: true});\n",
       "}}\n",
       "\n",
       "// Listen for the clearing of the current output cell\n",
       "var outputEl = gd.closest('.output');\n",
       "if (outputEl) {{\n",
       "    x.observe(outputEl, {childList: true});\n",
       "}}\n",
       "\n",
       "                        })                };                });            </script>        </div>"
      ]
     },
     "metadata": {},
     "output_type": "display_data"
    },
    {
     "data": {
      "text/plain": [
       "0.012"
      ]
     },
     "execution_count": 111,
     "metadata": {},
     "output_type": "execute_result"
    }
   ],
   "source": [
    "observed_test_statistic = np.diff(anxiety_data.groupby('social_media_usage').median().values.flatten())\n",
    "\n",
    "np.random.seed(1) # make the simulation reproducible...\n",
    "repetitions = 1000 \n",
    "simulated_values = []\n",
    "\n",
    "simdata = anxiety_data.copy() # you should essentially always use `.copy()` for data frames; otherwise,\n",
    "# changes to the new data frame will also appear in the original version of the data frame as well(!)\n",
    "\n",
    "for i in range(repetitions):\n",
    "    simdata['social_media_usage'] = anxiety_data['social_media_usage'].sample(frac=1).values\n",
    "    simvalue = np.diff(simdata.groupby('social_media_usage').median().values.flatten())[0]\n",
    "    simulated_values += [simvalue]\n",
    "\n",
    "fig = px.histogram(pd.DataFrame({'Difference in Medians': simulated_values}), \n",
    "                   x='Difference in Medians', color_discrete_sequence=['grey'])\n",
    "fig.update_traces(marker_line_width=1, marker_line_color=\"black\")\n",
    "fig.add_vline(x=observed_test_statistic[0], line_width=3, line_dash=\"dash\", line_color=\"red\")\n",
    "fig.add_vline(x=abs(observed_test_statistic[0]), line_width=3, line_dash=\"dash\", line_color=\"red\")\n",
    "fig.show()\n",
    "\n",
    "num_as_or_more_extreme = (abs(np.array(simulated_values)) >= abs(observed_test_statistic)).sum()\n",
    "p_value = num_as_or_more_extreme / repetitions\n",
    "p_value"
   ]
  },
  {
   "cell_type": "code",
   "execution_count": 209,
   "id": "075f45ca",
   "metadata": {},
   "outputs": [],
   "source": [
    "hint = \"\\n\\nAUTOMATICALLY FAILING AUTOTEST: DOES NOT COUNT AGAINST STUDENT\\n\"\n",
    "hint += \"Included as an example answer for feedback purposes only\\n\\n\"\n",
    "hint += \"The code overall produces a nonparametric permutation test p-value\\n\"\n",
    "hint += \"based on randomly shuffling the group labels under a (null hypothesis) assumption that they don't matter.\\n\\n\"\n",
    "hint += \"The first line of code in the `for` loop first shuffles the \\\"High\\\" and \\\"Low\\\" social media usage group labels\\n\"\n",
    "hint += \"for each observation.  This implicitly assumes the outcomes for both groups are sampled from the same population\\n\"\n",
    "hint += \"(so that that actual group assignment label doesn't matter when estimating a population median from a sample),\\n\"\n",
    "hint += \"and that this population can be relatively reasonably 'represented' or 'estimated' based on the combined samples.\\n\"\n",
    "hint += \"This idea as a null hypothesis will thus be true for this simulated data (which treats the combined sample\\n\"\n",
    "hint += \"as the single population). So the subsequently calculated (median difference) statistic represents a draw from\\n\"\n",
    "hint += \"the sampling distribution of the median difference statistic under this null hypothesis assumption that it's\\n\"\n",
    "hint += \"calculated from two samples drawn from the same population (which thus have the same population median).\\n\"\n",
    "hint += \"Each repetition of the `for` loop allows us to repeatedly sampling in this manner, creating the simulation\\n\"\n",
    "hint += \"of the sampling distribution of the median difference statistic under this null hypothesis assumption.\\n\\n\"\n",
    "hint += \"It's worth re-emphasizing that this is nonparametric since the two samples themselves are used to represent\\n\"\n",
    "hint += \"the population, and our analysis proceeds on the basis of that assumption. The more accurately the two\\n\"\n",
    "hint += \"samples actually represent the combined true populations, the more reliable the nonparametric analysis will be.\\n\"\n",
    "hint += \"Of course if the samples are wildly idiosyncratic and stange and thus don't well-reprsent their populations\\n\"\n",
    "hint += \"then they'll make for 'unusual' statistical analysis results; but, this is true of any analysis that uses\\n\" \n",
    "hint += \"an 'unusual' sample that's just randomly 'strange' by the chance luck of the draw of the sample itself.\\n\\n\"\n",
    "hint += \"We will finally judge evidence against our null hypothesis by considering how 'strange' the observed test\\n\"\n",
    "hint += \"statistic is relative to the sampling distirbution based on assuming the 'one population' null hypothesis.\\n\"\n",
    "hint += \"If the observed test statistic doesn't seem like a reasonable possible sample from this sampling\\n\"\n",
    "hint += \"distribution made based on assuming this null hypothesis, then the reasonable explanation is that\\n\"\n",
    "hint += \"the assumption of the null hypothesis is likely not true!\""
   ]
  },
  {
   "cell_type": "code",
   "execution_count": 210,
   "id": "20ee26d6",
   "metadata": {},
   "outputs": [
    {
     "ename": "AssertionError",
     "evalue": "\n\nAUTOMATICALLY FAILING AUTOTEST: DOES NOT COUNT AGAINST STUDENT\nIncluded as an example answer for feedback purposes only\n\nThe code overall produces a nonparametric permutation test p-value\nbased on randomly shuffling the group labels under a (null hypothesis) assumption that they don't matter.\n\nThe first line of code in the `for` loop first shuffles the \"High\" and \"Low\" social media usage group labels\nfor each observation.  This implicitly assumes the outcomes for both groups are sampled from the same population\n(so that that actual group assignment label doesn't matter when estimating a population median from a sample),\nand that this population can be relatively reasonably 'represented' or 'estimated' based on the combined samples.\nThis idea as a null hypothesis will thus be true for this simulated data (which treats the combined sample\nas the single population). So the subsequently calculated (median difference) statistic represents a draw from\nthe sampling distribution of the median difference statistic under this null hypothesis assumption that it's\ncalculated from two samples drawn from the same population (which thus have the same population median).\nEach repetition of the `for` loop allows us to repeatedly sampling in this manner, creating the simulation\nof the sampling distribution of the median difference statistic under this null hypothesis assumption.\n\nIt's worth re-emphasizing that this is nonparametric since the two samples themselves are used to represent\nthe population, and our analysis proceeds on the basis of that assumption. The more accurately the two\nsamples actually represent the combined true populations, the more reliable the nonparametric analysis will be.\nOf course if the samples are wildly idiosyncratic and stange and thus don't well-reprsent their populations\nthen they'll make for 'unusual' statistical analysis results; but, this is true of any analysis that uses\nan 'unusual' sample that's just randomly 'strange' by the chance luck of the draw of the sample itself.\n\nWe will finally judge evidence against our null hypothesis by considering how 'strange' the observed test\nstatistic is relative to the sampling distirbution based on assuming the 'one population' null hypothesis.\nIf the observed test statistic doesn't seem like a reasonable possible sample from this sampling\ndistribution made based on assuming this null hypothesis, then the reasonable explanation is that\nthe assumption of the null hypothesis is likely not true!",
     "output_type": "error",
     "traceback": [
      "\u001b[0;31m---------------------------------------------------------------------------\u001b[0m",
      "\u001b[0;31mAssertionError\u001b[0m                            Traceback (most recent call last)",
      "Cell \u001b[0;32mIn[210], line 2\u001b[0m\n\u001b[1;32m      1\u001b[0m \u001b[38;5;66;03m# test_Q4\u001b[39;00m\n\u001b[0;32m----> 2\u001b[0m \u001b[38;5;28;01massert\u001b[39;00m \u001b[38;5;28;01mFalse\u001b[39;00m, hint\n",
      "\u001b[0;31mAssertionError\u001b[0m: \n\nAUTOMATICALLY FAILING AUTOTEST: DOES NOT COUNT AGAINST STUDENT\nIncluded as an example answer for feedback purposes only\n\nThe code overall produces a nonparametric permutation test p-value\nbased on randomly shuffling the group labels under a (null hypothesis) assumption that they don't matter.\n\nThe first line of code in the `for` loop first shuffles the \"High\" and \"Low\" social media usage group labels\nfor each observation.  This implicitly assumes the outcomes for both groups are sampled from the same population\n(so that that actual group assignment label doesn't matter when estimating a population median from a sample),\nand that this population can be relatively reasonably 'represented' or 'estimated' based on the combined samples.\nThis idea as a null hypothesis will thus be true for this simulated data (which treats the combined sample\nas the single population). So the subsequently calculated (median difference) statistic represents a draw from\nthe sampling distribution of the median difference statistic under this null hypothesis assumption that it's\ncalculated from two samples drawn from the same population (which thus have the same population median).\nEach repetition of the `for` loop allows us to repeatedly sampling in this manner, creating the simulation\nof the sampling distribution of the median difference statistic under this null hypothesis assumption.\n\nIt's worth re-emphasizing that this is nonparametric since the two samples themselves are used to represent\nthe population, and our analysis proceeds on the basis of that assumption. The more accurately the two\nsamples actually represent the combined true populations, the more reliable the nonparametric analysis will be.\nOf course if the samples are wildly idiosyncratic and stange and thus don't well-reprsent their populations\nthen they'll make for 'unusual' statistical analysis results; but, this is true of any analysis that uses\nan 'unusual' sample that's just randomly 'strange' by the chance luck of the draw of the sample itself.\n\nWe will finally judge evidence against our null hypothesis by considering how 'strange' the observed test\nstatistic is relative to the sampling distirbution based on assuming the 'one population' null hypothesis.\nIf the observed test statistic doesn't seem like a reasonable possible sample from this sampling\ndistribution made based on assuming this null hypothesis, then the reasonable explanation is that\nthe assumption of the null hypothesis is likely not true!"
     ]
    }
   ],
   "source": [
    "# test_Q4\n",
    "assert False, hint"
   ]
  },
  {
   "cell_type": "markdown",
   "id": "3002c359",
   "metadata": {
    "deletable": false
   },
   "source": [
    "### Q5: Summarize the *null hypothesis* again and then state the evidence you have against the *null hypothesis* based on the simulated p-value above and table below.\n",
    "#### Provide your written answer in the markdown cell below.\n",
    "- You can compare your answer with the example solution provided by MarkUs\n",
    "\n",
    "![](https://www.jcpcarchives.org/userfiles/values-of-p-Inference.jpg)"
   ]
  },
  {
   "cell_type": "markdown",
   "id": "bb93d500",
   "metadata": {
    "deletable": false
   },
   "source": [
    "> Answer here..."
   ]
  },
  {
   "cell_type": "code",
   "execution_count": 225,
   "id": "5da789e4",
   "metadata": {},
   "outputs": [],
   "source": [
    "hint = \"\\n\\nAUTOMATICALLY FAILING AUTOTEST: DOES NOT COUNT AGAINST STUDENT\\n\"\n",
    "hint += \"Included as an example answer for feedback purposes only\\n\\n\"\n",
    "hint += \"The null hypothesis assumes that there's no difference in the median anxiety level between\\n\"\n",
    "hint += \"the 'High' and 'Low' frequence social media usage populations in question.\\n\"\n",
    "hint += \"The p-value of 0.012 represents strong evidence against the null hypothesis\\n\"\n",
    "hint += \"that the median anxiety level among \\\"High\\\" and \\\"Low\\\" social media usage groups is the same.\\n\\n\"\n",
    "hint += \"Further, the observed difference indicates that individuals with \\\"High\\\" social media usage have\\n\"\n",
    "hint += \"MORE anxiety than individuals with \\\"Low\\\" social media usage; however, if we reject the null hypothesis\\n\"\n",
    "hint += \"in favor of the alternative hypothesis, all we are \\\"formally\\\" claiming is that the groups have different medians.\""
   ]
  },
  {
   "cell_type": "code",
   "execution_count": 226,
   "id": "2ae89599",
   "metadata": {},
   "outputs": [
    {
     "ename": "AssertionError",
     "evalue": "\n\nAUTOMATICALLY FAILING AUTOTEST: DOES NOT COUNT AGAINST STUDENT\nIncluded as an example answer for feedback purposes only\n\nThe null hypothesis assumes that there's no difference in the median anxiety level between\nthe 'High' and 'Low' frequence social media usage populations in question.\nThe p-value of 0.012 represents strong evidence against the null hypothesis\nthat the median anxiety level among \"High\" and \"Low\" social media usage groups is the same.\n\nFurther, the observed difference indicates that individuals with \"High\" social media usage have\nMORE anxiety than individuals with \"Low\" social media usage; however, if we reject the null hypothesis\nin favor of the alternative hypothesis, all we are \"formally\" claiming is that the groups have different medians.",
     "output_type": "error",
     "traceback": [
      "\u001b[0;31m---------------------------------------------------------------------------\u001b[0m",
      "\u001b[0;31mAssertionError\u001b[0m                            Traceback (most recent call last)",
      "Cell \u001b[0;32mIn[226], line 2\u001b[0m\n\u001b[1;32m      1\u001b[0m \u001b[38;5;66;03m# test_Q5\u001b[39;00m\n\u001b[0;32m----> 2\u001b[0m \u001b[38;5;28;01massert\u001b[39;00m \u001b[38;5;28;01mFalse\u001b[39;00m, hint\n",
      "\u001b[0;31mAssertionError\u001b[0m: \n\nAUTOMATICALLY FAILING AUTOTEST: DOES NOT COUNT AGAINST STUDENT\nIncluded as an example answer for feedback purposes only\n\nThe null hypothesis assumes that there's no difference in the median anxiety level between\nthe 'High' and 'Low' frequence social media usage populations in question.\nThe p-value of 0.012 represents strong evidence against the null hypothesis\nthat the median anxiety level among \"High\" and \"Low\" social media usage groups is the same.\n\nFurther, the observed difference indicates that individuals with \"High\" social media usage have\nMORE anxiety than individuals with \"Low\" social media usage; however, if we reject the null hypothesis\nin favor of the alternative hypothesis, all we are \"formally\" claiming is that the groups have different medians."
     ]
    }
   ],
   "source": [
    "# test_Q5\n",
    "assert False, hint"
   ]
  },
  {
   "cell_type": "markdown",
   "id": "6abcc58f",
   "metadata": {
    "deletable": false
   },
   "source": [
    "### Q6: Does this data support the claim that the ***median*** anxiety level is different for those who use social media in high frequency compared to those who use social media in lower frequency?  How about the claim that \"usage of social media increases anxiety levels\"?\n",
    "\n",
    "A. Yes to the first, and yes to the second... there is a difference in median anxiety levels for those who use social media in high frequency compared to those who use social media in lower frequency, and it is because social media increases anxiety levels\n",
    "\n",
    "B. Yes to the first; but, no to the second... it seems possible -- not saying it's true, just plausible -- that different predispositions to anxiety could also have different predispositions to social media usage.  \n",
    "\n",
    "C. No to the first, and no to the second... this data does not adequately support the claim that the median anxiety level is different for those who use social media in high frequency compared to those who use social media in lower frequency  \n",
    "\n",
    "D. No to the first; but, yes to the second... the claim that the median anxiety level is different for those who use social media in high frequency compared to those who use social media in lower frequency is not supported, but we know usage of social media increases anxiety levels"
   ]
  },
  {
   "cell_type": "code",
   "execution_count": 227,
   "id": "5363f3f8",
   "metadata": {
    "deletable": false
   },
   "outputs": [],
   "source": [
    "# Q6: your answer will be tested!\n",
    "Q6 = None  # Assign either 'A' or 'B' or 'C' or 'D' to `Q6` instead of `None`\n",
    "# E.g., Q6 = 'A'"
   ]
  },
  {
   "cell_type": "code",
   "execution_count": 232,
   "id": "8f3410d6",
   "metadata": {},
   "outputs": [],
   "source": [
    "hint = \"Note that the first part of the question is the null hypothesis,\\n\"\n",
    "hint += \"so the data is how we may be able to provide evidence against the null hypothesis.\\n\"\n",
    "hint += \"Does the null hypothesis say anything about the cause of difference between median anxiety levels?\"\n",
    "test = Q6 == 'B'"
   ]
  },
  {
   "cell_type": "code",
   "execution_count": 233,
   "id": "8afa0568",
   "metadata": {},
   "outputs": [
    {
     "ename": "AssertionError",
     "evalue": "Note that the first part of the question is the null hypothesis,\nso the data is how we may be able to provide evidence against the null hypothesis.\nDoes the null hypothesis say anything about the cause of difference between median anxiety levels?",
     "output_type": "error",
     "traceback": [
      "\u001b[0;31m---------------------------------------------------------------------------\u001b[0m",
      "\u001b[0;31mAssertionError\u001b[0m                            Traceback (most recent call last)",
      "Cell \u001b[0;32mIn[233], line 2\u001b[0m\n\u001b[1;32m      1\u001b[0m \u001b[38;5;66;03m# test_Q6\u001b[39;00m\n\u001b[0;32m----> 2\u001b[0m \u001b[38;5;28;01massert\u001b[39;00m test, hint\n",
      "\u001b[0;31mAssertionError\u001b[0m: Note that the first part of the question is the null hypothesis,\nso the data is how we may be able to provide evidence against the null hypothesis.\nDoes the null hypothesis say anything about the cause of difference between median anxiety levels?"
     ]
    }
   ],
   "source": [
    "# test_Q6\n",
    "assert test, hint"
   ]
  },
  {
   "cell_type": "markdown",
   "id": "61a870f5",
   "metadata": {
    "deletable": false
   },
   "source": [
    "## Airbags\n",
    "The table below is adapted from \"Biostatistics for the Biological and Health Sciences\" and presents data from a random sample of passengers sitting in the front seat of cars involved in car crashes. Based on this data we'd like to make a determination as to whether or not death rates differ for passengers in cars with airbags and passengers in cars without airbags.\n",
    "\n",
    "|                           | Airbag available | No airbag available |\n",
    "|---------------------------|------------------|---------------------|                           \n",
    "| Passenger Fatalities      |  45              | 62                  |\n",
    "| Total number of Passengers|  10,541          | 9,867               |\n",
    "\n",
    "The code below creates a pandas data frame for this problem with the help of the `numpy.repeat` function."
   ]
  },
  {
   "cell_type": "code",
   "execution_count": 234,
   "id": "d7c2b718",
   "metadata": {
    "deletable": false
   },
   "outputs": [],
   "source": [
    "crash_data = pd.DataFrame({'group': np.repeat([\"airbag\", \"no_airbag\"], [10541, 9867]), \n",
    "                           'outcome': np.repeat([\"dead\", \"alive\", \"dead\", \"alive\"], [45, 10541-45, 62, 9867-62])})"
   ]
  },
  {
   "cell_type": "markdown",
   "id": "8f50ade0",
   "metadata": {
    "deletable": false
   },
   "source": [
    "### Q7: For $p$ indicating probability, what is the right formal *null hypotheses* $H_0$ in terms of $p_{airbag}$ and $p_{no-airbag}$ for the context above? What is $H_1$ in terms of $H_0$? In a simple sentence without $H_0$ and $p_{airbag}$ and $p_{no-airbag}$ notation, what is the claim of the NULL hypothesis?\n",
    "\n",
    "#### Provide your written answer in the markdown cell below.\n",
    "- You can compare your answer with the example solution provided by MarkUs"
   ]
  },
  {
   "cell_type": "markdown",
   "id": "4e3418eb",
   "metadata": {
    "deletable": false
   },
   "source": [
    "> Answer here..."
   ]
  },
  {
   "cell_type": "code",
   "execution_count": 235,
   "id": "7159b6e0",
   "metadata": {},
   "outputs": [],
   "source": [
    "hint = \"\\n\\nAUTOMATICALLY FAILING AUTOTEST: DOES NOT COUNT AGAINST STUDENT\\n\"\n",
    "hint += \"Included as an example answer for feedback purposes only\\n\\n\"\n",
    "hint += '''\n",
    "For cars with (W) and without (WO) airbags having chance of death in a car crash of $\\pi_W$ and $\\pi_{WO}$, respectively, we consider the one-sided hypothesis test\n",
    "$$H_0: \\pi_W=\\pi_{WO} \\quad H_A:\\pi_W < \\pi_{WO}$$\n",
    "which means \"as or more extreme under the null hypothesis\" will only consider test statistics sampled under the null hypothesis which are less than or equal to the observed test statistic. Generally, one-sided hypothesis tests lead to smaller p-values since only half of the outcomes that would be considered \"as or more extreme\" are actually counted as being so.\n",
    "'''"
   ]
  },
  {
   "cell_type": "code",
   "execution_count": 236,
   "id": "cae4b538",
   "metadata": {},
   "outputs": [
    {
     "ename": "AssertionError",
     "evalue": "\n\nAUTOMATICALLY FAILING AUTOTEST: DOES NOT COUNT AGAINST STUDENT\nIncluded as an example answer for feedback purposes only\n\n\nFor cars with (W) and without (WO) airbags having chance of death in a car crash of $\\pi_W$ and $\\pi_{WO}$, respectively, we consider the one-sided hypothesis test\n$$H_0: \\pi_W=\\pi_{WO} \\quad H_A:\\pi_W < \\pi_{WO}$$\nwhich means \"as or more extreme under the null hypothesis\" will only consider test statistics sampled under the null hypothesis which are less than or equal to the observed test statistic. Generally, one-sided hypothesis tests lead to smaller p-values since only half of the outcomes that would be considered \"as or more extreme\" are actually counted as being so.\n",
     "output_type": "error",
     "traceback": [
      "\u001b[0;31m---------------------------------------------------------------------------\u001b[0m",
      "\u001b[0;31mAssertionError\u001b[0m                            Traceback (most recent call last)",
      "Cell \u001b[0;32mIn[236], line 2\u001b[0m\n\u001b[1;32m      1\u001b[0m \u001b[38;5;66;03m# test_Q7\u001b[39;00m\n\u001b[0;32m----> 2\u001b[0m \u001b[38;5;28;01massert\u001b[39;00m \u001b[38;5;28;01mFalse\u001b[39;00m, hint\n",
      "\u001b[0;31mAssertionError\u001b[0m: \n\nAUTOMATICALLY FAILING AUTOTEST: DOES NOT COUNT AGAINST STUDENT\nIncluded as an example answer for feedback purposes only\n\n\nFor cars with (W) and without (WO) airbags having chance of death in a car crash of $\\pi_W$ and $\\pi_{WO}$, respectively, we consider the one-sided hypothesis test\n$$H_0: \\pi_W=\\pi_{WO} \\quad H_A:\\pi_W < \\pi_{WO}$$\nwhich means \"as or more extreme under the null hypothesis\" will only consider test statistics sampled under the null hypothesis which are less than or equal to the observed test statistic. Generally, one-sided hypothesis tests lead to smaller p-values since only half of the outcomes that would be considered \"as or more extreme\" are actually counted as being so.\n"
     ]
    }
   ],
   "source": [
    "# test_Q7\n",
    "assert False, hint"
   ]
  },
  {
   "cell_type": "markdown",
   "id": "9b018dea",
   "metadata": {},
   "source": [
    "$$H_0: \\pi_W=\\pi_{WO} \\quad H_A:\\pi_W < \\pi_{WO}$$"
   ]
  },
  {
   "cell_type": "markdown",
   "id": "3ad0741b",
   "metadata": {
    "deletable": false
   },
   "source": [
    "### Q8: Use \"label shuffling\" to simulate the sampling distribution of the test statistic of the difference between $\\hat p_{airbag}$ and $\\hat p_{no-airbag}$ under the assumption that the *null hypothesis* stated in the previous question is true and then compute a \"permutation test\" p-value of the observed test statistic relative to this simulated sampling distribution.\n",
    "\n",
    "> - Hint: The assumption that the *null hypothesis* stated in the previous question is true implies that the two samples must come from identical populations (with identical survivial proportions); thus, a permutation test p-value similar to the one computed in Q4 is an appropriate nonparametric p-value for this context. \n"
   ]
  },
  {
   "cell_type": "code",
   "execution_count": null,
   "id": "f21b34d0",
   "metadata": {},
   "outputs": [],
   "source": [
    "# space for scratch work if needed"
   ]
  },
  {
   "cell_type": "code",
   "execution_count": null,
   "id": "74111033",
   "metadata": {
    "deletable": false
   },
   "outputs": [],
   "source": [
    "# Code your answer here\n",
    "np.random.seed(523)  # Replace the seed with the 1st, 3rd, and 5th digits or your student number. Keep this line at the top!\n",
    "# Hint: you may want to data.replace({'dead': 1, 'alive': 0}) to replace 'dead' and 'alive' outcomes with 1's and 0's\n"
   ]
  },
  {
   "cell_type": "code",
   "execution_count": null,
   "id": "c9dff4e6",
   "metadata": {},
   "outputs": [],
   "source": [
    "seed = None   # Assign to `seed` to your integer seed number to be used for testing, E.g. `seed = 123`\n",
    "num_samples = None  # Assign to `num_samples` number of samples in your distribution E.g. `num_samples = 5000`\n",
    "p_value = None  # Assign to p_value your calculated p-value rounded to 3 decimal places (hint: consider using np.round function) E.g. `p_value = 0.799`\n",
    "Q8 = (seed, num_samples, p_value)  # Don't change assignment of Q8"
   ]
  },
  {
   "cell_type": "code",
   "execution_count": null,
   "id": "156e022e",
   "metadata": {},
   "outputs": [],
   "source": [
    "# test_Q8\n",
    "seed, num_samples, p_value = Q8\n",
    "np.random.seed(seed)\n",
    "\n",
    "# replace \"dead\" outcome with 1 and \"alive\" with 0, and calculate difference between means of airbag vs no airbag groups\n",
    "data_ones_and_zeros = data.replace({'dead': 1, 'alive': 0})\n",
    "test_stat = np.diff(data_ones_and_zeros.groupby('group')['outcome'].mean())  \n",
    "\n",
    "# Sampling distribution\n",
    "simulated_values = []\n",
    "simdata = data_ones_and_zeros.copy()\n",
    "\n",
    "for i in range(num_samples):   \n",
    "    simdata['group'] = data_ones_and_zeros['group'].sample(frac=1).values  # shuffle group labels under null hypothesis assumption\n",
    "    sim_value = np.diff(simdata.groupby('group')['outcome'].mean())\n",
    "    simulated_values += [sim_value]\n",
    "\n",
    "# Calculate p-value\n",
    "num_more_extreme = (simulated_values >= test_stat).sum()  # no abs function as this is a one-sided test!\n",
    "calc_p_value = np.round(num_more_extreme / num_samples, 3)\n",
    "assert calc_p_value == p_value, \"You got \" + str(Q8[2]) + \" for calculated p-value but should be \" + str(calc_p_value)"
   ]
  },
  {
   "cell_type": "markdown",
   "id": "e6da9829",
   "metadata": {
    "deletable": false
   },
   "source": [
    "# CONSIDER REMOVING\n",
    "### Q9: What is your conclusion about this hypothesis test based on the p-value computed above?  \n",
    "\n",
    "A. I choose to reject the *null hypothesis* $H_0$ on the basis of the evidence at hand  \n",
    "B. I fail to reject the *null hypothesis* $H_0$ on the basis of the evidence at hand"
   ]
  },
  {
   "cell_type": "code",
   "execution_count": null,
   "id": "56c836d7",
   "metadata": {
    "deletable": false
   },
   "outputs": [],
   "source": [
    "# Q9: your answer will be tested!\n",
    "Q9 = None  # Assign 'A' or 'B' to Q9\n",
    "# E.g., Q9 = 'A'"
   ]
  },
  {
   "cell_type": "code",
   "execution_count": null,
   "id": "8a4c5404",
   "metadata": {},
   "outputs": [],
   "source": [
    "hint = 'Remember this chart? https://www.jcpcarchives.org/userfiles/values-of-p-Inference.jpg'"
   ]
  },
  {
   "cell_type": "markdown",
   "id": "2620cf0c",
   "metadata": {},
   "source": [
    "'https://www.jcpcarchives.org/userfiles/values-of-p-Inference.jpg'"
   ]
  },
  {
   "cell_type": "code",
   "execution_count": null,
   "id": "777bbe82",
   "metadata": {},
   "outputs": [],
   "source": [
    "# test_Q9\n",
    "assert not(Q9 == 'A' and p_value > 0.1) and not(Q9 == 'B' and p_value <= 0.05)"
   ]
  },
  {
   "cell_type": "markdown",
   "id": "c137c4f1",
   "metadata": {
    "deletable": false
   },
   "source": [
    "# CONSIDER REMOVING\n",
    "### Q10: Based on your conclusion, what kind of error could you have made?\n",
    "A. I rejected the null hypothesis, so if the decision to reject the null hypothesis is wrong then we have made a Type I Error.  \n",
    "B. I rejected the null hypothesis, so if the decision to reject the null hypothesis is wrong then we have made a Type II Error.   \n",
    "C. I failed to reject the null hypothesis, so if the decision to fail to reject the null hypothesis is wrong then we have made a Type I Error.  \n",
    "D. I failed to reject the null hypothesis, so if the decision to fail to reject the null hypothesis is wrong then we have made a Type II Error.   "
   ]
  },
  {
   "cell_type": "code",
   "execution_count": null,
   "id": "cde3b390",
   "metadata": {
    "deletable": false
   },
   "outputs": [],
   "source": [
    "# Q10: your answer will be tested!\n",
    "Q10 = None  # Assign either 'A' or 'B' or 'C' or 'D' to `Q10` instead of `None`\n",
    "# E.g., Q11 = A"
   ]
  },
  {
   "cell_type": "code",
   "execution_count": null,
   "id": "dc330028",
   "metadata": {},
   "outputs": [],
   "source": [
    "# test_Q10\n",
    "assert Q10 == 'A' or Q10 == 'D'"
   ]
  },
  {
   "cell_type": "markdown",
   "id": "f41ba201",
   "metadata": {
    "deletable": false
   },
   "source": [
    "### Q11: Does your conclusion support the claim that \"airbags save lives\"? Or does it seem reasonable to believe that there could be some sort of confounding (like in the Social Media and Anxiety problem) by which people who choose to drive in cars without airbags are just more likely on average do die if they're in a car crash irrespective of any safety benefit of airbags? \n",
    "Provide your written answer in the markdown cell below.  \n",
    "- This will be manually reviewed.  "
   ]
  },
  {
   "cell_type": "markdown",
   "id": "2c5b5e8d",
   "metadata": {
    "deletable": false
   },
   "source": [
    "> Answer here..."
   ]
  },
  {
   "cell_type": "markdown",
   "id": "359f8713",
   "metadata": {},
   "source": [
    "##### SAMPLE SOLUTION\n",
    "I would say it supports the claim that \"airbags save lives\". The nature of the confounding that would cause such an effect seems like it would need to be very strong for such a strange effect in order to account for the differences we're seeing without any positive safety effect of seatbelts themselves."
   ]
  },
  {
   "cell_type": "markdown",
   "id": "6bb0ae8a",
   "metadata": {
    "deletable": false
   },
   "source": [
    "## (OPTIONAL) practice specifying NULL Hypotheses\n",
    "- You may complete these questions for practice if you wish. ***You are not required to complete these questions as they ARE NOT included as part of your mark.***\n",
    "- You can compare your answers with the example solutions provided by MarkUs"
   ]
  },
  {
   "cell_type": "markdown",
   "id": "b6c53c57",
   "metadata": {
    "deletable": false
   },
   "source": [
    "We've covered two kinds of hypothesis tests. \n",
    "- In the first version we hypothesize a proportion in a population (the parameter $p$) and test that value using the proportion observed in the sample (the sample average $\\bar x$, also sometimes notated as $\\hat p$). These *ONE sample hypotheses tests* have a NULL hypothesis of the form $H_0: p = p_0$ (and of course the ALTERNATIVE hypothesis then takes the form $H_1: H_0 \\text{ is } \\texttt{FALSE}$).  Since this one-sample framework works for any average (not just proportions), another form of this test that is often encountered is $H_0: \\mu = \\mu_0$ where $\\mu$ is the mean of the population (corresponding to the sample average $\\bar x$). \n",
    "\n",
    "- In the second version we hypothesize a relationship between two populations, such as that both populations have the same mean or median (or proportion or standard deviation, etc.).  These *TWO sample hypotheses tests* have a NULL hypothesis of the form $H_0: \\mu_1 = \\mu_2$ or $H_0: p_1 = p_2$ (or $H_0: Median_1 = Median_2$ or $H_0: \\sigma_1 = \\sigma_2$, etc.) and of course the ALTERNATIVE hypothesis is still $H_1: H_0 \\text{ is } \\texttt{FALSE}$. \n",
    "\n"
   ]
  },
  {
   "cell_type": "markdown",
   "id": "31cf863f",
   "metadata": {
    "deletable": false
   },
   "source": [
    "### For each of the following scenarios, state appropriate hypotheses $H_0$ and $H_1$.  For each scenario, also state in simple terms what the claim of the NULL hypothesis is.\n",
    "\n",
    "Be sure to carefully define any parameters you refer to."
   ]
  },
  {
   "cell_type": "markdown",
   "id": "cf4338eb",
   "metadata": {
    "deletable": false
   },
   "source": [
    "### Q12: A health survey asked individuals to report the number of times they exercised each week. Researchers were interested in determining if the proportion of individuals who exercised at least 100 minutes per week differed between people who live in the condos vs people who do not live in condos."
   ]
  },
  {
   "cell_type": "markdown",
   "id": "0ded1619",
   "metadata": {
    "deletable": false
   },
   "source": [
    "> Answer here..."
   ]
  },
  {
   "cell_type": "code",
   "execution_count": null,
   "id": "6db9c482",
   "metadata": {},
   "outputs": [],
   "source": [
    "hint = \"\\n\\nAUTOMATICALLY FAILING AUTOTEST: DOES NOT COUNT AGAINST STUDENT\\n\"\n",
    "hint += \"Included as an example answer for feedback purposes only\\n\\n\"\n",
    "hint = ''' \n",
    "$H_0: p_{condo} = p_{nocondo}$ vs $H_A: p_{condo} \\\\neq p_{nocondo}$ \n",
    "where $p_{condo}$ is the proportion of daily condo owners/renters who exercise at least 100 min per week and $p_{nocondo}$ is the proportion of non-condo livers who exercise at least 100 min per week.\n",
    "'''"
   ]
  },
  {
   "cell_type": "code",
   "execution_count": null,
   "id": "5f37ea38",
   "metadata": {},
   "outputs": [],
   "source": [
    "# test_Q12\n",
    "assert False, hint"
   ]
  },
  {
   "cell_type": "markdown",
   "id": "5553a1cd",
   "metadata": {
    "deletable": false
   },
   "source": [
    "### Q13: A study was conducted to examine whether a baby is born prematurely/early (i.e., before their due date) to whether or not the baby's mother smoked while she was pregnant."
   ]
  },
  {
   "cell_type": "markdown",
   "id": "3d21aef6",
   "metadata": {
    "deletable": false
   },
   "source": [
    "> Answer here..."
   ]
  },
  {
   "cell_type": "code",
   "execution_count": null,
   "id": "e2fee1c2",
   "metadata": {},
   "outputs": [],
   "source": [
    "hint = \"\\n\\nAUTOMATICALLY FAILING AUTOTEST: DOES NOT COUNT AGAINST STUDENT\\n\"\n",
    "hint += \"Included as an example answer for feedback purposes only\\n\\n\"\n",
    "hint = ''' \n",
    "$H_0: p_{smoking} = p_{nonsmoking}$  vs $H_A: p_{smoking} \\\\neq p_{nonsmoking}$ \n",
    "where $p_{smoking}$ is the proportion of premature babies born to smoking mothers and $p_{nonsmoking}$ is the proportion of premature babies born to non-smoking mothers. Under the null hypothesis that there is no relationship between a baby's earliness and whether or not the mother smoked, there should be no difference between $p_{smoking}$ and $p_{nonsmoking}$.  Note that there are other correct ways to formulate these hypotheses.\n",
    "'''"
   ]
  },
  {
   "cell_type": "code",
   "execution_count": null,
   "id": "a22e1030",
   "metadata": {},
   "outputs": [],
   "source": [
    "# test_Q13\n",
    "assert False, hint"
   ]
  },
  {
   "cell_type": "markdown",
   "id": "36d133c2",
   "metadata": {
    "deletable": false
   },
   "source": [
    "### Q14: Nintendo is interested in whether or not their online advertisements are working. They record whether or not a user had seen an ad on a given day and their amount of spending on Nintendo products in the next 48 hours. They are interested in determining if there is an association between whether or not the user say an ad and their expenditures."
   ]
  },
  {
   "cell_type": "markdown",
   "id": "566515f9",
   "metadata": {
    "deletable": false
   },
   "source": [
    "> Answer here..."
   ]
  },
  {
   "cell_type": "code",
   "execution_count": null,
   "id": "5f149830",
   "metadata": {},
   "outputs": [],
   "source": [
    "hint = \"\\n\\nAUTOMATICALLY FAILING AUTOTEST: DOES NOT COUNT AGAINST STUDENT\\n\"\n",
    "hint += \"Included as an example answer for feedback purposes only\\n\\n\"\n",
    "hint = ''' \n",
    "Since the researcher is interested in comparing values of a numerical variable (spending) across two groups (seen or not seen the ad), a two-sample test comparing the mean (or median) spending for the two groups (saw ad vs did not see ad) would be appropriate.  \n",
    "$H_0: \\mu_{ad} = \\mu_{no.ad}$ vs $H_A: \\mu_{ad} \\\\neq \\mu_{no.ad}$ \n",
    "where $\\mu_{ad}$ is the mean spending for users who saw the ad and $\\mu_{no.ad}$ is the mean spending for those who did not see the ad.\n",
    "'''"
   ]
  },
  {
   "cell_type": "code",
   "execution_count": null,
   "id": "41481f0e",
   "metadata": {},
   "outputs": [],
   "source": [
    "# test_Q14\n",
    "assert False, hint"
   ]
  },
  {
   "cell_type": "markdown",
   "id": "5cbb2311",
   "metadata": {
    "deletable": false
   },
   "source": [
    "### Q15: Based on results from a survey of graduates from the University of Toronto, we would like to compare the median salaries of graduates from the statistics and graduates of mathematics programs."
   ]
  },
  {
   "cell_type": "markdown",
   "id": "a6c693ac",
   "metadata": {
    "deletable": false
   },
   "source": [
    "> Answer here..."
   ]
  },
  {
   "cell_type": "code",
   "execution_count": null,
   "id": "ffaedb69",
   "metadata": {},
   "outputs": [],
   "source": [
    "hint = \"\\n\\nAUTOMATICALLY FAILING AUTOTEST: DOES NOT COUNT AGAINST STUDENT\\n\"\n",
    "hint += \"Included as an example answer for feedback purposes only\\n\\n\"\n",
    "hint = ''' \n",
    "$H_0: M_{stat} = M_{math}$ vs $H_A: M_{stat} \\\\neq M_{math}$ \n",
    "where $M_{stat}$ is the median salary for graduates of statistics programs and $M_{math}$ is the median salary for graduates of math programs.\n",
    "'''"
   ]
  },
  {
   "cell_type": "code",
   "execution_count": null,
   "id": "9c9155aa",
   "metadata": {},
   "outputs": [],
   "source": [
    "# test_Q15\n",
    "assert False, hint"
   ]
  }
 ],
 "metadata": {
  "kernelspec": {
   "display_name": "Python 3 (ipykernel)",
   "language": "python",
   "name": "python3"
  },
  "language_info": {
   "codemirror_mode": {
    "name": "ipython",
    "version": 3
   },
   "file_extension": ".py",
   "mimetype": "text/x-python",
   "name": "python",
   "nbconvert_exporter": "python",
   "pygments_lexer": "ipython3",
   "version": "3.10.8"
  }
 },
 "nbformat": 4,
 "nbformat_minor": 6
}
