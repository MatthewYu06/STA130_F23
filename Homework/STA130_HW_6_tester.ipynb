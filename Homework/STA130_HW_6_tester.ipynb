{
 "cells": [
  {
   "cell_type": "markdown",
   "id": "aa1e99a5",
   "metadata": {
    "deletable": false
   },
   "source": [
    "# Coding Homework 6: [Your Name]\n",
    "\n",
    "Go through this notebook, following the instructions! \n",
    "\n",
    "- You can add new cells if you need (with the \\\"+\\\" button above); but, deleting cells could very likely cause your notebook to fail MarkUs autotesting (and you'd have to start over and re-enter your answers into a completely fresh version of the notebook to get things to work again...)\n",
    "\n",
    "> TAs will mark this assignment by first checking ***MarkUs*** autotests for completion and general correctness, and then manually reviewing your written response to `Q20` and plotted figures for `Q2` and `Q17`\n",
    "> - The  `Q0, Q2, Q4, Q16` questions \"automatically fail\" during automated testing so that MarkUs exposes example answers for student review and consideration for these problems: these \"failed MarkUs tests\" are not counted against the student.\n"
   ]
  },
  {
   "cell_type": "markdown",
   "id": "9fbb0423",
   "metadata": {
    "deletable": false
   },
   "source": [
    "## Social Media and Anxiety\n",
    "\n",
    "There have been many questions regarding whether or not usage of social media increases anxiety levels. For example, do  TikTok and Facebook posts create an unattainable sense of life success and satisfaction?  Does procrastinating by watching YouTube videos or reading Twitter posts contribute unnecessary stress from deadline pressure? A study was conducted to examine the relationship between social media usage and student anxiety. Students were asked to categorize their social media usage as \"High\" if it exceeded more than 2 hours per day, and then student anxiety levels where scored through as series of questions, with higher scores suggesting higher student anxiety."
   ]
  },
  {
   "cell_type": "code",
   "execution_count": null,
   "id": "68cc11e2",
   "metadata": {
    "deletable": false
   },
   "outputs": [],
   "source": [
    "import pandas as pd\n",
    "import numpy as np\n",
    "\n",
    "# The `numpy.repeat` function replicates elements as demonstrated here\n",
    "social_media_usage = np.repeat([\"Low\", \"High\"], [30, 16])\n",
    "anxiety_scores = [24.64, 39.29, 16.32, 32.83, 28.02, \n",
    "                   33.31, 20.60, 21.13, 26.69, 28.90,\n",
    "                   26.43, 24.23, 7.10,  32.86, 21.06,\n",
    "                   28.89, 28.71, 31.73, 30.02, 21.96,\n",
    "                   25.49, 38.81, 27.85, 30.29, 30.72,\n",
    "                   21.43, 22.24, 11.12, 30.86, 19.92,\n",
    "                   33.57, 34.09, 27.63, 31.26,\n",
    "                   35.91, 26.68, 29.49, 35.32,\n",
    "                   26.24, 32.34, 31.34, 33.53,\n",
    "                   27.62, 42.91, 30.20, 32.54]\n",
    "anxiety_data = pd.DataFrame({'anxiety_scores': anxiety_scores, 'social_media_usage': social_media_usage})\n",
    "anxiety_data"
   ]
  },
  {
   "cell_type": "markdown",
   "id": "c6c7e5b9",
   "metadata": {
    "deletable": false
   },
   "source": [
    "### Q0: In simple terms, what is the claim of the *null hypothesis* for the experiment above that we are naturally trying to provide evidence against? How could this be formally stated with respect to the parameters $Median_{High}$ and $Median_{Low}$ of the two populations in question? And what is $H_1$ in terms of $H_0$?\n",
    "\n",
    "#### Provide your written answer in the markdown cell below.\n",
    "- You can compare your answer with the example solution provided by MarkUs"
   ]
  },
  {
   "cell_type": "markdown",
   "id": "479e73e0",
   "metadata": {
    "deletable": false
   },
   "source": [
    "> - Hint 1: In two sample contexts the *null hypotheses* tends to be the most natural form of a \"no effect\" statement that \"nothing interesting or notable is happening\"; and, it's generally a \"straw man\" that we're trying to provide enough evidence against to reject.\n",
    "> - Hint 2: A formal *null hypotheses* that there is no difference in the means of two groups would be $H_0: \\mu_{High} = \\mu_{Low}$."
   ]
  },
  {
   "cell_type": "markdown",
   "id": "5af87b2b",
   "metadata": {
    "deletable": false
   },
   "source": [
    "> Answer here...\n"
   ]
  },
  {
   "cell_type": "code",
   "execution_count": null,
   "id": "1b09d34a",
   "metadata": {},
   "outputs": [],
   "source": [
    "hint = \"\\n\\nAUTOMATICALLY FAILING AUTOTEST: DOES NOT COUNT AGAINST STUDENT\\nIncluded as an example answer for feedback purposes only\\n\\n\"\n",
    "hint += \"The natural null hypothesis here is that social media usage does not affect stress; and, \\n\"\n",
    "hint += \"we'd like to provide evidence against this null hypothesis.  Formally, \\n\"\n",
    "hint += \"for \\\"High\\\" social media usage population H and \\\"Low\\\" social media usage population L \\n\"\n",
    "hint += \"with medians $\\\\text{50\\%}_{\\\\text{H}}$ and $\\\\text{50\\%}_{\\\\text{L}}$, respectively, the null and alternative hypothesis in LaTeX are\\n\"\n",
    "hint += '''\n",
    "$\n",
    "H_0: \\\\text{50\\%}_{\\\\text{H}} = \\\\text{50\\%}_{\\\\text{L}} \\\\\\\\\n",
    "H_1: H_0 \\\\text{ is false } (\\\\text{50\\%}_{\\\\text{H}} \\\\neq \\\\text{50\\%}_{\\\\text{L}})\n",
    "$\n",
    "'''"
   ]
  },
  {
   "cell_type": "code",
   "execution_count": null,
   "id": "53b68ab7",
   "metadata": {},
   "outputs": [],
   "source": [
    "# test_Q0\n",
    "assert False, hint"
   ]
  },
  {
   "cell_type": "markdown",
   "id": "2eaf8950",
   "metadata": {
    "deletable": false
   },
   "source": [
    "### Q1: Revisit your statements regarding the *null hypotheses* above with confounding in mind; namely, since social media usage is a self selecting process, perhaps social media users are already more anxious people on average regardless of their social media usage.  If we make a determination about the *null hypotheses* are we actually addressing the question of \"whether or not usage of social media increases anxiety levels\"? Or are we just using a hypothesis test to examine if there is strong evidence of difference between the two groups (regardless of its causes)?  \n",
    "\n",
    "A. Neither, we are checking if confounding impacts our determination of \"whether or not usage of social media increases anxiety levels\"  \n",
    "B. We actually addressing the question of \"whether or not usage of social media increases anxiety levels\"   \n",
    "C. We are just using a hypothesis test to examine if there is an observable difference between the two groups (regardless of its causes)  \n",
    "D.  We cannot determine any of the above from a two-sample hypothesis test  "
   ]
  },
  {
   "cell_type": "code",
   "execution_count": null,
   "id": "2ef4a6a6",
   "metadata": {
    "deletable": false
   },
   "outputs": [],
   "source": [
    "# Q1: your answer will be tested!\n",
    "Q1 = None  # Assign either 'A' or 'B' or 'C' or 'D' to `Q1` instead of `None`\n",
    "# E.g., Q1 = 'A'"
   ]
  },
  {
   "cell_type": "code",
   "execution_count": null,
   "id": "ff0c8a07",
   "metadata": {},
   "outputs": [],
   "source": [
    "hint = \"The null hypothesis is a statement of equivalence between the two groups,\\n\"\n",
    "hint += \"so a two-sample hypothesis might be able to provide evidence against the null hypothesis\\n\"\n",
    "hint += \"on the basis of an clearly observable strong difference between the two groups,\\n\"\n",
    "hint += \"or fail to do so. The null hypothesis tells us nothing about any cause of a possible difference.\"\n",
    "test = Q1 == 'C'"
   ]
  },
  {
   "cell_type": "code",
   "execution_count": null,
   "id": "51d64b30",
   "metadata": {},
   "outputs": [],
   "source": [
    "# test_Q1\n",
    "assert test, hint"
   ]
  },
  {
   "cell_type": "markdown",
   "id": "90b6a5b2",
   "metadata": {
    "deletable": false
   },
   "source": [
    "### Q2: Construct boxplots of `anxiety_score` for the two levels of social media usage, and write 2-3 sentences describing and comparing the distributions of anxiety scores across the social media usage groups.  \n",
    "#### Provide your written answer in the markdown cell below.\n",
    "- You can compare your answer with the example solution provided by MarkUs"
   ]
  },
  {
   "cell_type": "code",
   "execution_count": null,
   "id": "7e8211ff",
   "metadata": {
    "deletable": false
   },
   "outputs": [],
   "source": [
    "# Code your solution here\n",
    "import plotly.express as px\n"
   ]
  },
  {
   "cell_type": "markdown",
   "id": "56ae8370",
   "metadata": {
    "deletable": false
   },
   "source": [
    "> Answer here..."
   ]
  },
  {
   "cell_type": "code",
   "execution_count": null,
   "id": "1f0e7af8",
   "metadata": {},
   "outputs": [],
   "source": [
    "hint = \"\\n\\nAUTOMATICALLY FAILING AUTOTEST: DOES NOT COUNT AGAINST STUDENT\\n\"\n",
    "hint += \"Included as an example answer for feedback purposes only\\n\\n\"\n",
    "hint += \"CODE:\\n\"\n",
    "hint += '''\n",
    "import plotly.express as px\n",
    "fig = px.box(anxiety_data, x='anxiety_scores', y = 'social_media_usage')\n",
    "fig.show()\n",
    "'''\n",
    "hint += \"\\n\\nWRITTEN SOLUTION:\\n\"\n",
    "hint += \"There indeed appears to be a clear difference in anxiety between \\\"Low\\\" and \\\"High\\\" social media usage groups, \\n\\\n",
    "with the median of the \\\"High\\\" group exceeding the 75th percentile of \\\"Low\\\" group. \\nFor the \\\"High\\\" social media usage group, \\nthe anxiety scores \\\n",
    "are much more concentrated around high (>30) anxiety scores with a tighter spread; whereas, \\nfor the \\\"Low\\\" social media usage group, \\\n",
    "the anxiety scores are much more highly variable, \\nwith the upper 50% of anxiety scores in the \\\"Low\\\" social media usage group \\\n",
    "overlapping or even exceeding \\nsome scores in the \\\"High\\\" social media usage group, but most of the lower 50% of anxiety scores in the \\n\\\"Low\\\" \\\n",
    "social media usage group being less than all the scores in the \\\"High\\\" social media usage group.\""
   ]
  },
  {
   "cell_type": "code",
   "execution_count": null,
   "id": "ce3022e3",
   "metadata": {},
   "outputs": [],
   "source": [
    "# test_Q2\n",
    "assert False, hint"
   ]
  },
  {
   "cell_type": "markdown",
   "id": "b4d71493",
   "metadata": {
    "deletable": false
   },
   "source": [
    "### Q3: What do these data visually suggest regarding the claim that the ***median*** anxiety level is different for the population of people with high frequency social media use compared to the population with low frequency use? \n",
    "\n",
    "A. The median anxiety level is likely higher for low frequency social media users compared to higher frequency social media users.  \n",
    "B. We cannot say, since the groups are shuffled and we do not know the proportion of high frequency or lower frequency social media users in each group.    \n",
    "C. The median anxiety level is likely the same for low frequency social media users compared to higher frequency social media users.  \n",
    "D. The median anxiety level is likely higher for high frequency social media users compared to lower frequency social media users."
   ]
  },
  {
   "cell_type": "code",
   "execution_count": null,
   "id": "21826f8b",
   "metadata": {
    "deletable": false
   },
   "outputs": [],
   "source": [
    "# Q3: your answer will be tested!\n",
    "Q3 = None  # Assign either 'A' or 'B' or 'C' or 'D' to `Q3` instead of `None`\n",
    "# E.g., Q3 = 'A'"
   ]
  },
  {
   "cell_type": "code",
   "execution_count": null,
   "id": "35c910ac",
   "metadata": {},
   "outputs": [],
   "source": [
    "hint = \"On each box in the boxplot, the left side is the 25th percentile, \\n\"\n",
    "hint += \"the middle line is the 50th percentile while the right side is the 75th percentile.\\n\"\n",
    "hint += \"Consider reviewing the answer to Q2 if this is not sufficiently helpful.\"\n",
    "test = Q3 == 'D'"
   ]
  },
  {
   "cell_type": "code",
   "execution_count": null,
   "id": "08440bdc",
   "metadata": {},
   "outputs": [],
   "source": [
    "# test_Q3\n",
    "assert test, hint"
   ]
  },
  {
   "cell_type": "markdown",
   "id": "88c551c2",
   "metadata": {
    "deletable": false
   },
   "source": [
    "### Q4: Write a few sentences explaining what the code inside the `for` loop below does and why it's doing it.  \n",
    "#### Provide your written answer in the markdown cell below.\n",
    "- You can compare your answer with the example solution provided by MarkUs"
   ]
  },
  {
   "cell_type": "markdown",
   "id": "08324cb1",
   "metadata": {
    "deletable": false
   },
   "source": [
    "> Answer here..."
   ]
  },
  {
   "cell_type": "code",
   "execution_count": null,
   "id": "2ce3fa41",
   "metadata": {
    "deletable": false
   },
   "outputs": [],
   "source": [
    "observed_test_statistic = np.diff(anxiety_data.groupby('social_media_usage').median().values.flatten())\n",
    "\n",
    "np.random.seed(1) # make the simulation reproducible...\n",
    "repetitions = 1000 \n",
    "simulated_values = []\n",
    "\n",
    "simdata = anxiety_data.copy() # you should essentially always use `.copy()` for data frames; otherwise,\n",
    "# changes to the new data frame will also appear in the original version of the data frame as well(!)\n",
    "\n",
    "for i in range(repetitions):\n",
    "    simdata['social_media_usage'] = anxiety_data['social_media_usage'].sample(frac=1).values\n",
    "    simvalue = np.diff(simdata.groupby('social_media_usage').median().values.flatten())[0]\n",
    "    simulated_values += [simvalue]\n",
    "\n",
    "fig = px.histogram(pd.DataFrame({'Difference in Medians': simulated_values}), \n",
    "                   x='Difference in Medians', color_discrete_sequence=['grey'])\n",
    "fig.update_traces(marker_line_width=1, marker_line_color=\"black\")\n",
    "fig.add_vline(x=observed_test_statistic[0], line_width=3, line_dash=\"dash\", line_color=\"red\")\n",
    "fig.add_vline(x=abs(observed_test_statistic[0]), line_width=3, line_dash=\"dash\", line_color=\"red\")\n",
    "fig.show()\n",
    "\n",
    "num_as_or_more_extreme = (abs(np.array(simulated_values)) >= abs(observed_test_statistic)).sum()\n",
    "p_value = num_as_or_more_extreme / repetitions\n",
    "p_value"
   ]
  },
  {
   "cell_type": "code",
   "execution_count": null,
   "id": "075f45ca",
   "metadata": {},
   "outputs": [],
   "source": [
    "hint = \"\\n\\nAUTOMATICALLY FAILING AUTOTEST: DOES NOT COUNT AGAINST STUDENT\\n\"\n",
    "hint += \"Included as an example answer for feedback purposes only\\n\\n\"\n",
    "hint += \"The code overall produces a nonparametric permutation test p-value\\n\"\n",
    "hint += \"based on randomly shuffling the group labels under a (null hypothesis) assumption that they don't matter.\\n\\n\"\n",
    "hint += \"The first line of code in the `for` loop first shuffles the \\\"High\\\" and \\\"Low\\\" social media usage group labels\\n\"\n",
    "hint += \"for each observation. This implicitly assumes the outcomes for both groups are sampled from the same population\\n\"\n",
    "hint += \"(so that that actual group assignment label doesn't matter when estimating a population median from a sample),\\n\"\n",
    "hint += \"and that this population can be relatively reasonably 'represented' or 'estimated' based on the combined samples.\\n\"\n",
    "hint += \"This idea as a null hypothesis will thus be true for this simulated data (which treats the combined sample\\n\"\n",
    "hint += \"as the single population). So the subsequently calculated (median difference) statistic represents a draw from\\n\"\n",
    "hint += \"the sampling distribution of the median difference statistic under this null hypothesis assumption that it's\\n\"\n",
    "hint += \"calculated from two samples drawn from the same population (which thus have the same population median).\\n\"\n",
    "hint += \"Each repetition of the `for` loop allows us to repeatedly sampling in this manner, creating the simulation\\n\"\n",
    "hint += \"of the sampling distribution of the median difference statistic under this null hypothesis assumption.\\n\\n\"\n",
    "hint += \"It's worth re-emphasizing that this is nonparametric since the two samples themselves are used to represent\\n\"\n",
    "hint += \"the population, and our analysis proceeds on the basis of that assumption. The more accurately the two\\n\"\n",
    "hint += \"samples actually represent the combined true populations, the more reliable the nonparametric analysis will be.\\n\"\n",
    "hint += \"Of course if the samples are wildly idiosyncratic and strange and thus don't well-represent their populations,\\n\"\n",
    "hint += \"then they'll make for 'unusual' statistical analysis results; but, this is true of any analysis that uses\\n\" \n",
    "hint += \"an 'unusual' sample that's just randomly 'strange' by the chance luck of the draw of the sample itself.\\n\\n\"\n",
    "hint += \"We will finally judge evidence against our null hypothesis by considering how 'strange' the observed test\\n\"\n",
    "hint += \"statistic is relative to the sampling distirbution based on assuming the 'one population' null hypothesis.\\n\"\n",
    "hint += \"If the observed test statistic doesn't seem like a reasonable possible sample from this sampling\\n\"\n",
    "hint += \"distribution made based on assuming this null hypothesis, then the reasonable explanation is that\\n\"\n",
    "hint += \"the assumption of the null hypothesis is likely not true!\""
   ]
  },
  {
   "cell_type": "code",
   "execution_count": null,
   "id": "20ee26d6",
   "metadata": {},
   "outputs": [],
   "source": [
    "# test_Q4\n",
    "assert False, hint"
   ]
  },
  {
   "cell_type": "markdown",
   "id": "3002c359",
   "metadata": {
    "deletable": false
   },
   "source": [
    "### Q5: Which statement below best states the evidence you have against the *null hypothesis* based on the simulated p-value above?\n",
    "A. `0.10 < p-value` - No evidence against the null hypothesis  \n",
    "B. `0.05 < p-value < 0.10` - Weak evidence against the null hypothesis  \n",
    "C. `0.01 < p-value < 0.05` - Moderate evidence against the null hypothesis  \n",
    "D. `0.001 < p-value < 0.01` - Strong evidence against the null hypothesis  \n",
    "E. `p-value < 0.001` - Very strong evidence against the null hypothesis"
   ]
  },
  {
   "cell_type": "code",
   "execution_count": null,
   "id": "678adfa5",
   "metadata": {},
   "outputs": [],
   "source": [
    "# Q5: your answer will be tested!\n",
    "Q5 = None  # Assign either 'A' or 'B' or 'C' or 'D' or 'E' to `Q5` instead of `None`\n",
    "# E.g., Q5 = 'A'"
   ]
  },
  {
   "cell_type": "code",
   "execution_count": null,
   "id": "5da789e4",
   "metadata": {},
   "outputs": [],
   "source": [
    "hint = \"The null hypothesis assumes that there's no difference in the median anxiety level between\\n\"\n",
    "hint += \"the 'High' and 'Low' frequence social media usage populations in question.\\n\"\n",
    "hint += \"The p-value of 0.012 represents strong evidence against the null hypothesis\\n\"\n",
    "hint += \"that the median anxiety level among \\\"High\\\" and \\\"Low\\\" social media usage groups is the same.\\n\\n\"\n",
    "hint += \"Further, the observed difference indicates that individuals with \\\"High\\\" social media usage have\\n\"\n",
    "hint += \"MORE anxiety than individuals with \\\"Low\\\" social media usage; however, if we reject the null hypothesis\\n\"\n",
    "hint += \"in favor of the alternative hypothesis, all we are \\\"formally\\\" claiming is that the groups have different medians.\"\n",
    "test = Q5 == 'C'"
   ]
  },
  {
   "cell_type": "code",
   "execution_count": null,
   "id": "2ae89599",
   "metadata": {},
   "outputs": [],
   "source": [
    "# test_Q5\n",
    "assert test, hint"
   ]
  },
  {
   "cell_type": "markdown",
   "id": "6abcc58f",
   "metadata": {
    "deletable": false
   },
   "source": [
    "### Q6: Does this data support the claim that the ***median*** anxiety level is different for those who use social media in high frequency compared to those who use social media in lower frequency?  How about the claim that \"usage of social media increases anxiety levels\"?\n",
    "\n",
    "A. Yes to the first, and yes to the second... there is a difference in median anxiety levels for those who use social media in high frequency compared to those who use social media in lower frequency, and it is because social media increases anxiety levels\n",
    "\n",
    "B. Yes to the first; but, no to the second... it seems possible -- not saying it's true, just plausible -- that different predispositions to anxiety could also have different predispositions to social media usage.  \n",
    "\n",
    "C. No to the first, and no to the second... this data does not adequately support the claim that the median anxiety level is different for those who use social media in high frequency compared to those who use social media in lower frequency  \n",
    "\n",
    "D. No to the first; but, yes to the second... the claim that the median anxiety level is different for those who use social media in high frequency compared to those who use social media in lower frequency is not supported, but we know usage of social media increases anxiety levels"
   ]
  },
  {
   "cell_type": "code",
   "execution_count": null,
   "id": "5363f3f8",
   "metadata": {
    "deletable": false
   },
   "outputs": [],
   "source": [
    "# Q6: your answer will be tested!\n",
    "Q6 = None  # Assign either 'A' or 'B' or 'C' or 'D' to `Q6` instead of `None`\n",
    "# E.g., Q6 = 'A'"
   ]
  },
  {
   "cell_type": "code",
   "execution_count": null,
   "id": "8f3410d6",
   "metadata": {},
   "outputs": [],
   "source": [
    "hint = \"Note that the first part of the question is the null hypothesis,\\n\"\n",
    "hint += \"so the data is how we may be able to provide evidence against the null hypothesis.\\n\"\n",
    "hint += \"Does the null hypothesis say anything about the cause of difference between median anxiety levels?\"\n",
    "test = Q6 == 'B'"
   ]
  },
  {
   "cell_type": "code",
   "execution_count": null,
   "id": "8afa0568",
   "metadata": {},
   "outputs": [],
   "source": [
    "# test_Q6\n",
    "assert test, hint"
   ]
  },
  {
   "cell_type": "markdown",
   "id": "cf1e78e4",
   "metadata": {},
   "source": [
    "### We can use other types of statistical tests and p-value calculations to compare the median anxiety levels between the \"High\" and \"Low\" social media usage populations.  "
   ]
  },
  {
   "cell_type": "markdown",
   "id": "82440bf2",
   "metadata": {},
   "source": [
    "#### The **median test** has a null hypothesis that assumes the medians of two groups are equal."
   ]
  },
  {
   "cell_type": "markdown",
   "id": "e39a7066",
   "metadata": {},
   "source": [
    "### Q7: Using `scipy.stats.median_test`, calculate the p-value under the null hypothesis that the median anxiety levels of \"High\" and \"Low\" social media usage population are equal. Round to 3 decimal places."
   ]
  },
  {
   "cell_type": "markdown",
   "id": "25dabc6d",
   "metadata": {},
   "source": [
    "> - Hint 1:  \n",
    "`from scipy import stats`  \n",
    "`stats.median_test(series_A, series_B)`  \n",
    "where `series_A` and `series_B` are your two samples\n",
    "> - Hint 2: Consider using the `numpy.round` function to round your calculation"
   ]
  },
  {
   "cell_type": "code",
   "execution_count": null,
   "id": "b49c9ae3",
   "metadata": {},
   "outputs": [],
   "source": [
    "from scipy import stats"
   ]
  },
  {
   "cell_type": "code",
   "execution_count": null,
   "id": "90dd38fb",
   "metadata": {},
   "outputs": [],
   "source": [
    "# Q7: your answer will be tested!\n",
    "Q7 = None  # Assign p-value rounded to 3 decimal places to Q7 instead of 'None'\n",
    "# E.g., Q7 = '0.987'"
   ]
  },
  {
   "cell_type": "code",
   "execution_count": null,
   "id": "dcdfab35",
   "metadata": {},
   "outputs": [],
   "source": [
    "# test_Q7\n",
    "p_value = np.round(stats.median_test(anxiety_data.anxiety_scores[anxiety_data.social_media_usage==\"Low\"], anxiety_data.anxiety_scores[anxiety_data.social_media_usage==\"High\"])[1], 3)\n",
    "assert Q7 == p_value, \"Got \" + str(Q7) + \" for p-value but should be \" + str(p_value)\n"
   ]
  },
  {
   "cell_type": "markdown",
   "id": "c08a57f4",
   "metadata": {},
   "source": [
    "### Q8: Is the median test a parametric or non-parametric test, and why?\n",
    "\n",
    "A. Parametric, since the assumption of medians being equal implies each population is normally distributed  \n",
    "B. Parametric, since the sampling distribution graph appears to be normally distributed  \n",
    "C. Nonparametric, since a sample can never be normally distributed  \n",
    "D. Nonparametric, since we have no assumptions about how each population is distributed"
   ]
  },
  {
   "cell_type": "code",
   "execution_count": null,
   "id": "b198aace",
   "metadata": {},
   "outputs": [],
   "source": [
    "# Q8: your answer will be tested!\n",
    "Q8 = None  # Assign either 'A' or 'B' or 'C' or 'D' to `Q8` instead of `None`\n",
    "# E.g., Q8 = 'A'"
   ]
  },
  {
   "cell_type": "code",
   "execution_count": null,
   "id": "b158be3a",
   "metadata": {},
   "outputs": [],
   "source": [
    "# test_Q8\n",
    "assert Q8 == 'D'"
   ]
  },
  {
   "cell_type": "markdown",
   "id": "bce64978",
   "metadata": {},
   "source": [
    "#### The **Wilcoxon Rank Sum test** has a null hypothesis that assumes there is \"no actual difference between groups\". This is a stronger assumption compared to the median test."
   ]
  },
  {
   "cell_type": "markdown",
   "id": "ede7d590",
   "metadata": {},
   "source": [
    "### Q9: Using `scipy.stats.mannwhitneyu`, calculate the p-value under the null hypothesis that the distribution of the anxiety levels of \"High\" and \"Low\" social media usage populations are no different. Round to 3 decimal places."
   ]
  },
  {
   "cell_type": "markdown",
   "id": "3406d4e1",
   "metadata": {},
   "source": [
    "> - Hint 1:  \n",
    "`stats.mannwhitneyu(series_A, series_B)`  \n",
    "where `series_A` and `series_B` are your two samples"
   ]
  },
  {
   "cell_type": "code",
   "execution_count": null,
   "id": "ee764049",
   "metadata": {},
   "outputs": [],
   "source": [
    "# space for your work"
   ]
  },
  {
   "cell_type": "code",
   "execution_count": null,
   "id": "1a301d53",
   "metadata": {},
   "outputs": [],
   "source": [
    "# Q9: your answer will be tested!\n",
    "Q9 = None  # Assign p-value rounded to 3 decimal places to Q9 instead of 'None'\n",
    "# E.g., Q9 = '0.987'"
   ]
  },
  {
   "cell_type": "code",
   "execution_count": null,
   "id": "bca3e636",
   "metadata": {},
   "outputs": [],
   "source": [
    "# test_Q9\n",
    "p_value = np.round(stats.mannwhitneyu(anxiety_data.anxiety_scores[anxiety_data.social_media_usage==\"Low\"], anxiety_data.anxiety_scores[anxiety_data.social_media_usage==\"High\"])[1], 3)\n",
    "assert Q9 == p_value, \"Got \" + str(Q9) + \" for p-value but should be \" + str(p_value)"
   ]
  },
  {
   "cell_type": "markdown",
   "id": "ba568ffc",
   "metadata": {},
   "source": [
    "### Q10: Is the Wilcoxon Rank Sum test a parametric or non-parametric test, and why?\n",
    "\n",
    "A. Parametric, since the assumption of \"no actual difference between groups\" can only occur if each population is normally distributed   \n",
    "B. Parametric, since the sampling distribution graph appears to be normally distributed  \n",
    "C. Nonparametric, since the two populations could be distributed in a non-normal manner  \n",
    "D. Nonparametric, since the two populations have different distributions, and thus at least one must be non-normal"
   ]
  },
  {
   "cell_type": "code",
   "execution_count": null,
   "id": "c6d01c3c",
   "metadata": {},
   "outputs": [],
   "source": [
    "# Q10: your answer will be tested!\n",
    "Q10 = None  # Assign either 'A' or 'B' or 'C' or 'D' to `Q10` instead of `None`\n",
    "# E.g., Q10 = 'A'"
   ]
  },
  {
   "cell_type": "code",
   "execution_count": null,
   "id": "5598ee44",
   "metadata": {},
   "outputs": [],
   "source": [
    "# test_Q10\n",
    "assert Q10 == 'C'"
   ]
  },
  {
   "cell_type": "markdown",
   "id": "5b0d495e",
   "metadata": {},
   "source": [
    "#### The **two-sample ttest** has a null hypothesis that assumes the means of two groups are equal and that the samples are drawn from normally distributed populations."
   ]
  },
  {
   "cell_type": "markdown",
   "id": "1e8cbd1a",
   "metadata": {},
   "source": [
    "### Q11: Using `scipy.stats.ttest_ind`, calculate the p-value under the null hypothesis that the mean anxiety levels of \"High\" and \"Low\" social media usage population are equal, and each group is drawn from a normally distributed population. Round to 3 decimal places."
   ]
  },
  {
   "cell_type": "markdown",
   "id": "f48f6fee",
   "metadata": {},
   "source": [
    "> - Hint 1:  \n",
    "`stats.ttest_ind(series_A, series_B)`  \n",
    "where `series_A` and `series_B` are your two samples"
   ]
  },
  {
   "cell_type": "code",
   "execution_count": null,
   "id": "2fcec329",
   "metadata": {},
   "outputs": [],
   "source": [
    "# space for your work"
   ]
  },
  {
   "cell_type": "code",
   "execution_count": null,
   "id": "140593d2",
   "metadata": {},
   "outputs": [],
   "source": [
    "# Q11: your answer will be tested!\n",
    "Q11 = None  # Assign p-value rounded to 3 decimal places to Q11 instead of 'None'\n",
    "# E.g., Q11 = '0.987'"
   ]
  },
  {
   "cell_type": "code",
   "execution_count": null,
   "id": "ddf35d83",
   "metadata": {},
   "outputs": [],
   "source": [
    "# test_Q11\n",
    "p_value = np.round(stats.ttest_ind(anxiety_data.anxiety_scores[anxiety_data.social_media_usage==\"Low\"], anxiety_data.anxiety_scores[anxiety_data.social_media_usage==\"High\"])[1], 3)\n",
    "assert Q11 == p_value, \"Got \" + str(Q11) + \" for p-value but should be \" + str(p_value)"
   ]
  },
  {
   "cell_type": "markdown",
   "id": "d699173e",
   "metadata": {},
   "source": [
    "### Q12: Is the two-sample ttest a parametric or non-parametric test, and why?\n",
    "\n",
    "A. Parametric, since we assume samples are drawn from normally distributed populations  \n",
    "B. Parametric, since the sampling distribution graph appears to be normally distributed  \n",
    "C. Nonparametric, since the assumption of the means for each group being equal says nothing about the distribution  \n",
    "D. Nonparametric, since a sample can never be normally distributed"
   ]
  },
  {
   "cell_type": "code",
   "execution_count": null,
   "id": "7dad64e0",
   "metadata": {},
   "outputs": [],
   "source": [
    "# Q12: your answer will be tested!\n",
    "Q12 = None  # Assign either 'A' or 'B' or 'C' or 'D' to `Q12` instead of `None`\n",
    "# E.g., Q12 = 'A'"
   ]
  },
  {
   "cell_type": "code",
   "execution_count": null,
   "id": "149223f7",
   "metadata": {},
   "outputs": [],
   "source": [
    "# test_Q12\n",
    "assert Q12 == 'A'"
   ]
  },
  {
   "cell_type": "markdown",
   "id": "86716ca6",
   "metadata": {},
   "source": [
    "### Q13: Recall the p-value calculations for a theoretical binomial sampling distribution involving `scipy.stats.binom`. Which of the following is correct?\n",
    "\n",
    "A. This method **theoretically** derives a p-value under the null hypothesis, while the above 3 tests do not  \n",
    "B. Like some of the 3 tests above, the continuous approximation to the theoretical binomial sampling distribution is always a non-parametric p-value  \n",
    "C. This method also involves two groups like the above 3 tests, but only in the context of a 50-50 chance problem   \n",
    "D. This method calculates one-sample p-value for proportion problems, while the above 3 tests calculate two-sample p-value that involve some comparison between the groups"
   ]
  },
  {
   "cell_type": "code",
   "execution_count": null,
   "id": "c2c22e50",
   "metadata": {},
   "outputs": [],
   "source": [
    "# Hint:\n",
    "(1-stats.binom(n=100, p=0.5).cdf(60-1))*2\n",
    "# Probability of getting a combination more extreme than 60 heads in 100 coin flips for a 50-50 coin"
   ]
  },
  {
   "cell_type": "code",
   "execution_count": null,
   "id": "0e486f10",
   "metadata": {},
   "outputs": [],
   "source": [
    "# Q13: your answer will be tested!\n",
    "Q13 = None  # Assign either 'A' or 'B' or 'C' or 'D' to `Q13` instead of `None`\n",
    "# E.g., Q13 = 'A'"
   ]
  },
  {
   "cell_type": "code",
   "execution_count": null,
   "id": "43b724ae",
   "metadata": {},
   "outputs": [],
   "source": [
    "# test_Q13\n",
    "assert Q13 == 'D'"
   ]
  },
  {
   "cell_type": "markdown",
   "id": "dbef0e33",
   "metadata": {},
   "source": [
    "### Q14: Recall the one-sample ttest p-value calculation involving `scipy.stats.ttest_1samp`. Which of the following is correct?\n",
    "\n",
    "A. Like the above 3 tests, the one-sample t-test relies on the assumption of a continuous approximation to the binomial distribution  \n",
    "B. The one-sample t-test computes on the basis of the continuous approximation to the binomial distribution, so it is used in one-sample proportion problems while the above 3 tests involve two samples  \n",
    "C. An alternative for `scipy.stats.ttest_1samp` in the one-sample ttest is `scipy.stats.ttestind` used above  \n",
    "D. Like some of the 3 tests above, the p-value caclulation for a one-sample ttest is always a non-parametric p-value"
   ]
  },
  {
   "cell_type": "code",
   "execution_count": null,
   "id": "ef41cf6b",
   "metadata": {},
   "outputs": [],
   "source": [
    "# Hint:\n",
    "coin_flips = [1] * 60 + [0] * 40  # 1 for head, 0 for tails\n",
    "stats.ttest_1samp(coin_flips, 0.5) \n",
    "# Probability of getting a combination more extreme than 60 heads in 100 coin flips for a 50-50 coin"
   ]
  },
  {
   "cell_type": "code",
   "execution_count": null,
   "id": "250b3cd5",
   "metadata": {},
   "outputs": [],
   "source": [
    "# Q14: your answer will be tested!\n",
    "Q14 = None  # Assign either 'A' or 'B' or 'C' or 'D' to `Q14` instead of `None`\n",
    "# E.g., Q14 = 'A'"
   ]
  },
  {
   "cell_type": "code",
   "execution_count": null,
   "id": "17f0a666",
   "metadata": {},
   "outputs": [],
   "source": [
    "# test_Q14\n",
    "assert Q14 == 'B'"
   ]
  },
  {
   "cell_type": "markdown",
   "id": "e5e7a873",
   "metadata": {},
   "source": [
    "### Q15: Touching back on week 3, we can create **confidence intervals** of the difference in median anxiety scores between the social media usage groups. Simulate a sampling distribution of the difference in median anxiety scores between the two groups and form a 90% confidence interval. "
   ]
  },
  {
   "cell_type": "markdown",
   "id": "72513439",
   "metadata": {},
   "source": [
    "> - Hint 1: What was happening in the for loop in `Q4`?\n",
    "> - Hint 2: Recall the `np.quantile()` function from week 5"
   ]
  },
  {
   "cell_type": "code",
   "execution_count": null,
   "id": "d4057fc3",
   "metadata": {},
   "outputs": [],
   "source": [
    "# space for scratch work if needed"
   ]
  },
  {
   "cell_type": "code",
   "execution_count": null,
   "id": "198c5700",
   "metadata": {},
   "outputs": [],
   "source": [
    "# Code your answer here\n",
    "np.random.seed(None)    # Replace the seed with the 1st, 3rd, and 5th digits or your student number. Keep this line at the top!"
   ]
  },
  {
   "cell_type": "code",
   "execution_count": null,
   "id": "f10fa7c3",
   "metadata": {},
   "outputs": [],
   "source": [
    "seed = None  # Assign to `seed` to your integer seed number to be used for testing, E.g. `seed = 123`\n",
    "num_samples = None  # Assign to `num_samples` number of samples in your distribution E.g. `num_samples = 5000`\n",
    "interval = (None, None)  # Assign to `interval` your 90% confidence interval, with the lower bound as the first index and upper bound as the second index. Round each value to 3 decimal points E.g. `interval = (0.897, 0.987)`\n",
    "Q15 = (seed, num_samples, interval)  # Don't change assignment of Q15"
   ]
  },
  {
   "cell_type": "code",
   "execution_count": null,
   "id": "6b4c39a5",
   "metadata": {},
   "outputs": [],
   "source": [
    "# test_Q15\n",
    "seed, num_samples, interval = Q15\n",
    "\n",
    "np.random.seed(seed) # make the simulation reproducible...\n",
    "simulated_values = []\n",
    "\n",
    "simdata = anxiety_data.copy() # you should essentially always use `.copy()` for data frames; otherwise,\n",
    "# changes to the new data frame will also appear in the original version of the data frame as well(!)\n",
    "\n",
    "for i in range(num_samples):\n",
    "    simdata['social_media_usage'] = anxiety_data['social_media_usage'].sample(frac=1).values\n",
    "    simvalue = np.diff(simdata.groupby('social_media_usage').median().values.flatten())[0]\n",
    "    simulated_values += [simvalue]\n",
    "\n",
    "calc_interval = np.round(np.quantile(simulated_values,(0.025, .975))[0], 3), np.round(np.quantile(simulated_values,(0.025, .975))[1],3)\n",
    "assert calc_interval == interval, \"You got \" + str(interval) + \" for your 90% confidence interval but should be \" + str(calc_interval)"
   ]
  },
  {
   "cell_type": "markdown",
   "id": "61a870f5",
   "metadata": {
    "deletable": false
   },
   "source": [
    "## Airbags\n",
    "The table below is adapted from \"Biostatistics for the Biological and Health Sciences\" and presents data from a random sample of passengers sitting in the front seat of cars involved in car crashes. Based on this data we'd like to make a determination as to whether or not death rates differ for passengers in cars with airbags and passengers in cars without airbags.\n",
    "\n",
    "|                           | Airbag available | No airbag available |\n",
    "|---------------------------|------------------|---------------------|                           \n",
    "| Passenger Fatalities      |  45              | 62                  |\n",
    "| Total number of Passengers|  10,541          | 9,867               |\n",
    "\n",
    "The code below creates a pandas data frame for this problem with the help of the `numpy.repeat` function."
   ]
  },
  {
   "cell_type": "code",
   "execution_count": null,
   "id": "d7c2b718",
   "metadata": {
    "deletable": false
   },
   "outputs": [],
   "source": [
    "crash_data = pd.DataFrame({'group': np.repeat([\"airbag\", \"no_airbag\"], [10541, 9867]), \n",
    "                           'outcome': np.repeat([\"dead\", \"alive\", \"dead\", \"alive\"], [45, 10541-45, 62, 9867-62])})"
   ]
  },
  {
   "cell_type": "markdown",
   "id": "8f50ade0",
   "metadata": {
    "deletable": false
   },
   "source": [
    "### Q16: In simple terms, what is the claim of the *null hypothesis* for the context above that we are naturally trying to provide evidence against? For $p$ indicating probability of death, how could this be formally stated with respect to the parameters $p_{airbag}$ and $p_{no-airbag}$ of the two populations in question? And what is $H_1$ in terms of $H_0$?\n",
    "\n",
    "#### Provide your written answer in the markdown cell below.\n",
    "- You can compare your answer with the example solution provided by MarkUs"
   ]
  },
  {
   "cell_type": "markdown",
   "id": "961ace92",
   "metadata": {},
   "source": [
    "> - Hint: Similar to our predicted ideas for the previous example, we may 'feel' that cars without airbags are more likely to result in death (although we have no evidence in favour of this idea yet!). Thus, we might only view when the probability of death with an airbag is **more** than the probability of death without an airbag as evidence against the null hypothesis. Formulating our null hypothesis in this manner is a *one-sided hypothesis test*, with the term 'one-sided' indicating that the \"as or more extreme\" only goes in one direction instead of two.   "
   ]
  },
  {
   "cell_type": "markdown",
   "id": "4e3418eb",
   "metadata": {
    "deletable": false
   },
   "source": [
    "> Answer here..."
   ]
  },
  {
   "cell_type": "code",
   "execution_count": null,
   "id": "7159b6e0",
   "metadata": {},
   "outputs": [],
   "source": [
    "hint = \"\\n\\nAUTOMATICALLY FAILING AUTOTEST: DOES NOT COUNT AGAINST STUDENT\\n\"\n",
    "hint += \"Included as an example answer for feedback purposes only\\n\\n\"\n",
    "hint += '''\n",
    "For cars with and without airbags having chance of death in a car crash of $p_{airbag}$ and $p_{no-airbag}$, respectively,\n",
    "we consider the one-sided hypothesis test\n",
    "\n",
    "$$H_0: p_{airbag} = p_{no-airbag} \\quad H_A:p_{airbag} < p_{no-airbag}$$\n",
    "\n",
    "which means if our test statistic is the difference between $p_{airbag}$ and $p_{no-airbag}$, \n",
    "the \"as or more extreme under the null hypothesis\" will only consider test statistics sampled under the null hypothesis \n",
    "which are less than or equal to the observed test statistic. Generally, one-sided hypothesis tests lead to \n",
    "smaller p-values since only half of the outcomes that would be considered \"as or more extreme\" are actually \n",
    "counted as being so.\n",
    "'''"
   ]
  },
  {
   "cell_type": "code",
   "execution_count": null,
   "id": "cae4b538",
   "metadata": {},
   "outputs": [],
   "source": [
    "# test_Q16\n",
    "assert False, hint"
   ]
  },
  {
   "cell_type": "markdown",
   "id": "3ad0741b",
   "metadata": {
    "deletable": false
   },
   "source": [
    "### Q17: Use \"label shuffling\" to simulate the sampling distribution of the test statistic of the difference between $\\hat p_{airbag}$ and $\\hat p_{no-airbag}$ under the assumption that the *null hypothesis* stated in the previous question is true and then compute a \"permutation test\" p-value of the observed test statistic relative to this simulated sampling distribution.\n",
    "\n",
    "> - Hint: The assumption that the *null hypothesis* stated in the previous question is true implies that the two samples must come from identical populations (with identical survivial proportions); thus, a permutation test p-value similar to the one computed in Q4 is an appropriate nonparametric p-value for this context. \n"
   ]
  },
  {
   "cell_type": "code",
   "execution_count": null,
   "id": "f21b34d0",
   "metadata": {},
   "outputs": [],
   "source": [
    "# space for scratch work if needed"
   ]
  },
  {
   "cell_type": "code",
   "execution_count": null,
   "id": "74111033",
   "metadata": {
    "deletable": false
   },
   "outputs": [],
   "source": [
    "# Code your answer here\n",
    "np.random.seed(None)  # Replace the seed with the 1st, 3rd, and 5th digits or your student number. Keep this line at the top!\n",
    "# Hint: you may want to data.replace({'dead': 1, 'alive': 0}) to replace 'dead' and 'alive' outcomes with 1's and 0's\n"
   ]
  },
  {
   "cell_type": "code",
   "execution_count": null,
   "id": "c9dff4e6",
   "metadata": {},
   "outputs": [],
   "source": [
    "seed = None   # Assign to `seed` to your integer seed number to be used for testing, E.g. `seed = 123`\n",
    "num_samples = None  # Assign to `num_samples` number of samples in your distribution E.g. `num_samples = 5000`\n",
    "p_value = None  # Assign to p_value your calculated p-value rounded to 3 decimal places (hint: consider using np.round function) E.g. `p_value = 0.799`\n",
    "Q17 = (seed, num_samples, p_value)  # Don't change assignment of Q17"
   ]
  },
  {
   "cell_type": "code",
   "execution_count": null,
   "id": "156e022e",
   "metadata": {},
   "outputs": [],
   "source": [
    "# test_Q17\n",
    "seed, num_samples, p_value = Q17\n",
    "np.random.seed(seed)\n",
    "\n",
    "# replace \"dead\" outcome with 1 and \"alive\" with 0, and calculate difference between means of airbag vs no airbag groups\n",
    "data_ones_and_zeros = crash_data.replace({'dead': 1, 'alive': 0})  # crash_data is not mutated(dataset itself does not change) \n",
    "# Instead, the changed dataset is stored in data_ones_and_zeros\n",
    "test_stat = np.diff(data_ones_and_zeros.groupby('group')['outcome'].mean())  \n",
    "\n",
    "# Sampling distribution\n",
    "simulated_values = []\n",
    "simdata = data_ones_and_zeros.copy()\n",
    "\n",
    "for i in range(num_samples):   \n",
    "    simdata['group'] = data_ones_and_zeros['group'].sample(frac=1).values  # shuffle group labels under null hypothesis assumption\n",
    "    sim_value = np.diff(simdata.groupby('group')['outcome'].mean())\n",
    "    simulated_values += [sim_value]\n",
    "\n",
    "# Calculate p-value\n",
    "num_more_extreme = (simulated_values >= test_stat).sum()  # no abs function as this is a one-sided test!\n",
    "calc_p_value = np.round(num_more_extreme / num_samples, 3)\n",
    "assert calc_p_value == p_value, \"You got \" + str(p_value) + \" for calculated p-value but should be \" + str(calc_p_value)"
   ]
  },
  {
   "cell_type": "markdown",
   "id": "e6da9829",
   "metadata": {
    "deletable": false
   },
   "source": [
    "### Q18: Which statement below best states the evidence you have against the *null hypothesis* based on your simulated p-value above?\n",
    "A. `0.10 < p-value` - No evidence against the null hypothesis  \n",
    "B. `0.05 < p-value < 0.10` - Weak evidence against the null hypothesis  \n",
    "C. `0.01 < p-value < 0.05` - Moderate evidence against the null hypothesis  \n",
    "D. `0.001 < p-value < 0.01` - Strong evidence against the null hypothesis  \n",
    "E. `p-value < 0.001` - Very strong evidence against the null hypothesis"
   ]
  },
  {
   "cell_type": "code",
   "execution_count": null,
   "id": "56c836d7",
   "metadata": {
    "deletable": false
   },
   "outputs": [],
   "source": [
    "# Q18: your answer will be tested!\n",
    "Q18 = None  # Assign either 'A' or 'B' or 'C' or 'D' or 'E' to `Q18` instead of `None`\n",
    "# E.g., Q18 = 'A'"
   ]
  },
  {
   "cell_type": "code",
   "execution_count": null,
   "id": "8a4c5404",
   "metadata": {},
   "outputs": [],
   "source": [
    "blank1, blank2 = '', ''\n",
    "if calc_p_value > 0.10:\n",
    "    solution = 'A'\n",
    "    blank1 = 'no'\n",
    "elif 0.05 < calc_p_value <= 0.10:\n",
    "    solution = 'B'\n",
    "    blank1 = 'weak'\n",
    "elif 0.01 < calc_p_value <= 0.05:\n",
    "    solution = 'C'\n",
    "    blank1 = 'moderate'\n",
    "elif 0.001 < calc_p_value <= 0.01:\n",
    "    solution = 'D'\n",
    "    blank1 = 'strong'\n",
    "else:\n",
    "    solution = 'E'\n",
    "    blank1 = 'very strong'\n",
    "\n",
    "hint = \"The null hypothesis assumes that there's no difference in the probability \\n\"\n",
    "hint += \"of death between the 'airbag' and 'no-airbag' populations in question.\\n\"\n",
    "hint += \"Your p-value of \" + str(calc_p_value) + \" represents \" + blank1 + \" evidence against the null hypothesis\\n\"\n",
    "hint += \"that the probability of death between the 'airbag' and 'no-airbag' groups is the same.\\n\\n\"\n",
    "hint += \"\\n\\nIf the evidence is quite good, the one-sided hypothesis test indicates that cars without airbags are\\n\"\n",
    "hint += \"MORE likely to result in death than cars with airbags; and rejecting the null hypothesis\\n\"\n",
    "hint += \"in favor of the alternative hypothesis, \\\"formally\\\" claims the cars without airbags group has a higher\\n\"\n",
    "hint += \"proportion of death.\"\n",
    "\n",
    "test = (Q18 == solution)"
   ]
  },
  {
   "cell_type": "markdown",
   "id": "2620cf0c",
   "metadata": {},
   "source": [
    "'https://www.jcpcarchives.org/userfiles/values-of-p-Inference.jpg'"
   ]
  },
  {
   "cell_type": "code",
   "execution_count": null,
   "id": "777bbe82",
   "metadata": {},
   "outputs": [],
   "source": [
    "# test_Q18\n",
    "assert test, hint"
   ]
  },
  {
   "cell_type": "markdown",
   "id": "1df85ca3",
   "metadata": {},
   "source": [
    "## Type I and II Errors\n",
    "As a reminder from last week's homework, in the analyses above you used a quantiative p-value to provide a qualitative statement of the evidence against the *null hypothesis*. This doesn't necessarily entail a formal decision about a *null hypothesis* (and there are many good reasons to proceed in this manner). However, it would also be possible to make a statement about the *null hypothesis* which should ideally take the form of \"I choose to reject the *null hypothesis* $H_0$ on the basis of the evidence at hand\", or contrarily \"I fail to reject the *null hypothesis*...\" \n",
    " \n",
    "In *formal statstical hypothesis testing*, wrongly rejecting a *null hypothesis* which is actually true is called a *type I error*.  \n",
    "Wrongly failing to reject a *null hypothesis* which is actually false is called a *type II error*."
   ]
  },
  {
   "cell_type": "markdown",
   "id": "c137c4f1",
   "metadata": {
    "deletable": false
   },
   "source": [
    "### Q19: Make a statement about the null hypothesis based on your analysis above. What kind of error could you have made in your conclusion?\n",
    "A. I choose to reject the *null hypothesis* $H_0$ on the basis of the evidence at hand, so if the probability of death for 'airbag' and 'no-airbag' is actually the same, then we have made a Type I Error.  \n",
    "\n",
    "B. I choose to reject the *null hypothesis* $H_0$ on the basis of the evidence at hand, so if the probability of death for 'airbag' and 'no-airbag' is actually the same, then we have made a Type II Error.   \n",
    "\n",
    "C. I fail to reject the *null hypothesis* $H_0$ on the basis of the evidence at hand, so if the probability of death for 'no-airbag' is actually more than 'airbag', then we have made a Type I Error.  \n",
    "\n",
    "D. I fail to reject the *null hypothesis* $H_0$ on the basis of the evidence at hand, so if the probability of death for 'no-airbag' is actually more than 'airbag', then we have made a Type II Error.   "
   ]
  },
  {
   "cell_type": "code",
   "execution_count": null,
   "id": "cde3b390",
   "metadata": {
    "deletable": false
   },
   "outputs": [],
   "source": [
    "# Q19: your answer will be tested!\n",
    "Q19 = None  # Assign either 'A' or 'B' or 'C' or 'D' to `Q19` instead of `None`\n",
    "# E.g., Q19 = A"
   ]
  },
  {
   "cell_type": "code",
   "execution_count": null,
   "id": "dc330028",
   "metadata": {},
   "outputs": [],
   "source": [
    "# test_Q19\n",
    "assert Q19 == 'A' or Q19 == 'D'"
   ]
  },
  {
   "cell_type": "markdown",
   "id": "f41ba201",
   "metadata": {
    "deletable": false
   },
   "source": [
    "### Q20: Does your conclusion support the claim that \"airbags save lives\"? Or does it seem reasonable to believe that there could be some sort of confounding (like in the Social Media and Anxiety problem) by which people who choose to drive in cars without airbags are just more likely on average do die if they're in a car crash irrespective of any safety benefit of airbags? \n",
    "Provide your written answer in the markdown cell below.  \n",
    "- This will be manually reviewed.  "
   ]
  },
  {
   "cell_type": "markdown",
   "id": "2c5b5e8d",
   "metadata": {
    "deletable": false
   },
   "source": [
    "> Answer here..."
   ]
  },
  {
   "cell_type": "markdown",
   "id": "359f8713",
   "metadata": {},
   "source": [
    "##### SAMPLE SOLUTION\n",
    "I would say it supports the claim that \"airbags save lives\". The nature of the confounding that would cause such an effect seems like it would need to be very strong for such a strange effect in order to account for the differences we're seeing without any positive safety effect of seatbelts themselves."
   ]
  },
  {
   "cell_type": "markdown",
   "id": "6bb0ae8a",
   "metadata": {
    "deletable": false
   },
   "source": [
    "## (OPTIONAL) practice specifying NULL Hypotheses\n",
    "- You may complete these questions for practice if you wish. ***You are not required to complete these questions as they ARE NOT included as part of your mark.***\n",
    "- You can compare your answers with the example solutions provided by MarkUs"
   ]
  },
  {
   "cell_type": "markdown",
   "id": "b6c53c57",
   "metadata": {
    "deletable": false
   },
   "source": [
    "We've covered two kinds of hypothesis tests. \n",
    "- In the first version we hypothesize a proportion in a population (the parameter $p$) and test that value using the proportion observed in the sample (the sample average $\\bar x$, also sometimes notated as $\\hat p$). These *ONE sample hypotheses tests* have a NULL hypothesis of the form $H_0: p = p_0$ (and of course the ALTERNATIVE hypothesis then takes the form $H_1: H_0 \\text{ is } \\texttt{FALSE}$).  Since this one-sample framework works for any average (not just proportions), another form of this test that is often encountered is $H_0: \\mu = \\mu_0$ where $\\mu$ is the mean of the population (corresponding to the sample average $\\bar x$). \n",
    "\n",
    "- In the second version we hypothesize a relationship between two populations, such as that both populations have the same mean or median (or proportion or standard deviation, etc.).  These *TWO sample hypotheses tests* have a NULL hypothesis of the form $H_0: \\mu_1 = \\mu_2$ or $H_0: p_1 = p_2$ (or $H_0: Median_1 = Median_2$ or $H_0: \\sigma_1 = \\sigma_2$, etc.) and of course the ALTERNATIVE hypothesis is still $H_1: H_0 \\text{ is } \\texttt{FALSE}$. \n",
    "\n"
   ]
  },
  {
   "cell_type": "markdown",
   "id": "31cf863f",
   "metadata": {
    "deletable": false
   },
   "source": [
    "### For each of the following scenarios, state appropriate hypotheses $H_0$ and $H_1$.  For each scenario, also state in simple terms what the claim of the NULL hypothesis is.\n",
    "\n",
    "Be sure to carefully define any parameters you refer to."
   ]
  },
  {
   "cell_type": "markdown",
   "id": "cf4338eb",
   "metadata": {
    "deletable": false
   },
   "source": [
    "### Q21: A health survey asked individuals to report the number of times they exercised each week. Researchers were interested in determining if the proportion of individuals who exercised at least 100 minutes per week differed between people who live in the condos vs people who do not live in condos."
   ]
  },
  {
   "cell_type": "markdown",
   "id": "0ded1619",
   "metadata": {
    "deletable": false
   },
   "source": [
    "> Answer here..."
   ]
  },
  {
   "cell_type": "code",
   "execution_count": null,
   "id": "6db9c482",
   "metadata": {},
   "outputs": [],
   "source": [
    "hint = \"\\n\\nAUTOMATICALLY FAILING AUTOTEST: DOES NOT COUNT AGAINST STUDENT\\n\"\n",
    "hint += \"Included as an example answer for feedback purposes only\\n\\n\"\n",
    "hint = ''' \n",
    "$H_0: p_{condo} = p_{nocondo}$ vs $H_A: p_{condo} \\\\neq p_{nocondo}$ \n",
    "where $p_{condo}$ is the proportion of daily condo owners/renters who exercise at least 100 min per week and $p_{nocondo}$ is the proportion of non-condo livers who exercise at least 100 min per week.\n",
    "'''"
   ]
  },
  {
   "cell_type": "code",
   "execution_count": null,
   "id": "5f37ea38",
   "metadata": {},
   "outputs": [],
   "source": [
    "# test_Q21\n",
    "assert False, hint"
   ]
  },
  {
   "cell_type": "markdown",
   "id": "5553a1cd",
   "metadata": {
    "deletable": false
   },
   "source": [
    "### Q22: A study was conducted to examine whether a baby is born prematurely/early (i.e., before their due date) to whether or not the baby's mother smoked while she was pregnant."
   ]
  },
  {
   "cell_type": "markdown",
   "id": "3d21aef6",
   "metadata": {
    "deletable": false
   },
   "source": [
    "> Answer here..."
   ]
  },
  {
   "cell_type": "code",
   "execution_count": null,
   "id": "e2fee1c2",
   "metadata": {},
   "outputs": [],
   "source": [
    "hint = \"\\n\\nAUTOMATICALLY FAILING AUTOTEST: DOES NOT COUNT AGAINST STUDENT\\n\"\n",
    "hint += \"Included as an example answer for feedback purposes only\\n\\n\"\n",
    "hint = ''' \n",
    "$H_0: p_{smoking} = p_{nonsmoking}$  vs $H_A: p_{smoking} \\\\neq p_{nonsmoking}$ \n",
    "where $p_{smoking}$ is the proportion of premature babies born to smoking mothers and $p_{nonsmoking}$ is the proportion of premature babies born to non-smoking mothers. Under the null hypothesis that there is no relationship between a baby's earliness and whether or not the mother smoked, there should be no difference between $p_{smoking}$ and $p_{nonsmoking}$.  Note that there are other correct ways to formulate these hypotheses.\n",
    "'''"
   ]
  },
  {
   "cell_type": "code",
   "execution_count": null,
   "id": "a22e1030",
   "metadata": {},
   "outputs": [],
   "source": [
    "# test_Q22\n",
    "assert False, hint"
   ]
  },
  {
   "cell_type": "markdown",
   "id": "36d133c2",
   "metadata": {
    "deletable": false
   },
   "source": [
    "### Q23: Nintendo is interested in whether or not their online advertisements are working. They record whether or not a user had seen an ad on a given day and their amount of spending on Nintendo products in the next 48 hours. They are interested in determining if there is an association between whether or not the user say an ad and their expenditures."
   ]
  },
  {
   "cell_type": "markdown",
   "id": "566515f9",
   "metadata": {
    "deletable": false
   },
   "source": [
    "> Answer here..."
   ]
  },
  {
   "cell_type": "code",
   "execution_count": null,
   "id": "5f149830",
   "metadata": {},
   "outputs": [],
   "source": [
    "hint = \"\\n\\nAUTOMATICALLY FAILING AUTOTEST: DOES NOT COUNT AGAINST STUDENT\\n\"\n",
    "hint += \"Included as an example answer for feedback purposes only\\n\\n\"\n",
    "hint = ''' \n",
    "Since the researcher is interested in comparing values of a numerical variable (spending) across two groups (seen or not seen the ad), a two-sample test comparing the mean (or median) spending for the two groups (saw ad vs did not see ad) would be appropriate.  \n",
    "$H_0: \\mu_{ad} = \\mu_{no.ad}$ vs $H_A: \\mu_{ad} \\\\neq \\mu_{no.ad}$ \n",
    "where $\\mu_{ad}$ is the mean spending for users who saw the ad and $\\mu_{no.ad}$ is the mean spending for those who did not see the ad.\n",
    "'''"
   ]
  },
  {
   "cell_type": "code",
   "execution_count": null,
   "id": "41481f0e",
   "metadata": {},
   "outputs": [],
   "source": [
    "# test_Q23\n",
    "assert False, hint"
   ]
  },
  {
   "cell_type": "markdown",
   "id": "5cbb2311",
   "metadata": {
    "deletable": false
   },
   "source": [
    "### Q24: Based on results from a survey of graduates from the University of Toronto, we would like to compare the median salaries of graduates from the statistics and graduates of mathematics programs."
   ]
  },
  {
   "cell_type": "markdown",
   "id": "a6c693ac",
   "metadata": {
    "deletable": false
   },
   "source": [
    "> Answer here..."
   ]
  },
  {
   "cell_type": "code",
   "execution_count": null,
   "id": "ffaedb69",
   "metadata": {},
   "outputs": [],
   "source": [
    "hint = \"\\n\\nAUTOMATICALLY FAILING AUTOTEST: DOES NOT COUNT AGAINST STUDENT\\n\"\n",
    "hint += \"Included as an example answer for feedback purposes only\\n\\n\"\n",
    "hint = ''' \n",
    "$H_0: M_{stat} = M_{math}$ vs $H_A: M_{stat} \\\\neq M_{math}$ \n",
    "where $M_{stat}$ is the median salary for graduates of statistics programs and $M_{math}$ is the median salary for graduates of math programs.\n",
    "'''"
   ]
  },
  {
   "cell_type": "code",
   "execution_count": null,
   "id": "9c9155aa",
   "metadata": {},
   "outputs": [],
   "source": [
    "# test_Q24\n",
    "assert False, hint"
   ]
  }
 ],
 "metadata": {
  "kernelspec": {
   "display_name": "Python 3 (ipykernel)",
   "language": "python",
   "name": "python3"
  },
  "language_info": {
   "codemirror_mode": {
    "name": "ipython",
    "version": 3
   },
   "file_extension": ".py",
   "mimetype": "text/x-python",
   "name": "python",
   "nbconvert_exporter": "python",
   "pygments_lexer": "ipython3",
   "version": "3.11.1"
  }
 },
 "nbformat": 4,
 "nbformat_minor": 6
}
